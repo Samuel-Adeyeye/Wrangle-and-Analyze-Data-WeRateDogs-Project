{
 "cells": [
  {
   "cell_type": "markdown",
   "metadata": {
    "extensions": {
     "jupyter_dashboards": {
      "version": 1,
      "views": {
       "grid_default": {
        "col": 0,
        "height": 4,
        "hidden": false,
        "row": 0,
        "width": 4
       },
       "report_default": {
        "hidden": false
       }
      }
     }
    }
   },
   "source": [
    "# Project: Wrangling and Analyze Data"
   ]
  },
  {
   "cell_type": "markdown",
   "metadata": {},
   "source": [
    "### Project Overview\n",
    "\n",
    "#### Introduction\n",
    "\n",
    "Real-world data rarely comes clean. Using Python and its libraries, in this project, I have gathered data from a variety of sources and in a variety of formats, assessed its quality and tidiness, then cleaned it. This is called data wrangling. I have documented my wrangling efforts in this Jupyter Notebook, as well as showcased them through analyses and visualizations using Python (and its libraries).\n",
    "\n",
    "The dataset used in the wrangling (and analyses and visualizations) is the tweet archive of Twitter user @dog_rates, also known as WeRateDogs. WeRateDogs is a Twitter account that rates people's dogs with a humorous comment about the dog. These ratings almost always have a denominator of 10. The numerators, though? Almost always greater than 10. 11/10, 12/10, 13/10, etc. Why? Because \"they're good dogs Brent.\" WeRateDogs has over 4 million followers and has received international media coverage.\n",
    "\n",
    "WeRateDogs downloaded their Twitter archive and sent it to Udacity via email exclusively for us to use in this project. This archive contains basic tweet data (tweet ID, timestamp, text, etc.) for all 5000+ of their tweets as they stood on August 1, 2017.\n",
    "\n",
    "\n",
    "#### Motivation\n",
    "\n",
    "My goal in this project is to wrangle WeRateDogs Twitter data to create interesting and trustworthy analyses and visualizations.\n",
    "\n",
    "#### The Data\n",
    "\n",
    "The following three datasets will be used in this study.\n",
    "\n",
    "- **Enhanced Twitter Archive:** This includes basic tweet data for all of their 5000+ tweets, but not all of it. I wanted to utilize this file, so I downloaded it.\n",
    "\n",
    "- **Additional Data via the Twitter API:** Returning to the Twitter archives, retweet count and favorite count are two notable column exclusions. Using the tweet IDs from the WeRateDogs Twitter archive, I'd use Python's Tweepy package to query the Twitter API for each tweet's JSON data, then save each tweet's whole set of JSON data in a file named tweet_json.txt. The .txt file is read into a pandas DataFrame\n",
    "\n",
    "- **Image Predictions File:** The tweet image predictions includes a table full of image predictions (the top three only) alongside each tweet ID, image URL, and the image number that corresponded to the most confident prediction (numbered 1 to 4 since tweets can have up to four images)"
   ]
  },
  {
   "cell_type": "markdown",
   "metadata": {},
   "source": [
    "### Project Steps Overview\n",
    "\n",
    "My tasks in this project are as follows:\n",
    "\n",
    "Step 1: Gathering data\n",
    "\n",
    "Step 2: Assessing data\n",
    "\n",
    "Step 3: Cleaning data\n",
    "\n",
    "Step 4: Storing data\n",
    "\n",
    "Step 5: Analyzing and visualizing data\n",
    "\n",
    "Step 6: Reporting"
   ]
  },
  {
   "cell_type": "markdown",
   "metadata": {},
   "source": [
    "### Import the required packages"
   ]
  },
  {
   "cell_type": "code",
   "execution_count": 1,
   "metadata": {},
   "outputs": [],
   "source": [
    "import requests\n",
    "import os\n",
    "import pandas as pd\n",
    "import numpy as np\n",
    "import tweepy\n",
    "from tweepy import OAuthHandler\n",
    "import json\n",
    "from timeit import default_timer as timer\n",
    "import warnings\n",
    "warnings.filterwarnings('ignore')\n",
    "import matplotlib.pyplot as plt\n",
    "%matplotlib inline\n",
    "from PIL import Image \n",
    "from io import BytesIO"
   ]
  },
  {
   "cell_type": "markdown",
   "metadata": {},
   "source": [
    "## Step 1: Gathering data\n",
    "In the cells below, I have gathered **all** three pieces of data for this project and loaded them in the notebook. **Note:** the methods required to gather each data are different."
   ]
  },
  {
   "cell_type": "markdown",
   "metadata": {},
   "source": [
    "1. Directly download the WeRateDogs Twitter archive data (twitter_archive_enhanced.csv)"
   ]
  },
  {
   "cell_type": "code",
   "execution_count": 2,
   "metadata": {},
   "outputs": [
    {
     "data": {
      "text/html": [
       "<div>\n",
       "<style scoped>\n",
       "    .dataframe tbody tr th:only-of-type {\n",
       "        vertical-align: middle;\n",
       "    }\n",
       "\n",
       "    .dataframe tbody tr th {\n",
       "        vertical-align: top;\n",
       "    }\n",
       "\n",
       "    .dataframe thead th {\n",
       "        text-align: right;\n",
       "    }\n",
       "</style>\n",
       "<table border=\"1\" class=\"dataframe\">\n",
       "  <thead>\n",
       "    <tr style=\"text-align: right;\">\n",
       "      <th></th>\n",
       "      <th>tweet_id</th>\n",
       "      <th>in_reply_to_status_id</th>\n",
       "      <th>in_reply_to_user_id</th>\n",
       "      <th>timestamp</th>\n",
       "      <th>source</th>\n",
       "      <th>text</th>\n",
       "      <th>retweeted_status_id</th>\n",
       "      <th>retweeted_status_user_id</th>\n",
       "      <th>retweeted_status_timestamp</th>\n",
       "      <th>expanded_urls</th>\n",
       "      <th>rating_numerator</th>\n",
       "      <th>rating_denominator</th>\n",
       "      <th>name</th>\n",
       "      <th>doggo</th>\n",
       "      <th>floofer</th>\n",
       "      <th>pupper</th>\n",
       "      <th>puppo</th>\n",
       "    </tr>\n",
       "  </thead>\n",
       "  <tbody>\n",
       "    <tr>\n",
       "      <th>0</th>\n",
       "      <td>892420643555336193</td>\n",
       "      <td>NaN</td>\n",
       "      <td>NaN</td>\n",
       "      <td>2017-08-01 16:23:56 +0000</td>\n",
       "      <td>&lt;a href=\"http://twitter.com/download/iphone\" r...</td>\n",
       "      <td>This is Phineas. He's a mystical boy. Only eve...</td>\n",
       "      <td>NaN</td>\n",
       "      <td>NaN</td>\n",
       "      <td>NaN</td>\n",
       "      <td>https://twitter.com/dog_rates/status/892420643...</td>\n",
       "      <td>13</td>\n",
       "      <td>10</td>\n",
       "      <td>Phineas</td>\n",
       "      <td>None</td>\n",
       "      <td>None</td>\n",
       "      <td>None</td>\n",
       "      <td>None</td>\n",
       "    </tr>\n",
       "    <tr>\n",
       "      <th>1</th>\n",
       "      <td>892177421306343426</td>\n",
       "      <td>NaN</td>\n",
       "      <td>NaN</td>\n",
       "      <td>2017-08-01 00:17:27 +0000</td>\n",
       "      <td>&lt;a href=\"http://twitter.com/download/iphone\" r...</td>\n",
       "      <td>This is Tilly. She's just checking pup on you....</td>\n",
       "      <td>NaN</td>\n",
       "      <td>NaN</td>\n",
       "      <td>NaN</td>\n",
       "      <td>https://twitter.com/dog_rates/status/892177421...</td>\n",
       "      <td>13</td>\n",
       "      <td>10</td>\n",
       "      <td>Tilly</td>\n",
       "      <td>None</td>\n",
       "      <td>None</td>\n",
       "      <td>None</td>\n",
       "      <td>None</td>\n",
       "    </tr>\n",
       "    <tr>\n",
       "      <th>2</th>\n",
       "      <td>891815181378084864</td>\n",
       "      <td>NaN</td>\n",
       "      <td>NaN</td>\n",
       "      <td>2017-07-31 00:18:03 +0000</td>\n",
       "      <td>&lt;a href=\"http://twitter.com/download/iphone\" r...</td>\n",
       "      <td>This is Archie. He is a rare Norwegian Pouncin...</td>\n",
       "      <td>NaN</td>\n",
       "      <td>NaN</td>\n",
       "      <td>NaN</td>\n",
       "      <td>https://twitter.com/dog_rates/status/891815181...</td>\n",
       "      <td>12</td>\n",
       "      <td>10</td>\n",
       "      <td>Archie</td>\n",
       "      <td>None</td>\n",
       "      <td>None</td>\n",
       "      <td>None</td>\n",
       "      <td>None</td>\n",
       "    </tr>\n",
       "    <tr>\n",
       "      <th>3</th>\n",
       "      <td>891689557279858688</td>\n",
       "      <td>NaN</td>\n",
       "      <td>NaN</td>\n",
       "      <td>2017-07-30 15:58:51 +0000</td>\n",
       "      <td>&lt;a href=\"http://twitter.com/download/iphone\" r...</td>\n",
       "      <td>This is Darla. She commenced a snooze mid meal...</td>\n",
       "      <td>NaN</td>\n",
       "      <td>NaN</td>\n",
       "      <td>NaN</td>\n",
       "      <td>https://twitter.com/dog_rates/status/891689557...</td>\n",
       "      <td>13</td>\n",
       "      <td>10</td>\n",
       "      <td>Darla</td>\n",
       "      <td>None</td>\n",
       "      <td>None</td>\n",
       "      <td>None</td>\n",
       "      <td>None</td>\n",
       "    </tr>\n",
       "    <tr>\n",
       "      <th>4</th>\n",
       "      <td>891327558926688256</td>\n",
       "      <td>NaN</td>\n",
       "      <td>NaN</td>\n",
       "      <td>2017-07-29 16:00:24 +0000</td>\n",
       "      <td>&lt;a href=\"http://twitter.com/download/iphone\" r...</td>\n",
       "      <td>This is Franklin. He would like you to stop ca...</td>\n",
       "      <td>NaN</td>\n",
       "      <td>NaN</td>\n",
       "      <td>NaN</td>\n",
       "      <td>https://twitter.com/dog_rates/status/891327558...</td>\n",
       "      <td>12</td>\n",
       "      <td>10</td>\n",
       "      <td>Franklin</td>\n",
       "      <td>None</td>\n",
       "      <td>None</td>\n",
       "      <td>None</td>\n",
       "      <td>None</td>\n",
       "    </tr>\n",
       "  </tbody>\n",
       "</table>\n",
       "</div>"
      ],
      "text/plain": [
       "             tweet_id  in_reply_to_status_id  in_reply_to_user_id  \\\n",
       "0  892420643555336193                    NaN                  NaN   \n",
       "1  892177421306343426                    NaN                  NaN   \n",
       "2  891815181378084864                    NaN                  NaN   \n",
       "3  891689557279858688                    NaN                  NaN   \n",
       "4  891327558926688256                    NaN                  NaN   \n",
       "\n",
       "                   timestamp  \\\n",
       "0  2017-08-01 16:23:56 +0000   \n",
       "1  2017-08-01 00:17:27 +0000   \n",
       "2  2017-07-31 00:18:03 +0000   \n",
       "3  2017-07-30 15:58:51 +0000   \n",
       "4  2017-07-29 16:00:24 +0000   \n",
       "\n",
       "                                              source  \\\n",
       "0  <a href=\"http://twitter.com/download/iphone\" r...   \n",
       "1  <a href=\"http://twitter.com/download/iphone\" r...   \n",
       "2  <a href=\"http://twitter.com/download/iphone\" r...   \n",
       "3  <a href=\"http://twitter.com/download/iphone\" r...   \n",
       "4  <a href=\"http://twitter.com/download/iphone\" r...   \n",
       "\n",
       "                                                text  retweeted_status_id  \\\n",
       "0  This is Phineas. He's a mystical boy. Only eve...                  NaN   \n",
       "1  This is Tilly. She's just checking pup on you....                  NaN   \n",
       "2  This is Archie. He is a rare Norwegian Pouncin...                  NaN   \n",
       "3  This is Darla. She commenced a snooze mid meal...                  NaN   \n",
       "4  This is Franklin. He would like you to stop ca...                  NaN   \n",
       "\n",
       "   retweeted_status_user_id retweeted_status_timestamp  \\\n",
       "0                       NaN                        NaN   \n",
       "1                       NaN                        NaN   \n",
       "2                       NaN                        NaN   \n",
       "3                       NaN                        NaN   \n",
       "4                       NaN                        NaN   \n",
       "\n",
       "                                       expanded_urls  rating_numerator  \\\n",
       "0  https://twitter.com/dog_rates/status/892420643...                13   \n",
       "1  https://twitter.com/dog_rates/status/892177421...                13   \n",
       "2  https://twitter.com/dog_rates/status/891815181...                12   \n",
       "3  https://twitter.com/dog_rates/status/891689557...                13   \n",
       "4  https://twitter.com/dog_rates/status/891327558...                12   \n",
       "\n",
       "   rating_denominator      name doggo floofer pupper puppo  \n",
       "0                  10   Phineas  None    None   None  None  \n",
       "1                  10     Tilly  None    None   None  None  \n",
       "2                  10    Archie  None    None   None  None  \n",
       "3                  10     Darla  None    None   None  None  \n",
       "4                  10  Franklin  None    None   None  None  "
      ]
     },
     "execution_count": 2,
     "metadata": {},
     "output_type": "execute_result"
    }
   ],
   "source": [
    "#I have directly downloaded the WeRateDogs Twitter archive data (twitter_archive_enhanced.csv) as provided by Udacity and read the data into a pandas DataFrame.\n",
    "\n",
    "twitter_archive = pd.read_csv('twitter-archive-enhanced.csv')\n",
    "twitter_archive.head()"
   ]
  },
  {
   "cell_type": "markdown",
   "metadata": {},
   "source": [
    "2. Use the Requests library to download the tweet image prediction (image_predictions.tsv)"
   ]
  },
  {
   "cell_type": "code",
   "execution_count": 3,
   "metadata": {},
   "outputs": [],
   "source": [
    "#I have used the Requests library to download the tweet image prediction (image_predictions.tsv)\n",
    "\n",
    "#If a directory does not already exist, create one.\n",
    "folder = 'image_predictions'\n",
    "if not os.path.exists(folder):\n",
    "    os.makedirs(folder)"
   ]
  },
  {
   "cell_type": "code",
   "execution_count": 5,
   "metadata": {},
   "outputs": [
    {
     "data": {
      "text/html": [
       "<div>\n",
       "<style scoped>\n",
       "    .dataframe tbody tr th:only-of-type {\n",
       "        vertical-align: middle;\n",
       "    }\n",
       "\n",
       "    .dataframe tbody tr th {\n",
       "        vertical-align: top;\n",
       "    }\n",
       "\n",
       "    .dataframe thead th {\n",
       "        text-align: right;\n",
       "    }\n",
       "</style>\n",
       "<table border=\"1\" class=\"dataframe\">\n",
       "  <thead>\n",
       "    <tr style=\"text-align: right;\">\n",
       "      <th></th>\n",
       "      <th>tweet_id</th>\n",
       "      <th>jpg_url</th>\n",
       "      <th>img_num</th>\n",
       "      <th>p1</th>\n",
       "      <th>p1_conf</th>\n",
       "      <th>p1_dog</th>\n",
       "      <th>p2</th>\n",
       "      <th>p2_conf</th>\n",
       "      <th>p2_dog</th>\n",
       "      <th>p3</th>\n",
       "      <th>p3_conf</th>\n",
       "      <th>p3_dog</th>\n",
       "    </tr>\n",
       "  </thead>\n",
       "  <tbody>\n",
       "    <tr>\n",
       "      <th>0</th>\n",
       "      <td>666020888022790149</td>\n",
       "      <td>https://pbs.twimg.com/media/CT4udn0WwAA0aMy.jpg</td>\n",
       "      <td>1</td>\n",
       "      <td>Welsh_springer_spaniel</td>\n",
       "      <td>0.465074</td>\n",
       "      <td>True</td>\n",
       "      <td>collie</td>\n",
       "      <td>0.156665</td>\n",
       "      <td>True</td>\n",
       "      <td>Shetland_sheepdog</td>\n",
       "      <td>0.061428</td>\n",
       "      <td>True</td>\n",
       "    </tr>\n",
       "    <tr>\n",
       "      <th>1</th>\n",
       "      <td>666029285002620928</td>\n",
       "      <td>https://pbs.twimg.com/media/CT42GRgUYAA5iDo.jpg</td>\n",
       "      <td>1</td>\n",
       "      <td>redbone</td>\n",
       "      <td>0.506826</td>\n",
       "      <td>True</td>\n",
       "      <td>miniature_pinscher</td>\n",
       "      <td>0.074192</td>\n",
       "      <td>True</td>\n",
       "      <td>Rhodesian_ridgeback</td>\n",
       "      <td>0.072010</td>\n",
       "      <td>True</td>\n",
       "    </tr>\n",
       "    <tr>\n",
       "      <th>2</th>\n",
       "      <td>666033412701032449</td>\n",
       "      <td>https://pbs.twimg.com/media/CT4521TWwAEvMyu.jpg</td>\n",
       "      <td>1</td>\n",
       "      <td>German_shepherd</td>\n",
       "      <td>0.596461</td>\n",
       "      <td>True</td>\n",
       "      <td>malinois</td>\n",
       "      <td>0.138584</td>\n",
       "      <td>True</td>\n",
       "      <td>bloodhound</td>\n",
       "      <td>0.116197</td>\n",
       "      <td>True</td>\n",
       "    </tr>\n",
       "    <tr>\n",
       "      <th>3</th>\n",
       "      <td>666044226329800704</td>\n",
       "      <td>https://pbs.twimg.com/media/CT5Dr8HUEAA-lEu.jpg</td>\n",
       "      <td>1</td>\n",
       "      <td>Rhodesian_ridgeback</td>\n",
       "      <td>0.408143</td>\n",
       "      <td>True</td>\n",
       "      <td>redbone</td>\n",
       "      <td>0.360687</td>\n",
       "      <td>True</td>\n",
       "      <td>miniature_pinscher</td>\n",
       "      <td>0.222752</td>\n",
       "      <td>True</td>\n",
       "    </tr>\n",
       "    <tr>\n",
       "      <th>4</th>\n",
       "      <td>666049248165822465</td>\n",
       "      <td>https://pbs.twimg.com/media/CT5IQmsXIAAKY4A.jpg</td>\n",
       "      <td>1</td>\n",
       "      <td>miniature_pinscher</td>\n",
       "      <td>0.560311</td>\n",
       "      <td>True</td>\n",
       "      <td>Rottweiler</td>\n",
       "      <td>0.243682</td>\n",
       "      <td>True</td>\n",
       "      <td>Doberman</td>\n",
       "      <td>0.154629</td>\n",
       "      <td>True</td>\n",
       "    </tr>\n",
       "  </tbody>\n",
       "</table>\n",
       "</div>"
      ],
      "text/plain": [
       "             tweet_id                                          jpg_url  \\\n",
       "0  666020888022790149  https://pbs.twimg.com/media/CT4udn0WwAA0aMy.jpg   \n",
       "1  666029285002620928  https://pbs.twimg.com/media/CT42GRgUYAA5iDo.jpg   \n",
       "2  666033412701032449  https://pbs.twimg.com/media/CT4521TWwAEvMyu.jpg   \n",
       "3  666044226329800704  https://pbs.twimg.com/media/CT5Dr8HUEAA-lEu.jpg   \n",
       "4  666049248165822465  https://pbs.twimg.com/media/CT5IQmsXIAAKY4A.jpg   \n",
       "\n",
       "   img_num                      p1   p1_conf  p1_dog                  p2  \\\n",
       "0        1  Welsh_springer_spaniel  0.465074    True              collie   \n",
       "1        1                 redbone  0.506826    True  miniature_pinscher   \n",
       "2        1         German_shepherd  0.596461    True            malinois   \n",
       "3        1     Rhodesian_ridgeback  0.408143    True             redbone   \n",
       "4        1      miniature_pinscher  0.560311    True          Rottweiler   \n",
       "\n",
       "    p2_conf  p2_dog                   p3   p3_conf  p3_dog  \n",
       "0  0.156665    True    Shetland_sheepdog  0.061428    True  \n",
       "1  0.074192    True  Rhodesian_ridgeback  0.072010    True  \n",
       "2  0.138584    True           bloodhound  0.116197    True  \n",
       "3  0.360687    True   miniature_pinscher  0.222752    True  \n",
       "4  0.243682    True             Doberman  0.154629    True  "
      ]
     },
     "execution_count": 5,
     "metadata": {},
     "output_type": "execute_result"
    }
   ],
   "source": [
    "#Using the Requests library, we will get the tweet image predictions TSV and save it as image_predictions.tsv.\n",
    "\n",
    "url = 'https://d17h27t6h515a5.cloudfront.net/topher/2017/August/599fd2ad_image-predictions/image-predictions.tsv'\n",
    "response = requests.get(url)\n",
    "\n",
    "#create a file\n",
    "with open('image_predictions.tsv', mode='wb') as file:\n",
    "    file.write(response.content)\n",
    "    \n",
    "#Import the TSV file with tweet image predictions into a DataFrame.\n",
    "image_prediction = pd.read_csv('image_predictions.tsv', sep='\\t')\n",
    "image_prediction.head()"
   ]
  },
  {
   "cell_type": "markdown",
   "metadata": {},
   "source": [
    "### Explaining the code above: \n",
    "- Requesting a file from a cloud storage service.\n",
    "- The response from the service is stored in a variable `response`.\n",
    "- Next is to open a text file called \"image_predictions.tsv\" in write mode.\n",
    "- Then write the response content to the file.\n",
    "- Read  the csv called \"image_predictions.tsv\" and separates the data by tabs.\n",
    "- Lastly show the first five rows of the data."
   ]
  },
  {
   "cell_type": "markdown",
   "metadata": {},
   "source": [
    "3. Use the Tweepy library to query additional data via the Twitter API (tweet_json.txt)"
   ]
  },
  {
   "cell_type": "code",
   "execution_count": 6,
   "metadata": {},
   "outputs": [],
   "source": [
    "# We will use the Tweepy library to query additional data via the Twitter API (tweet_json.txt)\n",
    "# Here, I will apply my Twitter API key and API secret codes in order to access the Twitter API\n",
    "my_api_key = \"*************************\"\n",
    "my_api_secret = \"************************\"\n",
    "# authenticate\n",
    "auth = tweepy.OAuthHandler(my_api_key, my_api_secret)\n",
    "api = tweepy.API(auth, wait_on_rate_limit=True)"
   ]
  },
  {
   "cell_type": "code",
   "execution_count": 7,
   "metadata": {},
   "outputs": [
    {
     "data": {
      "text/plain": [
       "2356"
      ]
     },
     "execution_count": 7,
     "metadata": {},
     "output_type": "execute_result"
    }
   ],
   "source": [
    "tweet_ids = twitter_archive.tweet_id.values\n",
    "len(tweet_ids)"
   ]
  },
  {
   "cell_type": "markdown",
   "metadata": {},
   "source": [
    "I'm going to use the Tweepy library to query each tweet's retweet and favorite (\"like\") count and save the results in tweet json.txt, but first I'm going to query Twitter's API for JSON data for each tweet ID in the Twitter archive.\n"
   ]
  },
  {
   "cell_type": "code",
   "execution_count": 8,
   "metadata": {},
   "outputs": [
    {
     "name": "stdout",
     "output_type": "stream",
     "text": [
      "The text of the status is : \n",
      "\n",
      "Stella Obasanjo. https://t.co/iQaCLpp8Uu\n",
      "\n",
      "The status was posted by : ikev007\n",
      "The status has been liked 23586 number of times.\n",
      "The status has been retweeted 4805 number of times.\n",
      "The number of followers of the user is 4569\n",
      "The number of favourites for the user who tweeted is 12653\n",
      "the timestamp of when the tweet was created is 2020-05-03 13:00:57+00:00\n"
     ]
    }
   ],
   "source": [
    "#Understanding how to use Python – API.get_status() in Tweepy\n",
    "\n",
    "ID = 1256931752171515904\n",
    "# obtaining the status\n",
    "status = api.get_status(ID)\n",
    "  \n",
    "# printing the text of the status\n",
    "print(\"The text of the status is : \\n\\n\" + status.text)\n",
    "  \n",
    "# printing the screen name\n",
    "print(\"\\nThe status was posted by : \" + status.user.screen_name)\n",
    "  \n",
    "# printing the number of likes\n",
    "print(\"The status has been liked \" + str(status.favorite_count) + \" number of times.\")\n",
    "  \n",
    "# printing the number of retweets\n",
    "print(\"The status has been retweeted \" + str(status.retweet_count) + \" number of times.\")\n",
    "\n",
    "# the amount of people who follow the person who tweeted\n",
    "print(\"The number of followers of the user is \" + str(status.user.followers_count))\n",
    "      \n",
    "# the number of favorites for the tweeter\n",
    "print(\"The number of favourites for the user who tweeted is \" + str(status.user.favourites_count))\n",
    "\n",
    "# the timestamp, or the date and time when the tweet was created\n",
    "print(\"the timestamp of when the tweet was created is \" + str(status.created_at))"
   ]
  },
  {
   "cell_type": "code",
   "execution_count": 9,
   "metadata": {},
   "outputs": [
    {
     "name": "stdout",
     "output_type": "stream",
     "text": [
      "891087950875897856 has Failed\n",
      "889278841981685760 has Failed\n",
      "888202515573088257 has Failed\n",
      "887517139158093824 has Failed\n",
      "887343217045368832 has Failed\n",
      "886983233522544640 has Failed\n",
      "886054160059072513 has Failed\n",
      "885528943205470208 has Failed\n",
      "884162670584377345 has Failed\n",
      "883838122936631299 has Failed\n",
      "882992080364220416 has Failed\n",
      "875097192612077568 has Failed\n",
      "873697596434513921 has Failed\n",
      "872668790621863937 has Failed\n",
      "872261713294495745 has Failed\n",
      "869988702071779329 has Failed\n",
      "866816280283807744 has Failed\n",
      "861769973181624320 has Failed\n",
      "861005113778896900 has Failed\n",
      "856602993587888130 has Failed\n",
      "856330835276025856 has Failed\n",
      "851953902622658560 has Failed\n",
      "851861385021730816 has Failed\n",
      "845459076796616705 has Failed\n",
      "844704788403113984 has Failed\n",
      "842892208864923648 has Failed\n",
      "837366284874571778 has Failed\n",
      "837012587749474308 has Failed\n",
      "829374341691346946 has Failed\n",
      "827228250799742977 has Failed\n",
      "812747805718642688 has Failed\n",
      "802247111496568832 has Failed\n",
      "787111942498508800 has Failed\n",
      "786963064373534720 has Failed\n",
      "786729988674449408 has Failed\n",
      "786709082849828864 has Failed\n",
      "786664955043049472 has Failed\n",
      "786595970293370880 has Failed\n",
      "786363235746385920 has Failed\n",
      "786286427768250368 has Failed\n",
      "786233965241827333 has Failed\n",
      "786051337297522688 has Failed\n",
      "786036967502913536 has Failed\n",
      "785927819176054784 has Failed\n",
      "785872687017132033 has Failed\n",
      "785639753186217984 has Failed\n",
      "785533386513321988 has Failed\n",
      "785515384317313025 has Failed\n",
      "785264754247995392 has Failed\n",
      "785170936622350336 has Failed\n",
      "784826020293709826 has Failed\n",
      "784517518371221505 has Failed\n",
      "784431430411685888 has Failed\n",
      "784183165795655680 has Failed\n",
      "784057939640352768 has Failed\n",
      "783839966405230592 has Failed\n",
      "783821107061198850 has Failed\n",
      "783695101801398276 has Failed\n",
      "783466772167098368 has Failed\n",
      "783391753726550016 has Failed\n",
      "783347506784731136 has Failed\n",
      "783334639985389568 has Failed\n",
      "783085703974514689 has Failed\n",
      "782969140009107456 has Failed\n",
      "782747134529531904 has Failed\n",
      "782722598790725632 has Failed\n",
      "782598640137187329 has Failed\n",
      "782305867769217024 has Failed\n",
      "782021823840026624 has Failed\n",
      "781955203444699136 has Failed\n",
      "781661882474196992 has Failed\n",
      "781655249211752448 has Failed\n",
      "781524693396357120 has Failed\n",
      "781308096455073793 has Failed\n",
      "781251288990355457 has Failed\n",
      "781163403222056960 has Failed\n",
      "780931614150983680 has Failed\n",
      "780858289093574656 has Failed\n",
      "780800785462489090 has Failed\n",
      "780601303617732608 has Failed\n",
      "780543529827336192 has Failed\n",
      "780496263422808064 has Failed\n",
      "780476555013349377 has Failed\n",
      "780459368902959104 has Failed\n",
      "780192070812196864 has Failed\n",
      "780092040432480260 has Failed\n",
      "780074436359819264 has Failed\n",
      "779834332596887552 has Failed\n",
      "779377524342161408 has Failed\n",
      "779124354206535695 has Failed\n",
      "779123168116150273 has Failed\n",
      "779056095788752897 has Failed\n",
      "778990705243029504 has Failed\n",
      "778774459159379968 has Failed\n",
      "778764940568104960 has Failed\n",
      "778748913645780993 has Failed\n",
      "778650543019483137 has Failed\n",
      "778624900596654080 has Failed\n",
      "778408200802557953 has Failed\n",
      "778396591732486144 has Failed\n",
      "778383385161035776 has Failed\n",
      "778286810187399168 has Failed\n",
      "778039087836069888 has Failed\n",
      "778027034220126208 has Failed\n",
      "777953400541634568 has Failed\n",
      "777885040357281792 has Failed\n",
      "777684233540206592 has Failed\n",
      "777641927919427584 has Failed\n",
      "777621514455814149 has Failed\n",
      "777189768882946048 has Failed\n",
      "776819012571455488 has Failed\n",
      "776813020089548800 has Failed\n",
      "776477788987613185 has Failed\n",
      "776249906839351296 has Failed\n",
      "776218204058357768 has Failed\n",
      "776201521193218049 has Failed\n",
      "776113305656188928 has Failed\n",
      "776088319444877312 has Failed\n",
      "775898661951791106 has Failed\n",
      "775842724423557120 has Failed\n",
      "775733305207554048 has Failed\n",
      "775729183532220416 has Failed\n",
      "775364825476165632 has Failed\n",
      "775350846108426240 has Failed\n",
      "775096608509886464 has Failed\n",
      "775085132600442880 has Failed\n",
      "774757898236878852 has Failed\n",
      "774639387460112384 has Failed\n",
      "774314403806253056 has Failed\n",
      "773985732834758656 has Failed\n",
      "773922284943896577 has Failed\n",
      "773704687002451968 has Failed\n",
      "773670353721753600 has Failed\n",
      "773547596996571136 has Failed\n",
      "773336787167145985 has Failed\n",
      "773308824254029826 has Failed\n",
      "773247561583001600 has Failed\n",
      "773191612633579521 has Failed\n",
      "772877495989305348 has Failed\n",
      "772826264096874500 has Failed\n",
      "772615324260794368 has Failed\n",
      "772581559778025472 has Failed\n",
      "772193107915964416 has Failed\n",
      "772152991789019136 has Failed\n",
      "772117678702071809 has Failed\n",
      "772114945936949249 has Failed\n",
      "772102971039580160 has Failed\n",
      "771908950375665664 has Failed\n",
      "771770456517009408 has Failed\n",
      "771500966810099713 has Failed\n",
      "771380798096281600 has Failed\n",
      "771171053431250945 has Failed\n",
      "771136648247640064 has Failed\n",
      "771102124360998913 has Failed\n",
      "771014301343748096 has Failed\n",
      "771004394259247104 has Failed\n",
      "770787852854652928 has Failed\n",
      "770772759874076672 has Failed\n",
      "770743923962707968 has Failed\n",
      "770655142660169732 has Failed\n",
      "770414278348247044 has Failed\n",
      "770293558247038976 has Failed\n",
      "770093767776997377 has Failed\n",
      "770069151037685760 has Failed\n",
      "769940425801170949 has Failed\n",
      "769695466921623552 has Failed\n",
      "769335591808995329 has Failed\n",
      "769212283578875904 has Failed\n",
      "768970937022709760 has Failed\n",
      "768909767477751808 has Failed\n",
      "768855141948723200 has Failed\n",
      "768609597686943744 has Failed\n",
      "768596291618299904 has Failed\n",
      "768554158521745409 has Failed\n",
      "768473857036525572 has Failed\n",
      "768193404517830656 has Failed\n",
      "767884188863397888 has Failed\n",
      "767754930266464257 has Failed\n",
      "767500508068192258 has Failed\n",
      "767191397493538821 has Failed\n",
      "767122157629476866 has Failed\n",
      "766864461642756096 has Failed\n",
      "766793450729734144 has Failed\n",
      "766714921925144576 has Failed\n",
      "766693177336135680 has Failed\n",
      "766423258543644672 has Failed\n",
      "766313316352462849 has Failed\n",
      "766078092750233600 has Failed\n",
      "766069199026450432 has Failed\n",
      "766008592277377025 has Failed\n",
      "765719909049503744 has Failed\n",
      "765669560888528897 has Failed\n",
      "765395769549590528 has Failed\n",
      "765371061932261376 has Failed\n",
      "765222098633691136 has Failed\n",
      "764857477905154048 has Failed\n",
      "764259802650378240 has Failed\n",
      "763956972077010945 has Failed\n",
      "763837565564780549 has Failed\n",
      "763183847194451968 has Failed\n",
      "763167063695355904 has Failed\n",
      "763103485927849985 has Failed\n",
      "762699858130116608 has Failed\n",
      "762471784394268675 has Failed\n",
      "762464539388485633 has Failed\n",
      "762316489655476224 has Failed\n",
      "762035686371364864 has Failed\n",
      "761976711479193600 has Failed\n",
      "761750502866649088 has Failed\n",
      "761745352076779520 has Failed\n",
      "761672994376806400 has Failed\n",
      "761599872357261312 has Failed\n",
      "761371037149827077 has Failed\n",
      "761334018830917632 has Failed\n",
      "761292947749015552 has Failed\n",
      "761227390836215808 has Failed\n",
      "761004547850530816 has Failed\n",
      "760893934457552897 has Failed\n",
      "760656994973933572 has Failed\n",
      "760641137271070720 has Failed\n",
      "760539183865880579 has Failed\n",
      "760521673607086080 has Failed\n",
      "760290219849637889 has Failed\n",
      "760252756032651264 has Failed\n",
      "760190180481531904 has Failed\n",
      "760153949710192640 has Failed\n",
      "759943073749200896 has Failed\n",
      "759923798737051648 has Failed\n",
      "759846353224826880 has Failed\n",
      "759793422261743616 has Failed\n",
      "759566828574212096 has Failed\n",
      "759557299618865152 has Failed\n",
      "759447681597108224 has Failed\n",
      "759446261539934208 has Failed\n",
      "759197388317847553 has Failed\n",
      "759159934323924993 has Failed\n",
      "759099523532779520 has Failed\n",
      "759047813560868866 has Failed\n",
      "758854675097526272 has Failed\n",
      "758828659922702336 has Failed\n",
      "758740312047005698 has Failed\n",
      "758474966123810816 has Failed\n",
      "758467244762497024 has Failed\n",
      "758405701903519748 has Failed\n",
      "758355060040593408 has Failed\n",
      "758099635764359168 has Failed\n",
      "758041019896193024 has Failed\n",
      "757741869644341248 has Failed\n",
      "757729163776290825 has Failed\n",
      "757725642876129280 has Failed\n",
      "757611664640446465 has Failed\n",
      "757597904299253760 has Failed\n",
      "757596066325864448 has Failed\n",
      "757400162377592832 has Failed\n",
      "757393109802180609 has Failed\n",
      "757354760399941633 has Failed\n",
      "756998049151549440 has Failed\n",
      "756939218950160384 has Failed\n",
      "756651752796094464 has Failed\n",
      "756526248105566208 has Failed\n",
      "756303284449767430 has Failed\n",
      "756288534030475264 has Failed\n",
      "756275833623502848 has Failed\n",
      "755955933503782912 has Failed\n",
      "755206590534418437 has Failed\n",
      "755110668769038337 has Failed\n",
      "754874841593970688 has Failed\n",
      "754856583969079297 has Failed\n",
      "754747087846248448 has Failed\n",
      "754482103782404096 has Failed\n",
      "754449512966619136 has Failed\n",
      "754120377874386944 has Failed\n",
      "754011816964026368 has Failed\n",
      "753655901052166144 has Failed\n",
      "753420520834629632 has Failed\n",
      "753398408988139520 has Failed\n",
      "753375668877008896 has Failed\n",
      "753298634498793472 has Failed\n",
      "753294487569522689 has Failed\n",
      "753039830821511168 has Failed\n",
      "753026973505581056 has Failed\n",
      "752932432744185856 has Failed\n",
      "752917284578922496 has Failed\n",
      "752701944171524096 has Failed\n",
      "752682090207055872 has Failed\n",
      "752660715232722944 has Failed\n",
      "752568224206688256 has Failed\n",
      "752519690950500352 has Failed\n",
      "752334515931054080 has Failed\n",
      "752309394570878976 has Failed\n",
      "752173152931807232 has Failed\n",
      "751950017322246144 has Failed\n",
      "751937170840121344 has Failed\n",
      "751830394383790080 has Failed\n",
      "751793661361422336 has Failed\n",
      "751598357617971201 has Failed\n",
      "751583847268179968 has Failed\n",
      "751538714308972544 has Failed\n",
      "751456908746354688 has Failed\n",
      "751251247299190784 has Failed\n",
      "751205363882532864 has Failed\n"
     ]
    },
    {
     "name": "stdout",
     "output_type": "stream",
     "text": [
      "751132876104687617 has Failed\n",
      "750868782890057730 has Failed\n",
      "750719632563142656 has Failed\n",
      "750506206503038976 has Failed\n",
      "750429297815552001 has Failed\n",
      "750383411068534784 has Failed\n",
      "750381685133418496 has Failed\n",
      "750147208377409536 has Failed\n",
      "750132105863102464 has Failed\n",
      "750117059602808832 has Failed\n",
      "750101899009982464 has Failed\n",
      "750086836815486976 has Failed\n",
      "750071704093859840 has Failed\n",
      "750056684286914561 has Failed\n",
      "750041628174217216 has Failed\n",
      "750026558547456000 has Failed\n",
      "750011400160841729 has Failed\n",
      "749996283729883136 has Failed\n",
      "749981277374128128 has Failed\n",
      "749774190421639168 has Failed\n",
      "749417653287129088 has Failed\n",
      "749403093750648834 has Failed\n",
      "749395845976588288 has Failed\n",
      "749317047558017024 has Failed\n",
      "749075273010798592 has Failed\n",
      "749064354620928000 has Failed\n",
      "749036806121881602 has Failed\n",
      "748977405889503236 has Failed\n",
      "748932637671223296 has Failed\n",
      "748705597323898880 has Failed\n",
      "748699167502000129 has Failed\n",
      "748692773788876800 has Failed\n",
      "748575535303884801 has Failed\n",
      "748568946752774144 has Failed\n",
      "748346686624440324 has Failed\n",
      "748337862848962560 has Failed\n",
      "748324050481647620 has Failed\n",
      "748307329658011649 has Failed\n",
      "748220828303695873 has Failed\n",
      "747963614829678593 has Failed\n",
      "747933425676525569 has Failed\n",
      "747885874273214464 has Failed\n",
      "747844099428986880 has Failed\n",
      "747816857231626240 has Failed\n",
      "747651430853525504 has Failed\n",
      "747648653817413632 has Failed\n",
      "747600769478692864 has Failed\n",
      "747594051852075008 has Failed\n",
      "747512671126323200 has Failed\n",
      "747461612269887489 has Failed\n",
      "747439450712596480 has Failed\n",
      "747242308580548608 has Failed\n",
      "747219827526344708 has Failed\n",
      "747204161125646336 has Failed\n",
      "747103485104099331 has Failed\n",
      "746906459439529985 has Failed\n",
      "746872823977771008 has Failed\n",
      "746818907684614144 has Failed\n",
      "746790600704425984 has Failed\n",
      "746757706116112384 has Failed\n",
      "746726898085036033 has Failed\n",
      "746542875601690625 has Failed\n",
      "746521445350707200 has Failed\n",
      "746507379341139972 has Failed\n",
      "746369468511756288 has Failed\n",
      "746131877086527488 has Failed\n",
      "746056683365994496 has Failed\n",
      "745789745784041472 has Failed\n",
      "745712589599014916 has Failed\n",
      "745433870967832576 has Failed\n",
      "745422732645535745 has Failed\n",
      "745314880350101504 has Failed\n",
      "745074613265149952 has Failed\n",
      "745057283344719872 has Failed\n",
      "744995568523612160 has Failed\n",
      "744971049620602880 has Failed\n",
      "744709971296780288 has Failed\n",
      "744334592493166593 has Failed\n",
      "744234799360020481 has Failed\n",
      "744223424764059648 has Failed\n",
      "743980027717509120 has Failed\n",
      "743895849529389061 has Failed\n",
      "743835915802583040 has Failed\n",
      "743609206067040256 has Failed\n",
      "743595368194129920 has Failed\n",
      "743545585370791937 has Failed\n",
      "743510151680958465 has Failed\n",
      "743253157753532416 has Failed\n",
      "743222593470234624 has Failed\n",
      "743210557239623680 has Failed\n",
      "742534281772302336 has Failed\n",
      "742528092657332225 has Failed\n",
      "742465774154047488 has Failed\n",
      "742423170473463808 has Failed\n",
      "742385895052087300 has Failed\n",
      "742161199639494656 has Failed\n",
      "742150209887731712 has Failed\n",
      "741793263812808706 has Failed\n",
      "741743634094141440 has Failed\n",
      "741438259667034112 has Failed\n",
      "741303864243200000 has Failed\n",
      "741099773336379392 has Failed\n",
      "741067306818797568 has Failed\n",
      "740995100998766593 has Failed\n",
      "740711788199743490 has Failed\n",
      "740699697422163968 has Failed\n",
      "740676976021798912 has Failed\n",
      "740373189193256964 has Failed\n",
      "740365076218183684 has Failed\n",
      "740359016048689152 has Failed\n",
      "740214038584557568 has Failed\n",
      "739979191639244800 has Failed\n",
      "739932936087216128 has Failed\n",
      "739844404073074688 has Failed\n",
      "739623569819336705 has Failed\n",
      "739606147276148736 has Failed\n",
      "739544079319588864 has Failed\n",
      "739485634323156992 has Failed\n",
      "739238157791694849 has Failed\n",
      "738891149612572673 has Failed\n",
      "738885046782832640 has Failed\n",
      "738883359779196928 has Failed\n",
      "738537504001953792 has Failed\n",
      "738402415918125056 has Failed\n",
      "738184450748633089 has Failed\n",
      "738166403467907072 has Failed\n",
      "738156290900254721 has Failed\n",
      "737826014890496000 has Failed\n",
      "737800304142471168 has Failed\n",
      "737678689543020544 has Failed\n",
      "737445876994609152 has Failed\n",
      "737322739594330112 has Failed\n",
      "737310737551491075 has Failed\n",
      "736736130620620800 has Failed\n",
      "736392552031657984 has Failed\n",
      "736365877722001409 has Failed\n",
      "736225175608430592 has Failed\n",
      "736010884653420544 has Failed\n",
      "735991953473572864 has Failed\n",
      "735648611367784448 has Failed\n",
      "735635087207878657 has Failed\n",
      "735274964362878976 has Failed\n",
      "735256018284875776 has Failed\n",
      "735137028879360001 has Failed\n",
      "734912297295085568 has Failed\n",
      "734787690684657664 has Failed\n",
      "734776360183431168 has Failed\n",
      "734559631394082816 has Failed\n",
      "733828123016450049 has Failed\n",
      "733822306246479872 has Failed\n",
      "733482008106668032 has Failed\n",
      "733460102733135873 has Failed\n",
      "733109485275860992 has Failed\n",
      "732732193018155009 has Failed\n",
      "732726085725589504 has Failed\n",
      "732585889486888962 has Failed\n",
      "732375214819057664 has Failed\n",
      "732005617171337216 has Failed\n",
      "731285275100512256 has Failed\n",
      "731156023742988288 has Failed\n",
      "730924654643314689 has Failed\n",
      "730573383004487680 has Failed\n",
      "730427201120833536 has Failed\n",
      "730211855403241472 has Failed\n",
      "730196704625098752 has Failed\n",
      "729854734790754305 has Failed\n",
      "729838605770891264 has Failed\n",
      "729823566028484608 has Failed\n",
      "729463711119904772 has Failed\n",
      "729113531270991872 has Failed\n",
      "728986383096946689 has Failed\n",
      "728760639972315136 has Failed\n",
      "728751179681943552 has Failed\n",
      "728653952833728512 has Failed\n",
      "728409960103686147 has Failed\n",
      "728387165835677696 has Failed\n",
      "728046963732717569 has Failed\n",
      "728035342121635841 has Failed\n",
      "728015554473250816 has Failed\n",
      "727685679342333952 has Failed\n",
      "727644517743104000 has Failed\n",
      "727524757080539137 has Failed\n",
      "727314416056803329 has Failed\n",
      "727286334147182592 has Failed\n",
      "727175381690781696 has Failed\n",
      "727155742655025152 has Failed\n",
      "726935089318363137 has Failed\n",
      "726887082820554753 has Failed\n",
      "726828223124897792 has Failed\n",
      "726224900189511680 has Failed\n",
      "725842289046749185 has Failed\n",
      "725786712245440512 has Failed\n",
      "725729321944506368 has Failed\n",
      "725458796924002305 has Failed\n",
      "724983749226668032 has Failed\n",
      "724771698126512129 has Failed\n",
      "724405726123311104 has Failed\n",
      "724049859469295616 has Failed\n",
      "724046343203856385 has Failed\n",
      "724004602748780546 has Failed\n",
      "723912936180330496 has Failed\n",
      "723688335806480385 has Failed\n",
      "723673163800948736 has Failed\n",
      "723179728551723008 has Failed\n",
      "722974582966214656 has Failed\n",
      "722613351520608256 has Failed\n",
      "721503162398597120 has Failed\n",
      "721001180231503872 has Failed\n",
      "720785406564900865 has Failed\n",
      "720775346191278080 has Failed\n",
      "720415127506415616 has Failed\n",
      "720389942216527872 has Failed\n",
      "720340705894408192 has Failed\n",
      "720059472081784833 has Failed\n",
      "720043174954147842 has Failed\n",
      "719991154352222208 has Failed\n",
      "719704490224398336 has Failed\n",
      "719551379208073216 has Failed\n",
      "719367763014393856 has Failed\n",
      "719339463458033665 has Failed\n",
      "719332531645071360 has Failed\n",
      "718971898235854848 has Failed\n",
      "718939241951195136 has Failed\n",
      "718631497683582976 has Failed\n",
      "718613305783398402 has Failed\n",
      "718540630683709445 has Failed\n",
      "718460005985447936 has Failed\n",
      "718454725339934721 has Failed\n",
      "718246886998687744 has Failed\n",
      "718234618122661888 has Failed\n",
      "717841801130979328 has Failed\n",
      "717790033953034240 has Failed\n",
      "717537687239008257 has Failed\n",
      "717428917016076293 has Failed\n",
      "717421804990701568 has Failed\n",
      "717047459982213120 has Failed\n",
      "717009362452090881 has Failed\n",
      "716802964044845056 has Failed\n",
      "716791146589110272 has Failed\n",
      "716730379797970944 has Failed\n",
      "716447146686459905 has Failed\n",
      "716439118184652801 has Failed\n",
      "716285507865542656 has Failed\n",
      "716080869887381504 has Failed\n",
      "715928423106027520 has Failed\n",
      "715758151270801409 has Failed\n",
      "715733265223708672 has Failed\n",
      "715704790270025728 has Failed\n",
      "715696743237730304 has Failed\n",
      "715680795826982913 has Failed\n",
      "715360349751484417 has Failed\n",
      "715342466308784130 has Failed\n",
      "715220193576927233 has Failed\n",
      "715200624753819648 has Failed\n",
      "715009755312439296 has Failed\n",
      "714982300363173890 has Failed\n",
      "714962719905021952 has Failed\n",
      "714957620017307648 has Failed\n",
      "714631576617938945 has Failed\n",
      "714606013974974464 has Failed\n",
      "714485234495041536 has Failed\n",
      "714258258790387713 has Failed\n",
      "714251586676113411 has Failed\n",
      "714214115368108032 has Failed\n",
      "714141408463036416 has Failed\n",
      "713919462244790272 has Failed\n",
      "713909862279876608 has Failed\n",
      "713900603437621249 has Failed\n",
      "713761197720473600 has Failed\n",
      "713411074226274305 has Failed\n",
      "713177543487135744 has Failed\n",
      "713175907180089344 has Failed\n",
      "712809025985978368 has Failed\n",
      "712717840512598017 has Failed\n",
      "712668654853337088 has Failed\n"
     ]
    },
    {
     "name": "stdout",
     "output_type": "stream",
     "text": [
      "712438159032893441 has Failed\n",
      "712309440758808576 has Failed\n",
      "712097430750289920 has Failed\n",
      "712092745624633345 has Failed\n",
      "712085617388212225 has Failed\n",
      "712065007010385924 has Failed\n",
      "711998809858043904 has Failed\n",
      "711968124745228288 has Failed\n",
      "711743778164514816 has Failed\n",
      "711732680602345472 has Failed\n",
      "711694788429553666 has Failed\n",
      "711652651650457602 has Failed\n",
      "711363825979756544 has Failed\n",
      "711306686208872448 has Failed\n",
      "711008018775851008 has Failed\n",
      "710997087345876993 has Failed\n",
      "710844581445812225 has Failed\n",
      "710833117892898816 has Failed\n",
      "710658690886586372 has Failed\n",
      "710609963652087808 has Failed\n",
      "710588934686908417 has Failed\n",
      "710296729921429505 has Failed\n",
      "710283270106132480 has Failed\n",
      "710272297844797440 has Failed\n",
      "710269109699739648 has Failed\n",
      "710153181850935296 has Failed\n",
      "710140971284037632 has Failed\n",
      "710117014656950272 has Failed\n",
      "709918798883774466 has Failed\n",
      "709901256215666688 has Failed\n",
      "709852847387627521 has Failed\n",
      "709566166965075968 has Failed\n",
      "709556954897764353 has Failed\n",
      "709519240576036864 has Failed\n",
      "709449600415961088 has Failed\n",
      "709409458133323776 has Failed\n",
      "709225125749587968 has Failed\n",
      "709207347839836162 has Failed\n",
      "709198395643068416 has Failed\n",
      "709179584944730112 has Failed\n",
      "709158332880297985 has Failed\n",
      "709042156699303936 has Failed\n",
      "708853462201716736 has Failed\n",
      "708845821941387268 has Failed\n",
      "708834316713893888 has Failed\n",
      "708810915978854401 has Failed\n",
      "708738143638450176 has Failed\n",
      "708711088997666817 has Failed\n",
      "708479650088034305 has Failed\n",
      "708469915515297792 has Failed\n",
      "708400866336894977 has Failed\n",
      "708356463048204288 has Failed\n",
      "708349470027751425 has Failed\n",
      "708149363256774660 has Failed\n",
      "708130923141795840 has Failed\n",
      "708119489313951744 has Failed\n",
      "708109389455101952 has Failed\n",
      "708026248782585858 has Failed\n",
      "707995814724026368 has Failed\n",
      "707983188426153984 has Failed\n",
      "707969809498152960 has Failed\n",
      "707776935007539200 has Failed\n",
      "707741517457260545 has Failed\n",
      "707738799544082433 has Failed\n",
      "707693576495472641 has Failed\n",
      "707629649552134146 has Failed\n",
      "707610948723478529 has Failed\n",
      "707420581654872064 has Failed\n",
      "707411934438625280 has Failed\n",
      "707387676719185920 has Failed\n",
      "707377100785885184 has Failed\n",
      "707315916783140866 has Failed\n",
      "707297311098011648 has Failed\n",
      "707059547140169728 has Failed\n",
      "707038192327901184 has Failed\n",
      "707021089608753152 has Failed\n",
      "707014260413456384 has Failed\n",
      "706904523814649856 has Failed\n",
      "706901761596989440 has Failed\n",
      "706681918348251136 has Failed\n",
      "706644897839910912 has Failed\n",
      "706593038911545345 has Failed\n",
      "706538006853918722 has Failed\n",
      "706516534877929472 has Failed\n",
      "706346369204748288 has Failed\n",
      "706310011488698368 has Failed\n",
      "706291001778950144 has Failed\n",
      "706265994973601792 has Failed\n",
      "706169069255446529 has Failed\n",
      "706166467411222528 has Failed\n",
      "706153300320784384 has Failed\n",
      "705975130514706432 has Failed\n",
      "705970349788291072 has Failed\n",
      "705898680587526145 has Failed\n",
      "705786532653883392 has Failed\n",
      "705591895322394625 has Failed\n",
      "705475953783398401 has Failed\n",
      "705442520700944385 has Failed\n",
      "705428427625635840 has Failed\n",
      "705239209544720384 has Failed\n",
      "705223444686888960 has Failed\n",
      "705102439679201280 has Failed\n",
      "705066031337840642 has Failed\n",
      "704871453724954624 has Failed\n",
      "704859558691414016 has Failed\n",
      "704847917308362754 has Failed\n",
      "704819833553219584 has Failed\n",
      "704761120771465216 has Failed\n",
      "704499785726889984 has Failed\n",
      "704491224099647488 has Failed\n",
      "704480331685040129 has Failed\n",
      "704364645503647744 has Failed\n",
      "704347321748819968 has Failed\n",
      "704134088924532736 has Failed\n",
      "704113298707505153 has Failed\n",
      "704054845121142784 has Failed\n",
      "703774238772166656 has Failed\n",
      "703769065844768768 has Failed\n",
      "703631701117943808 has Failed\n",
      "703611486317502464 has Failed\n",
      "703425003149250560 has Failed\n",
      "703407252292673536 has Failed\n",
      "703382836347330562 has Failed\n",
      "703356393781329922 has Failed\n",
      "703268521220972544 has Failed\n",
      "703079050210877440 has Failed\n",
      "703041949650034688 has Failed\n",
      "702932127499816960 has Failed\n",
      "702899151802126337 has Failed\n",
      "702684942141153280 has Failed\n",
      "702671118226825216 has Failed\n",
      "702598099714314240 has Failed\n",
      "702539513671897089 has Failed\n",
      "702332542343577600 has Failed\n",
      "702321140488925184 has Failed\n",
      "702276748847800320 has Failed\n",
      "702217446468493312 has Failed\n",
      "701981390485725185 has Failed\n",
      "701952816642965504 has Failed\n",
      "701889187134500865 has Failed\n",
      "701805642395348998 has Failed\n",
      "701601587219795968 has Failed\n",
      "701570477911896070 has Failed\n",
      "701545186879471618 has Failed\n",
      "701214700881756160 has Failed\n",
      "700890391244103680 has Failed\n",
      "700864154249383937 has Failed\n",
      "700847567345688576 has Failed\n",
      "700796979434098688 has Failed\n",
      "700747788515020802 has Failed\n",
      "700518061187723268 has Failed\n",
      "700505138482569216 has Failed\n",
      "700462010979500032 has Failed\n",
      "700167517596164096 has Failed\n",
      "700151421916807169 has Failed\n",
      "700143752053182464 has Failed\n",
      "700062718104104960 has Failed\n",
      "700029284593901568 has Failed\n",
      "700002074055016451 has Failed\n",
      "699801817392291840 has Failed\n",
      "699788877217865730 has Failed\n",
      "699779630832685056 has Failed\n",
      "699775878809702401 has Failed\n",
      "699691744225525762 has Failed\n",
      "699446877801091073 has Failed\n",
      "699434518667751424 has Failed\n",
      "699423671849451520 has Failed\n",
      "699413908797464576 has Failed\n",
      "699370870310113280 has Failed\n",
      "699323444782047232 has Failed\n",
      "699088579889332224 has Failed\n",
      "699079609774645248 has Failed\n",
      "699072405256409088 has Failed\n",
      "699060279947165696 has Failed\n",
      "699036661657767936 has Failed\n",
      "698989035503689728 has Failed\n",
      "698953797952008193 has Failed\n",
      "698907974262222848 has Failed\n",
      "698710712454139905 has Failed\n",
      "698703483621523456 has Failed\n",
      "698635131305795584 has Failed\n",
      "698549713696649216 has Failed\n",
      "698355670425473025 has Failed\n",
      "698342080612007937 has Failed\n",
      "698262614669991936 has Failed\n",
      "698195409219559425 has Failed\n",
      "698178924120031232 has Failed\n",
      "697995514407682048 has Failed\n",
      "697990423684476929 has Failed\n",
      "697943111201378304 has Failed\n",
      "697881462549430272 has Failed\n",
      "697630435728322560 has Failed\n",
      "697616773278015490 has Failed\n",
      "697596423848730625 has Failed\n",
      "697575480820686848 has Failed\n",
      "697516214579523584 has Failed\n",
      "697482927769255936 has Failed\n",
      "697463031882764288 has Failed\n",
      "697270446429966336 has Failed\n",
      "697259378236399616 has Failed\n",
      "697255105972801536 has Failed\n",
      "697242256848379904 has Failed\n",
      "696900204696625153 has Failed\n",
      "696894894812565505 has Failed\n",
      "696886256886657024 has Failed\n",
      "696877980375769088 has Failed\n",
      "696754882863349760 has Failed\n",
      "696744641916489729 has Failed\n",
      "696713835009417216 has Failed\n",
      "696518437233913856 has Failed\n",
      "696490539101908992 has Failed\n",
      "696488710901260288 has Failed\n",
      "696405997980676096 has Failed\n",
      "696100768806522880 has Failed\n",
      "695816827381944320 has Failed\n",
      "695794761660297217 has Failed\n",
      "695767669421768709 has Failed\n",
      "695629776980148225 has Failed\n",
      "695446424020918272 has Failed\n",
      "695409464418041856 has Failed\n",
      "695314793360662529 has Failed\n",
      "695095422348574720 has Failed\n",
      "695074328191332352 has Failed\n",
      "695064344191721472 has Failed\n",
      "695051054296211456 has Failed\n",
      "694925794720792577 has Failed\n",
      "694905863685980160 has Failed\n",
      "694669722378485760 has Failed\n",
      "694356675654983680 has Failed\n",
      "694352839993344000 has Failed\n",
      "694342028726001664 has Failed\n",
      "694329668942569472 has Failed\n",
      "694206574471057408 has Failed\n",
      "694183373896572928 has Failed\n",
      "694001791655137281 has Failed\n",
      "693993230313091072 has Failed\n",
      "693942351086120961 has Failed\n",
      "693647888581312512 has Failed\n",
      "693644216740769793 has Failed\n",
      "693642232151285760 has Failed\n",
      "693629975228977152 has Failed\n",
      "693622659251335168 has Failed\n",
      "693590843962331137 has Failed\n",
      "693582294167244802 has Failed\n",
      "693486665285931008 has Failed\n",
      "693280720173801472 has Failed\n",
      "693267061318012928 has Failed\n",
      "693262851218264065 has Failed\n",
      "693231807727280129 has Failed\n",
      "693155686491000832 has Failed\n",
      "693109034023534592 has Failed\n",
      "693095443459342336 has Failed\n",
      "692919143163629568 has Failed\n",
      "692905862751522816 has Failed\n",
      "692901601640583168 has Failed\n",
      "692894228850999298 has Failed\n",
      "692828166163931137 has Failed\n",
      "692752401762250755 has Failed\n",
      "692568918515392513 has Failed\n",
      "692535307825213440 has Failed\n",
      "692530551048294401 has Failed\n",
      "692423280028966913 has Failed\n",
      "692417313023332352 has Failed\n",
      "692187005137076224 has Failed\n",
      "692158366030913536 has Failed\n",
      "692142790915014657 has Failed\n",
      "692041934689402880 has Failed\n",
      "692017291282812928 has Failed\n",
      "691820333922455552 has Failed\n",
      "691793053716221953 has Failed\n",
      "691756958957883396 has Failed\n",
      "691675652215414786 has Failed\n",
      "691483041324204033 has Failed\n",
      "691459709405118465 has Failed\n",
      "691444869282295808 has Failed\n",
      "691416866452082688 has Failed\n"
     ]
    },
    {
     "name": "stdout",
     "output_type": "stream",
     "text": [
      "691321916024623104 has Failed\n",
      "691096613310316544 has Failed\n",
      "691090071332753408 has Failed\n",
      "690989312272396288 has Failed\n",
      "690959652130045952 has Failed\n",
      "690938899477221376 has Failed\n",
      "690932576555528194 has Failed\n",
      "690735892932222976 has Failed\n",
      "690728923253055490 has Failed\n",
      "690690673629138944 has Failed\n",
      "690649993829576704 has Failed\n",
      "690607260360429569 has Failed\n",
      "690597161306841088 has Failed\n",
      "690400367696297985 has Failed\n",
      "690374419777196032 has Failed\n",
      "690360449368465409 has Failed\n",
      "690348396616552449 has Failed\n",
      "690248561355657216 has Failed\n",
      "690021994562220032 has Failed\n",
      "690015576308211712 has Failed\n",
      "690005060500217858 has Failed\n",
      "689999384604450816 has Failed\n",
      "689993469801164801 has Failed\n",
      "689977555533848577 has Failed\n",
      "689905486972461056 has Failed\n",
      "689877686181715968 has Failed\n",
      "689835978131935233 has Failed\n",
      "689661964914655233 has Failed\n",
      "689659372465688576 has Failed\n",
      "689623661272240129 has Failed\n",
      "689599056876867584 has Failed\n",
      "689557536375177216 has Failed\n",
      "689517482558820352 has Failed\n",
      "689289219123089408 has Failed\n",
      "689283819090870273 has Failed\n",
      "689280876073582592 has Failed\n",
      "689275259254616065 has Failed\n",
      "689255633275777024 has Failed\n",
      "689154315265683456 has Failed\n",
      "689143371370250240 has Failed\n",
      "688916208532455424 has Failed\n",
      "688908934925697024 has Failed\n",
      "688898160958271489 has Failed\n",
      "688894073864884227 has Failed\n",
      "688828561667567616 has Failed\n",
      "688804835492233216 has Failed\n",
      "688789766343622656 has Failed\n",
      "688547210804498433 has Failed\n",
      "688519176466644993 has Failed\n",
      "688385280030670848 has Failed\n",
      "688211956440801280 has Failed\n",
      "688179443353796608 has Failed\n",
      "688116655151435777 has Failed\n",
      "688064179421470721 has Failed\n",
      "687841446767013888 has Failed\n",
      "687826841265172480 has Failed\n",
      "687818504314159109 has Failed\n",
      "687807801670897665 has Failed\n",
      "687732144991551489 has Failed\n",
      "687704180304273409 has Failed\n",
      "687664829264453632 has Failed\n",
      "687494652870668288 has Failed\n",
      "687480748861947905 has Failed\n",
      "687476254459715584 has Failed\n",
      "687460506001633280 has Failed\n",
      "687399393394311168 has Failed\n",
      "687317306314240000 has Failed\n",
      "687312378585812992 has Failed\n",
      "687127927494963200 has Failed\n",
      "687124485711986689 has Failed\n",
      "687109925361856513 has Failed\n",
      "687102708889812993 has Failed\n",
      "687096057537363968 has Failed\n",
      "686947101016735744 has Failed\n",
      "686760001961103360 has Failed\n",
      "686749460672679938 has Failed\n",
      "686730991906516992 has Failed\n",
      "686683045143953408 has Failed\n",
      "686618349602762752 has Failed\n",
      "686606069955735556 has Failed\n",
      "686394059078897668 has Failed\n",
      "686386521809772549 has Failed\n",
      "686377065986265092 has Failed\n",
      "686358356425093120 has Failed\n",
      "686286779679375361 has Failed\n",
      "686050296934563840 has Failed\n",
      "686035780142297088 has Failed\n",
      "686034024800862208 has Failed\n",
      "686007916130873345 has Failed\n",
      "686003207160610816 has Failed\n",
      "685973236358713344 has Failed\n",
      "685943807276412928 has Failed\n",
      "685906723014619143 has Failed\n",
      "685681090388975616 has Failed\n",
      "685667379192414208 has Failed\n",
      "685663452032069632 has Failed\n",
      "685641971164143616 has Failed\n",
      "685547936038666240 has Failed\n",
      "685532292383666176 has Failed\n",
      "685325112850124800 has Failed\n",
      "685321586178670592 has Failed\n",
      "685315239903100929 has Failed\n",
      "685307451701334016 has Failed\n",
      "685268753634967552 has Failed\n",
      "685198997565345792 has Failed\n",
      "685169283572338688 has Failed\n",
      "684969860808454144 has Failed\n",
      "684959798585110529 has Failed\n",
      "684940049151070208 has Failed\n",
      "684926975086034944 has Failed\n",
      "684914660081053696 has Failed\n",
      "684902183876321280 has Failed\n",
      "684880619965411328 has Failed\n",
      "684830982659280897 has Failed\n",
      "684800227459624960 has Failed\n",
      "684594889858887680 has Failed\n",
      "684588130326986752 has Failed\n",
      "684567543613382656 has Failed\n",
      "684538444857667585 has Failed\n",
      "684481074559381504 has Failed\n",
      "684460069371654144 has Failed\n",
      "684241637099323392 has Failed\n",
      "684225744407494656 has Failed\n",
      "684222868335505415 has Failed\n",
      "684200372118904832 has Failed\n",
      "684195085588783105 has Failed\n",
      "684188786104872960 has Failed\n",
      "684177701129875456 has Failed\n",
      "684147889187209216 has Failed\n",
      "684122891630342144 has Failed\n",
      "684097758874210310 has Failed\n",
      "683857920510050305 has Failed\n",
      "683852578183077888 has Failed\n",
      "683849932751646720 has Failed\n",
      "683834909291606017 has Failed\n",
      "683828599284170753 has Failed\n",
      "683773439333797890 has Failed\n",
      "683742671509258241 has Failed\n",
      "683515932363329536 has Failed\n",
      "683498322573824003 has Failed\n",
      "683481228088049664 has Failed\n",
      "683462770029932544 has Failed\n",
      "683449695444799489 has Failed\n",
      "683391852557561860 has Failed\n",
      "683357973142474752 has Failed\n",
      "683142553609318400 has Failed\n",
      "683111407806746624 has Failed\n",
      "683098815881154561 has Failed\n",
      "683078886620553216 has Failed\n",
      "683030066213818368 has Failed\n",
      "682962037429899265 has Failed\n",
      "682808988178739200 has Failed\n",
      "682788441537560576 has Failed\n",
      "682750546109968385 has Failed\n",
      "682697186228989953 has Failed\n",
      "682662431982772225 has Failed\n",
      "682638830361513985 has Failed\n",
      "682429480204398592 has Failed\n",
      "682406705142087680 has Failed\n",
      "682393905736888321 has Failed\n",
      "682389078323662849 has Failed\n",
      "682303737705140231 has Failed\n",
      "682259524040966145 has Failed\n",
      "682242692827447297 has Failed\n",
      "682088079302213632 has Failed\n",
      "682059653698686977 has Failed\n",
      "682047327939461121 has Failed\n",
      "682032003584274432 has Failed\n",
      "682003177596559360 has Failed\n",
      "681981167097122816 has Failed\n",
      "681891461017812993 has Failed\n",
      "681694085539872773 has Failed\n",
      "681679526984871937 has Failed\n",
      "681654059175129088 has Failed\n",
      "681610798867845120 has Failed\n",
      "681579835668455424 has Failed\n",
      "681523177663676416 has Failed\n",
      "681340665377193984 has Failed\n",
      "681339448655802368 has Failed\n",
      "681320187870711809 has Failed\n",
      "681302363064414209 has Failed\n",
      "681297372102656000 has Failed\n",
      "681281657291280384 has Failed\n",
      "681261549936340994 has Failed\n",
      "681242418453299201 has Failed\n",
      "681231109724700672 has Failed\n",
      "681193455364796417 has Failed\n",
      "680970795137544192 has Failed\n",
      "680959110691590145 has Failed\n",
      "680940246314430465 has Failed\n",
      "680934982542561280 has Failed\n",
      "680913438424612864 has Failed\n",
      "680889648562991104 has Failed\n",
      "680836378243002368 has Failed\n",
      "680805554198020098 has Failed\n",
      "680801747103793152 has Failed\n",
      "680798457301471234 has Failed\n",
      "680609293079592961 has Failed\n",
      "680583894916304897 has Failed\n",
      "680497766108381184 has Failed\n",
      "680494726643068929 has Failed\n",
      "680473011644985345 has Failed\n",
      "680440374763077632 has Failed\n",
      "680221482581123072 has Failed\n",
      "680206703334408192 has Failed\n",
      "680191257256136705 has Failed\n",
      "680176173301628928 has Failed\n",
      "680161097740095489 has Failed\n",
      "680145970311643136 has Failed\n",
      "680130881361686529 has Failed\n",
      "680115823365742593 has Failed\n",
      "680100725817409536 has Failed\n",
      "680085611152338944 has Failed\n",
      "680070545539371008 has Failed\n",
      "680055455951884288 has Failed\n",
      "679877062409191424 has Failed\n",
      "679872969355714560 has Failed\n",
      "679862121895714818 has Failed\n",
      "679854723806179328 has Failed\n",
      "679844490799091713 has Failed\n",
      "679828447187857408 has Failed\n",
      "679777920601223168 has Failed\n",
      "679736210798047232 has Failed\n",
      "679729593985699840 has Failed\n",
      "679722016581222400 has Failed\n",
      "679530280114372609 has Failed\n",
      "679527802031484928 has Failed\n",
      "679511351870550016 has Failed\n",
      "679503373272485890 has Failed\n",
      "679475951516934144 has Failed\n",
      "679462823135686656 has Failed\n",
      "679405845277462528 has Failed\n",
      "679158373988876288 has Failed\n",
      "679148763231985668 has Failed\n",
      "679132435750195208 has Failed\n",
      "679111216690831360 has Failed\n",
      "679062614270468097 has Failed\n",
      "679047485189439488 has Failed\n",
      "679001094530465792 has Failed\n",
      "678991772295516161 has Failed\n",
      "678969228704284672 has Failed\n",
      "678800283649069056 has Failed\n",
      "678798276842360832 has Failed\n",
      "678774928607469569 has Failed\n",
      "678767140346941444 has Failed\n",
      "678764513869611008 has Failed\n",
      "678755239630127104 has Failed\n",
      "678740035362037760 has Failed\n",
      "678708137298427904 has Failed\n",
      "678675843183484930 has Failed\n",
      "678643457146150913 has Failed\n",
      "678446151570427904 has Failed\n",
      "678424312106393600 has Failed\n",
      "678410210315247616 has Failed\n",
      "678399652199309312 has Failed\n",
      "678396796259975168 has Failed\n",
      "678389028614488064 has Failed\n",
      "678380236862578688 has Failed\n",
      "678341075375947776 has Failed\n",
      "678334497360859136 has Failed\n",
      "678278586130948096 has Failed\n",
      "678255464182861824 has Failed\n",
      "678023323247357953 has Failed\n",
      "678021115718029313 has Failed\n",
      "677961670166224897 has Failed\n",
      "677918531514703872 has Failed\n",
      "677895101218201600 has Failed\n",
      "677716515794329600 has Failed\n",
      "677700003327029250 has Failed\n",
      "677698403548192770 has Failed\n",
      "677687604918272002 has Failed\n",
      "677673981332312066 has Failed\n",
      "677662372920729601 has Failed\n",
      "677644091929329666 has Failed\n",
      "677573743309385728 has Failed\n",
      "677565715327688705 has Failed\n",
      "677557565589463040 has Failed\n",
      "677547928504967168 has Failed\n",
      "677530072887205888 has Failed\n",
      "677335745548390400 has Failed\n",
      "677334615166730240 has Failed\n",
      "677331501395156992 has Failed\n",
      "677328882937298944 has Failed\n",
      "677314812125323265 has Failed\n",
      "677301033169788928 has Failed\n",
      "677269281705472000 has Failed\n",
      "677228873407442944 has Failed\n",
      "677187300187611136 has Failed\n",
      "676975532580409345 has Failed\n",
      "676957860086095872 has Failed\n",
      "676949632774234114 has Failed\n",
      "676948236477857792 has Failed\n",
      "676946864479084545 has Failed\n",
      "676942428000112642 has Failed\n",
      "676936541936185344 has Failed\n",
      "676916996760600576 has Failed\n",
      "676897532954456065 has Failed\n",
      "676864501615042560 has Failed\n",
      "676821958043033607 has Failed\n",
      "676819651066732545 has Failed\n",
      "676811746707918848 has Failed\n",
      "676776431406465024 has Failed\n",
      "676617503762681856 has Failed\n",
      "676613908052996102 has Failed\n",
      "676606785097199616 has Failed\n",
      "676603393314578432 has Failed\n",
      "676593408224403456 has Failed\n",
      "676590572941893632 has Failed\n",
      "676588346097852417 has Failed\n"
     ]
    },
    {
     "name": "stdout",
     "output_type": "stream",
     "text": [
      "676582956622721024 has Failed\n",
      "676575501977128964 has Failed\n",
      "676533798876651520 has Failed\n",
      "676496375194980353 has Failed\n",
      "676470639084101634 has Failed\n",
      "676440007570247681 has Failed\n",
      "676430933382295552 has Failed\n",
      "676263575653122048 has Failed\n",
      "676237365392908289 has Failed\n",
      "676219687039057920 has Failed\n",
      "676215927814406144 has Failed\n",
      "676191832485810177 has Failed\n",
      "676146341966438401 has Failed\n",
      "676121918416756736 has Failed\n",
      "676101918813499392 has Failed\n",
      "676098748976615425 has Failed\n",
      "676089483918516224 has Failed\n",
      "675898130735476737 has Failed\n",
      "675891555769696257 has Failed\n",
      "675888385639251968 has Failed\n",
      "675878199931371520 has Failed\n",
      "675870721063669760 has Failed\n",
      "675853064436391936 has Failed\n",
      "675849018447167488 has Failed\n",
      "675845657354215424 has Failed\n",
      "675822767435051008 has Failed\n",
      "675820929667219457 has Failed\n",
      "675798442703122432 has Failed\n",
      "675781562965868544 has Failed\n",
      "675740360753160193 has Failed\n",
      "675710890956750848 has Failed\n",
      "675707330206547968 has Failed\n",
      "675706639471788032 has Failed\n",
      "675534494439489536 has Failed\n",
      "675531475945709568 has Failed\n",
      "675522403582218240 has Failed\n",
      "675517828909424640 has Failed\n",
      "675501075957489664 has Failed\n",
      "675497103322386432 has Failed\n",
      "675489971617296384 has Failed\n",
      "675483430902214656 has Failed\n",
      "675432746517426176 has Failed\n",
      "675372240448454658 has Failed\n",
      "675362609739206656 has Failed\n",
      "675354435921575936 has Failed\n",
      "675349384339542016 has Failed\n",
      "675334060156301312 has Failed\n",
      "675166823650848770 has Failed\n",
      "675153376133427200 has Failed\n",
      "675149409102012420 has Failed\n",
      "675147105808306176 has Failed\n",
      "675146535592706048 has Failed\n",
      "675145476954566656 has Failed\n",
      "675135153782571009 has Failed\n",
      "675113801096802304 has Failed\n",
      "675111688094527488 has Failed\n",
      "675109292475830276 has Failed\n",
      "675047298674663426 has Failed\n",
      "675015141583413248 has Failed\n",
      "675006312288268288 has Failed\n",
      "675003128568291329 has Failed\n",
      "674999807681908736 has Failed\n",
      "674805413498527744 has Failed\n",
      "674800520222154752 has Failed\n",
      "674793399141146624 has Failed\n",
      "674790488185167872 has Failed\n",
      "674788554665512960 has Failed\n",
      "674781762103414784 has Failed\n",
      "674774481756377088 has Failed\n",
      "674767892831932416 has Failed\n",
      "674764817387900928 has Failed\n",
      "674754018082705410 has Failed\n",
      "674752233200820224 has Failed\n",
      "674743008475090944 has Failed\n",
      "674742531037511680 has Failed\n",
      "674739953134403584 has Failed\n",
      "674737130913071104 has Failed\n",
      "674690135443775488 has Failed\n",
      "674670581682434048 has Failed\n",
      "674664755118911488 has Failed\n",
      "674646392044941312 has Failed\n",
      "674644256330530816 has Failed\n",
      "674638615994089473 has Failed\n",
      "674632714662858753 has Failed\n",
      "674606911342424069 has Failed\n",
      "674468880899788800 has Failed\n",
      "674447403907457024 has Failed\n",
      "674436901579923456 has Failed\n",
      "674422304705744896 has Failed\n",
      "674416750885273600 has Failed\n",
      "674410619106390016 has Failed\n",
      "674394782723014656 has Failed\n",
      "674372068062928900 has Failed\n",
      "674330906434379776 has Failed\n",
      "674318007229923329 has Failed\n",
      "674307341513269249 has Failed\n",
      "674291837063053312 has Failed\n",
      "674271431610523648 has Failed\n",
      "674269164442398721 has Failed\n",
      "674265582246694913 has Failed\n",
      "674262580978937856 has Failed\n",
      "674255168825880576 has Failed\n",
      "674082852460433408 has Failed\n",
      "674075285688614912 has Failed\n",
      "674063288070742018 has Failed\n",
      "674053186244734976 has Failed\n",
      "674051556661161984 has Failed\n",
      "674045139690631169 has Failed\n",
      "674042553264685056 has Failed\n",
      "674038233588723717 has Failed\n",
      "674036086168010753 has Failed\n",
      "674024893172875264 has Failed\n",
      "674019345211760640 has Failed\n",
      "674014384960745472 has Failed\n",
      "674008982932058114 has Failed\n",
      "673956914389192708 has Failed\n",
      "673919437611909120 has Failed\n",
      "673906403526995968 has Failed\n",
      "673887867907739649 has Failed\n",
      "673716320723169284 has Failed\n",
      "673715861853720576 has Failed\n",
      "673711475735838725 has Failed\n",
      "673709992831262724 has Failed\n",
      "673708611235921920 has Failed\n",
      "673707060090052608 has Failed\n",
      "673705679337693185 has Failed\n",
      "673700254269775872 has Failed\n",
      "673697980713705472 has Failed\n",
      "673689733134946305 has Failed\n",
      "673688752737402881 has Failed\n",
      "673686845050527744 has Failed\n",
      "673680198160809984 has Failed\n",
      "673662677122719744 has Failed\n",
      "673656262056419329 has Failed\n",
      "673636718965334016 has Failed\n",
      "673612854080196609 has Failed\n",
      "673583129559498752 has Failed\n",
      "673580926094458881 has Failed\n",
      "673576835670777856 has Failed\n",
      "673363615379013632 has Failed\n",
      "673359818736984064 has Failed\n",
      "673355879178194945 has Failed\n",
      "673352124999274496 has Failed\n",
      "673350198937153538 has Failed\n",
      "673345638550134785 has Failed\n",
      "673343217010679808 has Failed\n",
      "673342308415348736 has Failed\n",
      "673320132811366400 has Failed\n",
      "673317986296586240 has Failed\n",
      "673295268553605120 has Failed\n",
      "673270968295534593 has Failed\n",
      "673240798075449344 has Failed\n",
      "673213039743795200 has Failed\n",
      "673148804208660480 has Failed\n",
      "672997845381865473 has Failed\n",
      "672995267319328768 has Failed\n",
      "672988786805112832 has Failed\n",
      "672984142909456390 has Failed\n",
      "672980819271634944 has Failed\n",
      "672975131468300288 has Failed\n",
      "672970152493887488 has Failed\n",
      "672968025906282496 has Failed\n",
      "672964561327235073 has Failed\n",
      "672902681409806336 has Failed\n",
      "672898206762672129 has Failed\n",
      "672884426393653248 has Failed\n",
      "672877615439593473 has Failed\n",
      "672834301050937345 has Failed\n",
      "672828477930868736 has Failed\n",
      "672640509974827008 has Failed\n",
      "672622327801233409 has Failed\n",
      "672614745925664768 has Failed\n",
      "672609152938721280 has Failed\n",
      "672604026190569472 has Failed\n",
      "672594978741354496 has Failed\n",
      "672591762242805761 has Failed\n",
      "672591271085670400 has Failed\n",
      "672538107540070400 has Failed\n",
      "672523490734551040 has Failed\n",
      "672488522314567680 has Failed\n",
      "672482722825261057 has Failed\n",
      "672481316919734272 has Failed\n",
      "672475084225949696 has Failed\n",
      "672466075045466113 has Failed\n",
      "672272411274932228 has Failed\n",
      "672267570918129665 has Failed\n",
      "672264251789176834 has Failed\n",
      "672256522047614977 has Failed\n",
      "672254177670729728 has Failed\n",
      "672248013293752320 has Failed\n",
      "672245253877968896 has Failed\n",
      "672239279297454080 has Failed\n",
      "672231046314901505 has Failed\n",
      "672222792075620352 has Failed\n",
      "672205392827572224 has Failed\n",
      "672169685991993344 has Failed\n",
      "672160042234327040 has Failed\n",
      "672139350159835138 has Failed\n",
      "672125275208069120 has Failed\n",
      "672095186491711488 has Failed\n",
      "672082170312290304 has Failed\n",
      "672068090318987265 has Failed\n",
      "671896809300709376 has Failed\n",
      "671891728106971137 has Failed\n",
      "671882082306625538 has Failed\n",
      "671879137494245376 has Failed\n",
      "671874878652489728 has Failed\n",
      "671866342182637568 has Failed\n",
      "671855973984772097 has Failed\n",
      "671789708968640512 has Failed\n",
      "671768281401958400 has Failed\n",
      "671763349865160704 has Failed\n",
      "671744970634719232 has Failed\n",
      "671743150407421952 has Failed\n",
      "671735591348891648 has Failed\n",
      "671729906628341761 has Failed\n",
      "671561002136281088 has Failed\n",
      "671550332464455680 has Failed\n",
      "671547767500775424 has Failed\n",
      "671544874165002241 has Failed\n",
      "671542985629241344 has Failed\n",
      "671538301157904385 has Failed\n",
      "671536543010570240 has Failed\n",
      "671533943490011136 has Failed\n",
      "671528761649688577 has Failed\n",
      "671520732782923777 has Failed\n",
      "671518598289059840 has Failed\n",
      "671511350426865664 has Failed\n",
      "671504605491109889 has Failed\n",
      "671497587707535361 has Failed\n",
      "671488513339211776 has Failed\n",
      "671486386088865792 has Failed\n",
      "671485057807351808 has Failed\n",
      "671390180817915904 has Failed\n",
      "671362598324076544 has Failed\n",
      "671357843010908160 has Failed\n",
      "671355857343524864 has Failed\n",
      "671347597085433856 has Failed\n",
      "671186162933985280 has Failed\n",
      "671182547775299584 has Failed\n",
      "671166507850801152 has Failed\n",
      "671163268581498880 has Failed\n",
      "671159727754231808 has Failed\n",
      "671154572044468225 has Failed\n",
      "671151324042559489 has Failed\n",
      "671147085991960577 has Failed\n",
      "671141549288370177 has Failed\n",
      "671138694582165504 has Failed\n",
      "671134062904504320 has Failed\n",
      "671122204919246848 has Failed\n",
      "671115716440031232 has Failed\n",
      "671109016219725825 has Failed\n",
      "670995969505435648 has Failed\n",
      "670842764863651840 has Failed\n",
      "670840546554966016 has Failed\n",
      "670838202509447168 has Failed\n",
      "670833812859932673 has Failed\n",
      "670832455012716544 has Failed\n",
      "670826280409919488 has Failed\n",
      "670823764196741120 has Failed\n",
      "670822709593571328 has Failed\n",
      "670815497391357952 has Failed\n",
      "670811965569282048 has Failed\n",
      "670807719151067136 has Failed\n",
      "670804601705242624 has Failed\n",
      "670803562457407488 has Failed\n",
      "670797304698376195 has Failed\n",
      "670792680469889025 has Failed\n",
      "670789397210615808 has Failed\n",
      "670786190031921152 has Failed\n",
      "670783437142401025 has Failed\n",
      "670782429121134593 has Failed\n",
      "670780561024270336 has Failed\n",
      "670778058496974848 has Failed\n",
      "670764103623966721 has Failed\n",
      "670755717859713024 has Failed\n",
      "670733412878163972 has Failed\n",
      "670727704916926465 has Failed\n",
      "670717338665226240 has Failed\n",
      "670704688707301377 has Failed\n",
      "670691627984359425 has Failed\n",
      "670679630144274432 has Failed\n",
      "670676092097810432 has Failed\n",
      "670668383499735048 has Failed\n",
      "670474236058800128 has Failed\n",
      "670468609693655041 has Failed\n",
      "670465786746662913 has Failed\n",
      "670452855871037440 has Failed\n",
      "670449342516494336 has Failed\n",
      "670444955656130560 has Failed\n"
     ]
    },
    {
     "name": "stdout",
     "output_type": "stream",
     "text": [
      "670442337873600512 has Failed\n",
      "670435821946826752 has Failed\n",
      "670434127938719744 has Failed\n",
      "670433248821026816 has Failed\n",
      "670428280563085312 has Failed\n",
      "670427002554466305 has Failed\n",
      "670421925039075328 has Failed\n",
      "670420569653809152 has Failed\n",
      "670417414769758208 has Failed\n",
      "670411370698022913 has Failed\n",
      "670408998013820928 has Failed\n",
      "670403879788544000 has Failed\n",
      "670385711116361728 has Failed\n",
      "670374371102445568 has Failed\n",
      "670361874861563904 has Failed\n",
      "670338931251150849 has Failed\n",
      "670319130621435904 has Failed\n",
      "670303360680108032 has Failed\n",
      "670290420111441920 has Failed\n",
      "670093938074779648 has Failed\n",
      "670086499208155136 has Failed\n",
      "670079681849372674 has Failed\n",
      "670073503555706880 has Failed\n",
      "670069087419133954 has Failed\n",
      "670061506722140161 has Failed\n",
      "670055038660800512 has Failed\n",
      "670046952931721218 has Failed\n",
      "670040295598354432 has Failed\n",
      "670037189829525505 has Failed\n",
      "670003130994700288 has Failed\n",
      "669993076832759809 has Failed\n",
      "669972011175813120 has Failed\n",
      "669970042633789440 has Failed\n",
      "669942763794931712 has Failed\n",
      "669926384437997569 has Failed\n",
      "669923323644657664 has Failed\n",
      "669753178989142016 has Failed\n",
      "669749430875258880 has Failed\n",
      "669684865554620416 has Failed\n",
      "669683899023405056 has Failed\n",
      "669682095984410625 has Failed\n",
      "669680153564442624 has Failed\n",
      "669661792646373376 has Failed\n",
      "669625907762618368 has Failed\n",
      "669603084620980224 has Failed\n",
      "669597912108789760 has Failed\n",
      "669583744538451968 has Failed\n",
      "669573570759163904 has Failed\n",
      "669571471778410496 has Failed\n",
      "669567591774625800 has Failed\n",
      "669564461267722241 has Failed\n",
      "669393256313184256 has Failed\n",
      "669375718304980992 has Failed\n",
      "669371483794317312 has Failed\n",
      "669367896104181761 has Failed\n",
      "669363888236994561 has Failed\n",
      "669359674819481600 has Failed\n",
      "669354382627049472 has Failed\n",
      "669353438988365824 has Failed\n",
      "669351434509529089 has Failed\n",
      "669328503091937280 has Failed\n",
      "669327207240699904 has Failed\n",
      "669324657376567296 has Failed\n",
      "669216679721873412 has Failed\n",
      "669214165781868544 has Failed\n",
      "669203728096960512 has Failed\n",
      "669037058363662336 has Failed\n",
      "669015743032369152 has Failed\n",
      "669006782128353280 has Failed\n",
      "669000397445533696 has Failed\n",
      "668994913074286592 has Failed\n",
      "668992363537309700 has Failed\n",
      "668989615043424256 has Failed\n",
      "668988183816871936 has Failed\n",
      "668986018524233728 has Failed\n",
      "668981893510119424 has Failed\n",
      "668979806671884288 has Failed\n",
      "668975677807423489 has Failed\n",
      "668967877119254528 has Failed\n",
      "668960084974809088 has Failed\n",
      "668955713004314625 has Failed\n",
      "668932921458302977 has Failed\n",
      "668902994700836864 has Failed\n",
      "668892474547511297 has Failed\n",
      "668872652652679168 has Failed\n",
      "668852170888998912 has Failed\n",
      "668826086256599040 has Failed\n",
      "668815180734689280 has Failed\n",
      "668779399630725120 has Failed\n",
      "668655139528511488 has Failed\n",
      "668645506898350081 has Failed\n",
      "668643542311546881 has Failed\n",
      "668641109086707712 has Failed\n",
      "668636665813057536 has Failed\n",
      "668633411083464705 has Failed\n",
      "668631377374486528 has Failed\n",
      "668627278264475648 has Failed\n",
      "668625577880875008 has Failed\n",
      "668623201287675904 has Failed\n",
      "668620235289837568 has Failed\n",
      "668614819948453888 has Failed\n",
      "668587383441514497 has Failed\n",
      "668567822092664832 has Failed\n",
      "668544745690562560 has Failed\n",
      "668542336805281792 has Failed\n",
      "668537837512433665 has Failed\n",
      "668528771708952576 has Failed\n",
      "668507509523615744 has Failed\n",
      "668496999348633600 has Failed\n",
      "668484198282485761 has Failed\n",
      "668480044826800133 has Failed\n",
      "668466899341221888 has Failed\n",
      "668297328638447616 has Failed\n",
      "668291999406125056 has Failed\n",
      "668286279830867968 has Failed\n",
      "668274247790391296 has Failed\n",
      "668268907921326080 has Failed\n",
      "668256321989451776 has Failed\n",
      "668248472370458624 has Failed\n",
      "668237644992782336 has Failed\n",
      "668226093875376128 has Failed\n",
      "668221241640230912 has Failed\n",
      "668204964695683073 has Failed\n",
      "668190681446379520 has Failed\n",
      "668171859951755264 has Failed\n",
      "668154635664932864 has Failed\n",
      "668142349051129856 has Failed\n",
      "668113020489474048 has Failed\n",
      "667937095915278337 has Failed\n",
      "667924896115245057 has Failed\n",
      "667915453470232577 has Failed\n",
      "667911425562669056 has Failed\n",
      "667902449697558528 has Failed\n",
      "667886921285246976 has Failed\n",
      "667885044254572545 has Failed\n",
      "667878741721415682 has Failed\n",
      "667873844930215936 has Failed\n",
      "667866724293877760 has Failed\n",
      "667861340749471744 has Failed\n",
      "667832474953625600 has Failed\n",
      "667806454573760512 has Failed\n",
      "667801013445750784 has Failed\n",
      "667793409583771648 has Failed\n",
      "667782464991965184 has Failed\n",
      "667773195014021121 has Failed\n",
      "667766675769573376 has Failed\n",
      "667728196545200128 has Failed\n",
      "667724302356258817 has Failed\n",
      "667550904950915073 has Failed\n",
      "667550882905632768 has Failed\n",
      "667549055577362432 has Failed\n",
      "667546741521195010 has Failed\n",
      "667544320556335104 has Failed\n",
      "667538891197542400 has Failed\n",
      "667534815156183040 has Failed\n",
      "667530908589760512 has Failed\n",
      "667524857454854144 has Failed\n",
      "667517642048163840 has Failed\n",
      "667509364010450944 has Failed\n",
      "667502640335572993 has Failed\n",
      "667495797102141441 has Failed\n",
      "667491009379606528 has Failed\n",
      "667470559035432960 has Failed\n",
      "667455448082227200 has Failed\n",
      "667453023279554560 has Failed\n",
      "667443425659232256 has Failed\n",
      "667437278097252352 has Failed\n",
      "667435689202614272 has Failed\n",
      "667405339315146752 has Failed\n",
      "667393430834667520 has Failed\n",
      "667369227918143488 has Failed\n",
      "667211855547486208 has Failed\n",
      "667200525029539841 has Failed\n",
      "667192066997374976 has Failed\n",
      "667188689915760640 has Failed\n",
      "667182792070062081 has Failed\n",
      "667177989038297088 has Failed\n",
      "667176164155375616 has Failed\n",
      "667174963120574464 has Failed\n",
      "667171260800061440 has Failed\n",
      "667165590075940865 has Failed\n",
      "667160273090932737 has Failed\n",
      "667152164079423490 has Failed\n",
      "667138269671505920 has Failed\n",
      "667119796878725120 has Failed\n",
      "667090893657276420 has Failed\n",
      "667073648344346624 has Failed\n",
      "667070482143944705 has Failed\n",
      "667065535570550784 has Failed\n",
      "667062181243039745 has Failed\n",
      "667044094246576128 has Failed\n",
      "667012601033924608 has Failed\n",
      "666996132027977728 has Failed\n",
      "666983947667116034 has Failed\n",
      "666837028449972224 has Failed\n",
      "666835007768551424 has Failed\n",
      "666826780179869698 has Failed\n",
      "666817836334096384 has Failed\n",
      "666804364988780544 has Failed\n",
      "666786068205871104 has Failed\n",
      "666781792255496192 has Failed\n",
      "666776908487630848 has Failed\n",
      "666739327293083650 has Failed\n",
      "666701168228331520 has Failed\n",
      "666691418707132416 has Failed\n",
      "666649482315059201 has Failed\n",
      "666644823164719104 has Failed\n",
      "666454714377183233 has Failed\n",
      "666447344410484738 has Failed\n",
      "666437273139982337 has Failed\n",
      "666435652385423360 has Failed\n",
      "666430724426358785 has Failed\n",
      "666428276349472768 has Failed\n",
      "666421158376562688 has Failed\n",
      "666418789513326592 has Failed\n",
      "666411507551481857 has Failed\n",
      "666407126856765440 has Failed\n",
      "666396247373291520 has Failed\n",
      "666373753744588802 has Failed\n",
      "666362758909284353 has Failed\n",
      "666353288456101888 has Failed\n",
      "666345417576210432 has Failed\n",
      "666337882303524864 has Failed\n",
      "666293911632134144 has Failed\n",
      "666287406224695296 has Failed\n",
      "666273097616637952 has Failed\n",
      "666268910803644416 has Failed\n",
      "666104133288665088 has Failed\n",
      "666102155909144576 has Failed\n",
      "666099513787052032 has Failed\n",
      "666094000022159362 has Failed\n",
      "666082916733198337 has Failed\n",
      "666073100786774016 has Failed\n",
      "666071193221509120 has Failed\n",
      "666063827256086533 has Failed\n",
      "666058600524156928 has Failed\n",
      "666057090499244032 has Failed\n",
      "666055525042405380 has Failed\n",
      "666051853826850816 has Failed\n",
      "666050758794694657 has Failed\n",
      "666049248165822465 has Failed\n",
      "666044226329800704 has Failed\n",
      "666033412701032449 has Failed\n",
      "666029285002620928 has Failed\n",
      "666020888022790149 has Failed\n",
      "Total time taken for execution 3848.8058496000003\n"
     ]
    }
   ],
   "source": [
    "#making a list for exceptions/errors in tweets\n",
    "tweet_errors = []\n",
    "\n",
    "# List of tweets\n",
    "tweets = []\n",
    "\n",
    "# start time of execution\n",
    "start = timer()\n",
    "\n",
    "# For loop which will add each available tweet json to tweets\n",
    "for tweet_id in tweet_ids:\n",
    "    try:\n",
    "        tweet = api.get_status(tweet_id, tweet_mode= 'extended')._json\n",
    "        \n",
    "        favorites = tweet['favorite_count'] #the number of people who liked the tweet\n",
    "        retweets = tweet['retweet_count'] # the total number of retweets \n",
    "        user_followers = tweet['user']['followers_count'] # the amount of people who follow the person who tweeted\n",
    "        user_favourites = tweet['user']['favourites_count'] # the number of favorites for the tweeter\n",
    "        date_time = tweet['created_at'] # the timestamp, or the date and time when the tweet was created\n",
    "        \n",
    "        tweets.append({'tweet_id': int(tweet_id),\n",
    "                        'favorites': int(favorites),\n",
    "                        'retweets': int(retweets),\n",
    "                        'user_followers': int(user_followers),\n",
    "                        'user_favourites': int(user_favourites),\n",
    "                        'date_time': pd.to_datetime(date_time)})\n",
    "    except Exception as e:\n",
    "        print(str(tweet_id)+\" has\"+\" Failed\")\n",
    "        tweet_errors.append(tweet_id)\n",
    "        \n",
    "# end time for excution\n",
    "end = timer()\n",
    "\n",
    "#printing time for execution\n",
    "print(\"Total time taken for execution\", end - start)"
   ]
  },
  {
   "cell_type": "markdown",
   "metadata": {},
   "source": [
    "### Explaining the code above\n",
    "\n",
    "1. The code is iterating through a list of tweet ids.\n",
    "\n",
    "2. For each tweet id, it tries to get the tweet from the Twitter API.\n",
    "\n",
    "3. If the tweet is successfully retrieved, the code calculates the number of favorites and retweets, user_followers, user favourites and date_time for the tweet.\n",
    "\n",
    "4. The code then appends a new row to the tweets list, with all the calculated values while also implementing the correct datatype.\n",
    "\n",
    "5. If there is an exception while retrieving the tweet, the code logs the exception and adds the tweet id to a list."
   ]
  },
  {
   "cell_type": "code",
   "execution_count": 10,
   "metadata": {},
   "outputs": [
    {
     "name": "stdout",
     "output_type": "stream",
     "text": [
      "660\n"
     ]
    }
   ],
   "source": [
    "print(len(tweets))"
   ]
  },
  {
   "cell_type": "markdown",
   "metadata": {},
   "source": [
    "I'm generating a DataFrame with the following columns from the tweets:\n",
    "\n",
    "- user followers \n",
    "- user favourites \n",
    "- date time \n",
    "- tweet id \n",
    "- favorites \n",
    "- retweets\n",
    "\n",
    "Next is to save the DataFrame to the 'tweet_json.txt' file."
   ]
  },
  {
   "cell_type": "code",
   "execution_count": 11,
   "metadata": {},
   "outputs": [],
   "source": [
    "tweets_json = pd.DataFrame(tweets, columns = ['tweet_id', 'favorites', 'retweets',\n",
    "                                               'user_followers', 'user_favourites', 'date_time'])"
   ]
  },
  {
   "cell_type": "code",
   "execution_count": 12,
   "metadata": {},
   "outputs": [],
   "source": [
    "tweets_json.to_csv('tweet_json.txt', encoding = 'utf-8', index=False)"
   ]
  },
  {
   "cell_type": "code",
   "execution_count": 13,
   "metadata": {},
   "outputs": [
    {
     "data": {
      "text/html": [
       "<div>\n",
       "<style scoped>\n",
       "    .dataframe tbody tr th:only-of-type {\n",
       "        vertical-align: middle;\n",
       "    }\n",
       "\n",
       "    .dataframe tbody tr th {\n",
       "        vertical-align: top;\n",
       "    }\n",
       "\n",
       "    .dataframe thead th {\n",
       "        text-align: right;\n",
       "    }\n",
       "</style>\n",
       "<table border=\"1\" class=\"dataframe\">\n",
       "  <thead>\n",
       "    <tr style=\"text-align: right;\">\n",
       "      <th></th>\n",
       "      <th>tweet_id</th>\n",
       "      <th>favorites</th>\n",
       "      <th>retweets</th>\n",
       "      <th>user_followers</th>\n",
       "      <th>user_favourites</th>\n",
       "      <th>date_time</th>\n",
       "    </tr>\n",
       "  </thead>\n",
       "  <tbody>\n",
       "    <tr>\n",
       "      <th>0</th>\n",
       "      <td>892420643555336193</td>\n",
       "      <td>33792</td>\n",
       "      <td>6998</td>\n",
       "      <td>9300854</td>\n",
       "      <td>146892</td>\n",
       "      <td>2017-08-01 16:23:56+00:00</td>\n",
       "    </tr>\n",
       "    <tr>\n",
       "      <th>1</th>\n",
       "      <td>892177421306343426</td>\n",
       "      <td>29312</td>\n",
       "      <td>5297</td>\n",
       "      <td>9300854</td>\n",
       "      <td>146892</td>\n",
       "      <td>2017-08-01 00:17:27+00:00</td>\n",
       "    </tr>\n",
       "    <tr>\n",
       "      <th>2</th>\n",
       "      <td>891815181378084864</td>\n",
       "      <td>22041</td>\n",
       "      <td>3477</td>\n",
       "      <td>9300854</td>\n",
       "      <td>146892</td>\n",
       "      <td>2017-07-31 00:18:03+00:00</td>\n",
       "    </tr>\n",
       "    <tr>\n",
       "      <th>3</th>\n",
       "      <td>891689557279858688</td>\n",
       "      <td>36915</td>\n",
       "      <td>7219</td>\n",
       "      <td>9300854</td>\n",
       "      <td>146892</td>\n",
       "      <td>2017-07-30 15:58:51+00:00</td>\n",
       "    </tr>\n",
       "    <tr>\n",
       "      <th>4</th>\n",
       "      <td>891327558926688256</td>\n",
       "      <td>35294</td>\n",
       "      <td>7752</td>\n",
       "      <td>9300854</td>\n",
       "      <td>146892</td>\n",
       "      <td>2017-07-29 16:00:24+00:00</td>\n",
       "    </tr>\n",
       "  </tbody>\n",
       "</table>\n",
       "</div>"
      ],
      "text/plain": [
       "             tweet_id  favorites  retweets  user_followers  user_favourites  \\\n",
       "0  892420643555336193      33792      6998         9300854           146892   \n",
       "1  892177421306343426      29312      5297         9300854           146892   \n",
       "2  891815181378084864      22041      3477         9300854           146892   \n",
       "3  891689557279858688      36915      7219         9300854           146892   \n",
       "4  891327558926688256      35294      7752         9300854           146892   \n",
       "\n",
       "                   date_time  \n",
       "0  2017-08-01 16:23:56+00:00  \n",
       "1  2017-08-01 00:17:27+00:00  \n",
       "2  2017-07-31 00:18:03+00:00  \n",
       "3  2017-07-30 15:58:51+00:00  \n",
       "4  2017-07-29 16:00:24+00:00  "
      ]
     },
     "execution_count": 13,
     "metadata": {},
     "output_type": "execute_result"
    }
   ],
   "source": [
    "df_api = pd.read_csv('tweet_json.txt', encoding = 'utf-8')\n",
    "df_api.head()"
   ]
  },
  {
   "cell_type": "markdown",
   "metadata": {},
   "source": [
    "### Explaining the code\n",
    "\n",
    "- The code creates a dataframe from the tweets JSON file.\n",
    "- The code sets the columns of the dataframe to the tweet_id, favorites, retweets, user_followers, user_favorites, and date_time fields in the JSON file.\n",
    "- The .to_csv() function is used to write the data in our 'tweets_json' variable to a .csv file called 'tweet_json.txt'.\n",
    "- Then it's  specified that the .csv file should be encoded in 'utf-8' and that the index should be False (which will prevent the creation of a header row in the .csv file)."
   ]
  },
  {
   "cell_type": "markdown",
   "metadata": {},
   "source": [
    "## Step 2: Assessing data\n",
    "In this section, I will detect and document at least **eight (8) quality issues and two (2) tidiness issue**. I will use **both** visual assessment\n",
    "programmatic assessement to assess the data.\n",
    "\n",
    "**Note:** Some key points to pay attention to when accessing the data.\n",
    "\n",
    "* You only want original ratings (no retweets) that have images. Though there are 5000+ tweets in the dataset, not all are dog ratings and some are retweets.\n",
    "* Assessing and cleaning the entire dataset completely would require a lot of time, and is not necessary to practice and demonstrate your skills in data wrangling. Therefore, the requirements of this project are only to assess and clean at least 8 quality issues and at least 2 tidiness issues in this dataset.\n",
    "* The fact that the rating numerators are greater than the denominators does not need to be cleaned. This [unique rating system](http://knowyourmeme.com/memes/theyre-good-dogs-brent) is a big part of the popularity of WeRateDogs.\n",
    "* You do not need to gather the tweets beyond August 1st, 2017. You can, but note that you won't be able to gather the image predictions for these tweets since you don't have access to the algorithm used.\n"
   ]
  },
  {
   "cell_type": "markdown",
   "metadata": {},
   "source": [
    "### Displaying each table\n",
    "\n",
    "- I'll be displaying the first five rows  and the last five rows and also a sample of the data to visually inspect the data"
   ]
  },
  {
   "cell_type": "markdown",
   "metadata": {},
   "source": [
    "### Visual assessment"
   ]
  },
  {
   "cell_type": "code",
   "execution_count": 14,
   "metadata": {},
   "outputs": [
    {
     "data": {
      "text/html": [
       "<div>\n",
       "<style scoped>\n",
       "    .dataframe tbody tr th:only-of-type {\n",
       "        vertical-align: middle;\n",
       "    }\n",
       "\n",
       "    .dataframe tbody tr th {\n",
       "        vertical-align: top;\n",
       "    }\n",
       "\n",
       "    .dataframe thead th {\n",
       "        text-align: right;\n",
       "    }\n",
       "</style>\n",
       "<table border=\"1\" class=\"dataframe\">\n",
       "  <thead>\n",
       "    <tr style=\"text-align: right;\">\n",
       "      <th></th>\n",
       "      <th>tweet_id</th>\n",
       "      <th>in_reply_to_status_id</th>\n",
       "      <th>in_reply_to_user_id</th>\n",
       "      <th>timestamp</th>\n",
       "      <th>source</th>\n",
       "      <th>text</th>\n",
       "      <th>retweeted_status_id</th>\n",
       "      <th>retweeted_status_user_id</th>\n",
       "      <th>retweeted_status_timestamp</th>\n",
       "      <th>expanded_urls</th>\n",
       "      <th>rating_numerator</th>\n",
       "      <th>rating_denominator</th>\n",
       "      <th>name</th>\n",
       "      <th>doggo</th>\n",
       "      <th>floofer</th>\n",
       "      <th>pupper</th>\n",
       "      <th>puppo</th>\n",
       "    </tr>\n",
       "  </thead>\n",
       "  <tbody>\n",
       "    <tr>\n",
       "      <th>0</th>\n",
       "      <td>892420643555336193</td>\n",
       "      <td>NaN</td>\n",
       "      <td>NaN</td>\n",
       "      <td>2017-08-01 16:23:56 +0000</td>\n",
       "      <td>&lt;a href=\"http://twitter.com/download/iphone\" r...</td>\n",
       "      <td>This is Phineas. He's a mystical boy. Only eve...</td>\n",
       "      <td>NaN</td>\n",
       "      <td>NaN</td>\n",
       "      <td>NaN</td>\n",
       "      <td>https://twitter.com/dog_rates/status/892420643...</td>\n",
       "      <td>13</td>\n",
       "      <td>10</td>\n",
       "      <td>Phineas</td>\n",
       "      <td>None</td>\n",
       "      <td>None</td>\n",
       "      <td>None</td>\n",
       "      <td>None</td>\n",
       "    </tr>\n",
       "    <tr>\n",
       "      <th>1</th>\n",
       "      <td>892177421306343426</td>\n",
       "      <td>NaN</td>\n",
       "      <td>NaN</td>\n",
       "      <td>2017-08-01 00:17:27 +0000</td>\n",
       "      <td>&lt;a href=\"http://twitter.com/download/iphone\" r...</td>\n",
       "      <td>This is Tilly. She's just checking pup on you....</td>\n",
       "      <td>NaN</td>\n",
       "      <td>NaN</td>\n",
       "      <td>NaN</td>\n",
       "      <td>https://twitter.com/dog_rates/status/892177421...</td>\n",
       "      <td>13</td>\n",
       "      <td>10</td>\n",
       "      <td>Tilly</td>\n",
       "      <td>None</td>\n",
       "      <td>None</td>\n",
       "      <td>None</td>\n",
       "      <td>None</td>\n",
       "    </tr>\n",
       "    <tr>\n",
       "      <th>2</th>\n",
       "      <td>891815181378084864</td>\n",
       "      <td>NaN</td>\n",
       "      <td>NaN</td>\n",
       "      <td>2017-07-31 00:18:03 +0000</td>\n",
       "      <td>&lt;a href=\"http://twitter.com/download/iphone\" r...</td>\n",
       "      <td>This is Archie. He is a rare Norwegian Pouncin...</td>\n",
       "      <td>NaN</td>\n",
       "      <td>NaN</td>\n",
       "      <td>NaN</td>\n",
       "      <td>https://twitter.com/dog_rates/status/891815181...</td>\n",
       "      <td>12</td>\n",
       "      <td>10</td>\n",
       "      <td>Archie</td>\n",
       "      <td>None</td>\n",
       "      <td>None</td>\n",
       "      <td>None</td>\n",
       "      <td>None</td>\n",
       "    </tr>\n",
       "    <tr>\n",
       "      <th>3</th>\n",
       "      <td>891689557279858688</td>\n",
       "      <td>NaN</td>\n",
       "      <td>NaN</td>\n",
       "      <td>2017-07-30 15:58:51 +0000</td>\n",
       "      <td>&lt;a href=\"http://twitter.com/download/iphone\" r...</td>\n",
       "      <td>This is Darla. She commenced a snooze mid meal...</td>\n",
       "      <td>NaN</td>\n",
       "      <td>NaN</td>\n",
       "      <td>NaN</td>\n",
       "      <td>https://twitter.com/dog_rates/status/891689557...</td>\n",
       "      <td>13</td>\n",
       "      <td>10</td>\n",
       "      <td>Darla</td>\n",
       "      <td>None</td>\n",
       "      <td>None</td>\n",
       "      <td>None</td>\n",
       "      <td>None</td>\n",
       "    </tr>\n",
       "    <tr>\n",
       "      <th>4</th>\n",
       "      <td>891327558926688256</td>\n",
       "      <td>NaN</td>\n",
       "      <td>NaN</td>\n",
       "      <td>2017-07-29 16:00:24 +0000</td>\n",
       "      <td>&lt;a href=\"http://twitter.com/download/iphone\" r...</td>\n",
       "      <td>This is Franklin. He would like you to stop ca...</td>\n",
       "      <td>NaN</td>\n",
       "      <td>NaN</td>\n",
       "      <td>NaN</td>\n",
       "      <td>https://twitter.com/dog_rates/status/891327558...</td>\n",
       "      <td>12</td>\n",
       "      <td>10</td>\n",
       "      <td>Franklin</td>\n",
       "      <td>None</td>\n",
       "      <td>None</td>\n",
       "      <td>None</td>\n",
       "      <td>None</td>\n",
       "    </tr>\n",
       "  </tbody>\n",
       "</table>\n",
       "</div>"
      ],
      "text/plain": [
       "             tweet_id  in_reply_to_status_id  in_reply_to_user_id  \\\n",
       "0  892420643555336193                    NaN                  NaN   \n",
       "1  892177421306343426                    NaN                  NaN   \n",
       "2  891815181378084864                    NaN                  NaN   \n",
       "3  891689557279858688                    NaN                  NaN   \n",
       "4  891327558926688256                    NaN                  NaN   \n",
       "\n",
       "                   timestamp  \\\n",
       "0  2017-08-01 16:23:56 +0000   \n",
       "1  2017-08-01 00:17:27 +0000   \n",
       "2  2017-07-31 00:18:03 +0000   \n",
       "3  2017-07-30 15:58:51 +0000   \n",
       "4  2017-07-29 16:00:24 +0000   \n",
       "\n",
       "                                              source  \\\n",
       "0  <a href=\"http://twitter.com/download/iphone\" r...   \n",
       "1  <a href=\"http://twitter.com/download/iphone\" r...   \n",
       "2  <a href=\"http://twitter.com/download/iphone\" r...   \n",
       "3  <a href=\"http://twitter.com/download/iphone\" r...   \n",
       "4  <a href=\"http://twitter.com/download/iphone\" r...   \n",
       "\n",
       "                                                text  retweeted_status_id  \\\n",
       "0  This is Phineas. He's a mystical boy. Only eve...                  NaN   \n",
       "1  This is Tilly. She's just checking pup on you....                  NaN   \n",
       "2  This is Archie. He is a rare Norwegian Pouncin...                  NaN   \n",
       "3  This is Darla. She commenced a snooze mid meal...                  NaN   \n",
       "4  This is Franklin. He would like you to stop ca...                  NaN   \n",
       "\n",
       "   retweeted_status_user_id retweeted_status_timestamp  \\\n",
       "0                       NaN                        NaN   \n",
       "1                       NaN                        NaN   \n",
       "2                       NaN                        NaN   \n",
       "3                       NaN                        NaN   \n",
       "4                       NaN                        NaN   \n",
       "\n",
       "                                       expanded_urls  rating_numerator  \\\n",
       "0  https://twitter.com/dog_rates/status/892420643...                13   \n",
       "1  https://twitter.com/dog_rates/status/892177421...                13   \n",
       "2  https://twitter.com/dog_rates/status/891815181...                12   \n",
       "3  https://twitter.com/dog_rates/status/891689557...                13   \n",
       "4  https://twitter.com/dog_rates/status/891327558...                12   \n",
       "\n",
       "   rating_denominator      name doggo floofer pupper puppo  \n",
       "0                  10   Phineas  None    None   None  None  \n",
       "1                  10     Tilly  None    None   None  None  \n",
       "2                  10    Archie  None    None   None  None  \n",
       "3                  10     Darla  None    None   None  None  \n",
       "4                  10  Franklin  None    None   None  None  "
      ]
     },
     "execution_count": 14,
     "metadata": {},
     "output_type": "execute_result"
    }
   ],
   "source": [
    "# Check the first five rows\n",
    "twitter_archive.head()"
   ]
  },
  {
   "cell_type": "code",
   "execution_count": 15,
   "metadata": {},
   "outputs": [
    {
     "data": {
      "text/html": [
       "<div>\n",
       "<style scoped>\n",
       "    .dataframe tbody tr th:only-of-type {\n",
       "        vertical-align: middle;\n",
       "    }\n",
       "\n",
       "    .dataframe tbody tr th {\n",
       "        vertical-align: top;\n",
       "    }\n",
       "\n",
       "    .dataframe thead th {\n",
       "        text-align: right;\n",
       "    }\n",
       "</style>\n",
       "<table border=\"1\" class=\"dataframe\">\n",
       "  <thead>\n",
       "    <tr style=\"text-align: right;\">\n",
       "      <th></th>\n",
       "      <th>tweet_id</th>\n",
       "      <th>in_reply_to_status_id</th>\n",
       "      <th>in_reply_to_user_id</th>\n",
       "      <th>timestamp</th>\n",
       "      <th>source</th>\n",
       "      <th>text</th>\n",
       "      <th>retweeted_status_id</th>\n",
       "      <th>retweeted_status_user_id</th>\n",
       "      <th>retweeted_status_timestamp</th>\n",
       "      <th>expanded_urls</th>\n",
       "      <th>rating_numerator</th>\n",
       "      <th>rating_denominator</th>\n",
       "      <th>name</th>\n",
       "      <th>doggo</th>\n",
       "      <th>floofer</th>\n",
       "      <th>pupper</th>\n",
       "      <th>puppo</th>\n",
       "    </tr>\n",
       "  </thead>\n",
       "  <tbody>\n",
       "    <tr>\n",
       "      <th>2351</th>\n",
       "      <td>666049248165822465</td>\n",
       "      <td>NaN</td>\n",
       "      <td>NaN</td>\n",
       "      <td>2015-11-16 00:24:50 +0000</td>\n",
       "      <td>&lt;a href=\"http://twitter.com/download/iphone\" r...</td>\n",
       "      <td>Here we have a 1949 1st generation vulpix. Enj...</td>\n",
       "      <td>NaN</td>\n",
       "      <td>NaN</td>\n",
       "      <td>NaN</td>\n",
       "      <td>https://twitter.com/dog_rates/status/666049248...</td>\n",
       "      <td>5</td>\n",
       "      <td>10</td>\n",
       "      <td>None</td>\n",
       "      <td>None</td>\n",
       "      <td>None</td>\n",
       "      <td>None</td>\n",
       "      <td>None</td>\n",
       "    </tr>\n",
       "    <tr>\n",
       "      <th>2352</th>\n",
       "      <td>666044226329800704</td>\n",
       "      <td>NaN</td>\n",
       "      <td>NaN</td>\n",
       "      <td>2015-11-16 00:04:52 +0000</td>\n",
       "      <td>&lt;a href=\"http://twitter.com/download/iphone\" r...</td>\n",
       "      <td>This is a purebred Piers Morgan. Loves to Netf...</td>\n",
       "      <td>NaN</td>\n",
       "      <td>NaN</td>\n",
       "      <td>NaN</td>\n",
       "      <td>https://twitter.com/dog_rates/status/666044226...</td>\n",
       "      <td>6</td>\n",
       "      <td>10</td>\n",
       "      <td>a</td>\n",
       "      <td>None</td>\n",
       "      <td>None</td>\n",
       "      <td>None</td>\n",
       "      <td>None</td>\n",
       "    </tr>\n",
       "    <tr>\n",
       "      <th>2353</th>\n",
       "      <td>666033412701032449</td>\n",
       "      <td>NaN</td>\n",
       "      <td>NaN</td>\n",
       "      <td>2015-11-15 23:21:54 +0000</td>\n",
       "      <td>&lt;a href=\"http://twitter.com/download/iphone\" r...</td>\n",
       "      <td>Here is a very happy pup. Big fan of well-main...</td>\n",
       "      <td>NaN</td>\n",
       "      <td>NaN</td>\n",
       "      <td>NaN</td>\n",
       "      <td>https://twitter.com/dog_rates/status/666033412...</td>\n",
       "      <td>9</td>\n",
       "      <td>10</td>\n",
       "      <td>a</td>\n",
       "      <td>None</td>\n",
       "      <td>None</td>\n",
       "      <td>None</td>\n",
       "      <td>None</td>\n",
       "    </tr>\n",
       "    <tr>\n",
       "      <th>2354</th>\n",
       "      <td>666029285002620928</td>\n",
       "      <td>NaN</td>\n",
       "      <td>NaN</td>\n",
       "      <td>2015-11-15 23:05:30 +0000</td>\n",
       "      <td>&lt;a href=\"http://twitter.com/download/iphone\" r...</td>\n",
       "      <td>This is a western brown Mitsubishi terrier. Up...</td>\n",
       "      <td>NaN</td>\n",
       "      <td>NaN</td>\n",
       "      <td>NaN</td>\n",
       "      <td>https://twitter.com/dog_rates/status/666029285...</td>\n",
       "      <td>7</td>\n",
       "      <td>10</td>\n",
       "      <td>a</td>\n",
       "      <td>None</td>\n",
       "      <td>None</td>\n",
       "      <td>None</td>\n",
       "      <td>None</td>\n",
       "    </tr>\n",
       "    <tr>\n",
       "      <th>2355</th>\n",
       "      <td>666020888022790149</td>\n",
       "      <td>NaN</td>\n",
       "      <td>NaN</td>\n",
       "      <td>2015-11-15 22:32:08 +0000</td>\n",
       "      <td>&lt;a href=\"http://twitter.com/download/iphone\" r...</td>\n",
       "      <td>Here we have a Japanese Irish Setter. Lost eye...</td>\n",
       "      <td>NaN</td>\n",
       "      <td>NaN</td>\n",
       "      <td>NaN</td>\n",
       "      <td>https://twitter.com/dog_rates/status/666020888...</td>\n",
       "      <td>8</td>\n",
       "      <td>10</td>\n",
       "      <td>None</td>\n",
       "      <td>None</td>\n",
       "      <td>None</td>\n",
       "      <td>None</td>\n",
       "      <td>None</td>\n",
       "    </tr>\n",
       "  </tbody>\n",
       "</table>\n",
       "</div>"
      ],
      "text/plain": [
       "                tweet_id  in_reply_to_status_id  in_reply_to_user_id  \\\n",
       "2351  666049248165822465                    NaN                  NaN   \n",
       "2352  666044226329800704                    NaN                  NaN   \n",
       "2353  666033412701032449                    NaN                  NaN   \n",
       "2354  666029285002620928                    NaN                  NaN   \n",
       "2355  666020888022790149                    NaN                  NaN   \n",
       "\n",
       "                      timestamp  \\\n",
       "2351  2015-11-16 00:24:50 +0000   \n",
       "2352  2015-11-16 00:04:52 +0000   \n",
       "2353  2015-11-15 23:21:54 +0000   \n",
       "2354  2015-11-15 23:05:30 +0000   \n",
       "2355  2015-11-15 22:32:08 +0000   \n",
       "\n",
       "                                                 source  \\\n",
       "2351  <a href=\"http://twitter.com/download/iphone\" r...   \n",
       "2352  <a href=\"http://twitter.com/download/iphone\" r...   \n",
       "2353  <a href=\"http://twitter.com/download/iphone\" r...   \n",
       "2354  <a href=\"http://twitter.com/download/iphone\" r...   \n",
       "2355  <a href=\"http://twitter.com/download/iphone\" r...   \n",
       "\n",
       "                                                   text  retweeted_status_id  \\\n",
       "2351  Here we have a 1949 1st generation vulpix. Enj...                  NaN   \n",
       "2352  This is a purebred Piers Morgan. Loves to Netf...                  NaN   \n",
       "2353  Here is a very happy pup. Big fan of well-main...                  NaN   \n",
       "2354  This is a western brown Mitsubishi terrier. Up...                  NaN   \n",
       "2355  Here we have a Japanese Irish Setter. Lost eye...                  NaN   \n",
       "\n",
       "      retweeted_status_user_id retweeted_status_timestamp  \\\n",
       "2351                       NaN                        NaN   \n",
       "2352                       NaN                        NaN   \n",
       "2353                       NaN                        NaN   \n",
       "2354                       NaN                        NaN   \n",
       "2355                       NaN                        NaN   \n",
       "\n",
       "                                          expanded_urls  rating_numerator  \\\n",
       "2351  https://twitter.com/dog_rates/status/666049248...                 5   \n",
       "2352  https://twitter.com/dog_rates/status/666044226...                 6   \n",
       "2353  https://twitter.com/dog_rates/status/666033412...                 9   \n",
       "2354  https://twitter.com/dog_rates/status/666029285...                 7   \n",
       "2355  https://twitter.com/dog_rates/status/666020888...                 8   \n",
       "\n",
       "      rating_denominator  name doggo floofer pupper puppo  \n",
       "2351                  10  None  None    None   None  None  \n",
       "2352                  10     a  None    None   None  None  \n",
       "2353                  10     a  None    None   None  None  \n",
       "2354                  10     a  None    None   None  None  \n",
       "2355                  10  None  None    None   None  None  "
      ]
     },
     "execution_count": 15,
     "metadata": {},
     "output_type": "execute_result"
    }
   ],
   "source": [
    "#Check the last five rows\n",
    "twitter_archive.tail()"
   ]
  },
  {
   "cell_type": "code",
   "execution_count": 16,
   "metadata": {},
   "outputs": [
    {
     "data": {
      "text/html": [
       "<div>\n",
       "<style scoped>\n",
       "    .dataframe tbody tr th:only-of-type {\n",
       "        vertical-align: middle;\n",
       "    }\n",
       "\n",
       "    .dataframe tbody tr th {\n",
       "        vertical-align: top;\n",
       "    }\n",
       "\n",
       "    .dataframe thead th {\n",
       "        text-align: right;\n",
       "    }\n",
       "</style>\n",
       "<table border=\"1\" class=\"dataframe\">\n",
       "  <thead>\n",
       "    <tr style=\"text-align: right;\">\n",
       "      <th></th>\n",
       "      <th>tweet_id</th>\n",
       "      <th>in_reply_to_status_id</th>\n",
       "      <th>in_reply_to_user_id</th>\n",
       "      <th>timestamp</th>\n",
       "      <th>source</th>\n",
       "      <th>text</th>\n",
       "      <th>retweeted_status_id</th>\n",
       "      <th>retweeted_status_user_id</th>\n",
       "      <th>retweeted_status_timestamp</th>\n",
       "      <th>expanded_urls</th>\n",
       "      <th>rating_numerator</th>\n",
       "      <th>rating_denominator</th>\n",
       "      <th>name</th>\n",
       "      <th>doggo</th>\n",
       "      <th>floofer</th>\n",
       "      <th>pupper</th>\n",
       "      <th>puppo</th>\n",
       "    </tr>\n",
       "  </thead>\n",
       "  <tbody>\n",
       "    <tr>\n",
       "      <th>1531</th>\n",
       "      <td>690015576308211712</td>\n",
       "      <td>NaN</td>\n",
       "      <td>NaN</td>\n",
       "      <td>2016-01-21 03:38:27 +0000</td>\n",
       "      <td>&lt;a href=\"http://twitter.com/download/iphone\" r...</td>\n",
       "      <td>This pupper can only sleep on shoes. It's a cr...</td>\n",
       "      <td>NaN</td>\n",
       "      <td>NaN</td>\n",
       "      <td>NaN</td>\n",
       "      <td>https://twitter.com/dog_rates/status/690015576...</td>\n",
       "      <td>12</td>\n",
       "      <td>10</td>\n",
       "      <td>None</td>\n",
       "      <td>None</td>\n",
       "      <td>None</td>\n",
       "      <td>pupper</td>\n",
       "      <td>None</td>\n",
       "    </tr>\n",
       "    <tr>\n",
       "      <th>30</th>\n",
       "      <td>886267009285017600</td>\n",
       "      <td>8.862664e+17</td>\n",
       "      <td>2.281182e+09</td>\n",
       "      <td>2017-07-15 16:51:35 +0000</td>\n",
       "      <td>&lt;a href=\"http://twitter.com/download/iphone\" r...</td>\n",
       "      <td>@NonWhiteHat @MayhewMayhem omg hello tanner yo...</td>\n",
       "      <td>NaN</td>\n",
       "      <td>NaN</td>\n",
       "      <td>NaN</td>\n",
       "      <td>NaN</td>\n",
       "      <td>12</td>\n",
       "      <td>10</td>\n",
       "      <td>None</td>\n",
       "      <td>None</td>\n",
       "      <td>None</td>\n",
       "      <td>None</td>\n",
       "      <td>None</td>\n",
       "    </tr>\n",
       "    <tr>\n",
       "      <th>1071</th>\n",
       "      <td>740214038584557568</td>\n",
       "      <td>NaN</td>\n",
       "      <td>NaN</td>\n",
       "      <td>2016-06-07 16:09:13 +0000</td>\n",
       "      <td>&lt;a href=\"http://twitter.com/download/iphone\" r...</td>\n",
       "      <td>This is getting incredibly frustrating. This i...</td>\n",
       "      <td>NaN</td>\n",
       "      <td>NaN</td>\n",
       "      <td>NaN</td>\n",
       "      <td>https://twitter.com/dog_rates/status/740214038...</td>\n",
       "      <td>10</td>\n",
       "      <td>10</td>\n",
       "      <td>getting</td>\n",
       "      <td>None</td>\n",
       "      <td>None</td>\n",
       "      <td>None</td>\n",
       "      <td>None</td>\n",
       "    </tr>\n",
       "    <tr>\n",
       "      <th>248</th>\n",
       "      <td>845397057150107648</td>\n",
       "      <td>NaN</td>\n",
       "      <td>NaN</td>\n",
       "      <td>2017-03-24 22:08:59 +0000</td>\n",
       "      <td>&lt;a href=\"http://twitter.com/download/iphone\" r...</td>\n",
       "      <td>Say hello to Mimosa. She's an emotional suppor...</td>\n",
       "      <td>NaN</td>\n",
       "      <td>NaN</td>\n",
       "      <td>NaN</td>\n",
       "      <td>https://www.gofundme.com/help-save-a-pup,https...</td>\n",
       "      <td>13</td>\n",
       "      <td>10</td>\n",
       "      <td>Mimosa</td>\n",
       "      <td>doggo</td>\n",
       "      <td>None</td>\n",
       "      <td>None</td>\n",
       "      <td>None</td>\n",
       "    </tr>\n",
       "    <tr>\n",
       "      <th>457</th>\n",
       "      <td>818145370475810820</td>\n",
       "      <td>NaN</td>\n",
       "      <td>NaN</td>\n",
       "      <td>2017-01-08 17:20:31 +0000</td>\n",
       "      <td>&lt;a href=\"http://twitter.com/download/iphone\" r...</td>\n",
       "      <td>This is Autumn. Her favorite toy is a cheesebu...</td>\n",
       "      <td>NaN</td>\n",
       "      <td>NaN</td>\n",
       "      <td>NaN</td>\n",
       "      <td>https://twitter.com/dog_rates/status/818145370...</td>\n",
       "      <td>11</td>\n",
       "      <td>10</td>\n",
       "      <td>Autumn</td>\n",
       "      <td>None</td>\n",
       "      <td>None</td>\n",
       "      <td>None</td>\n",
       "      <td>None</td>\n",
       "    </tr>\n",
       "  </tbody>\n",
       "</table>\n",
       "</div>"
      ],
      "text/plain": [
       "                tweet_id  in_reply_to_status_id  in_reply_to_user_id  \\\n",
       "1531  690015576308211712                    NaN                  NaN   \n",
       "30    886267009285017600           8.862664e+17         2.281182e+09   \n",
       "1071  740214038584557568                    NaN                  NaN   \n",
       "248   845397057150107648                    NaN                  NaN   \n",
       "457   818145370475810820                    NaN                  NaN   \n",
       "\n",
       "                      timestamp  \\\n",
       "1531  2016-01-21 03:38:27 +0000   \n",
       "30    2017-07-15 16:51:35 +0000   \n",
       "1071  2016-06-07 16:09:13 +0000   \n",
       "248   2017-03-24 22:08:59 +0000   \n",
       "457   2017-01-08 17:20:31 +0000   \n",
       "\n",
       "                                                 source  \\\n",
       "1531  <a href=\"http://twitter.com/download/iphone\" r...   \n",
       "30    <a href=\"http://twitter.com/download/iphone\" r...   \n",
       "1071  <a href=\"http://twitter.com/download/iphone\" r...   \n",
       "248   <a href=\"http://twitter.com/download/iphone\" r...   \n",
       "457   <a href=\"http://twitter.com/download/iphone\" r...   \n",
       "\n",
       "                                                   text  retweeted_status_id  \\\n",
       "1531  This pupper can only sleep on shoes. It's a cr...                  NaN   \n",
       "30    @NonWhiteHat @MayhewMayhem omg hello tanner yo...                  NaN   \n",
       "1071  This is getting incredibly frustrating. This i...                  NaN   \n",
       "248   Say hello to Mimosa. She's an emotional suppor...                  NaN   \n",
       "457   This is Autumn. Her favorite toy is a cheesebu...                  NaN   \n",
       "\n",
       "      retweeted_status_user_id retweeted_status_timestamp  \\\n",
       "1531                       NaN                        NaN   \n",
       "30                         NaN                        NaN   \n",
       "1071                       NaN                        NaN   \n",
       "248                        NaN                        NaN   \n",
       "457                        NaN                        NaN   \n",
       "\n",
       "                                          expanded_urls  rating_numerator  \\\n",
       "1531  https://twitter.com/dog_rates/status/690015576...                12   \n",
       "30                                                  NaN                12   \n",
       "1071  https://twitter.com/dog_rates/status/740214038...                10   \n",
       "248   https://www.gofundme.com/help-save-a-pup,https...                13   \n",
       "457   https://twitter.com/dog_rates/status/818145370...                11   \n",
       "\n",
       "      rating_denominator     name  doggo floofer  pupper puppo  \n",
       "1531                  10     None   None    None  pupper  None  \n",
       "30                    10     None   None    None    None  None  \n",
       "1071                  10  getting   None    None    None  None  \n",
       "248                   10   Mimosa  doggo    None    None  None  \n",
       "457                   10   Autumn   None    None    None  None  "
      ]
     },
     "execution_count": 16,
     "metadata": {},
     "output_type": "execute_result"
    }
   ],
   "source": [
    "#The sample() function is used to get a random sample of items from an axis of object.\n",
    "twitter_archive.sample(5)"
   ]
  },
  {
   "cell_type": "markdown",
   "metadata": {},
   "source": [
    "> ### twitter_archive table\n",
    ">\n",
    ">  Inspecting the data visually, I can see that:\n",
    "\n",
    "> 1. The following columns mostly contained **null datasets**.\n",
    ">  - in_reply_to_status_id, \n",
    ">  - in_reply_to_user_id,\n",
    ">  - retweeted_status_id\n",
    ">  - retweeted_status_user_id \n",
    ">  - retweeted_status_timestamp \n",
    ">  \n",
    ">\n",
    "> 2. The timestamp contained both time and date, that should be looked into.\n",
    ">\n",
    "> 3. Several rows from the tail() output include incorrect strings in the name column, such as \"a,\" \"an,\" and \"in,\" which are the third word in the text column.  Also values of \"None\" in the name column.\n",
    ">\n",
    "> 3. doggo, floofer, pupper, puppo had many values reepresented as \"none\""
   ]
  },
  {
   "cell_type": "code",
   "execution_count": 17,
   "metadata": {},
   "outputs": [
    {
     "data": {
      "text/html": [
       "<div>\n",
       "<style scoped>\n",
       "    .dataframe tbody tr th:only-of-type {\n",
       "        vertical-align: middle;\n",
       "    }\n",
       "\n",
       "    .dataframe tbody tr th {\n",
       "        vertical-align: top;\n",
       "    }\n",
       "\n",
       "    .dataframe thead th {\n",
       "        text-align: right;\n",
       "    }\n",
       "</style>\n",
       "<table border=\"1\" class=\"dataframe\">\n",
       "  <thead>\n",
       "    <tr style=\"text-align: right;\">\n",
       "      <th></th>\n",
       "      <th>tweet_id</th>\n",
       "      <th>jpg_url</th>\n",
       "      <th>img_num</th>\n",
       "      <th>p1</th>\n",
       "      <th>p1_conf</th>\n",
       "      <th>p1_dog</th>\n",
       "      <th>p2</th>\n",
       "      <th>p2_conf</th>\n",
       "      <th>p2_dog</th>\n",
       "      <th>p3</th>\n",
       "      <th>p3_conf</th>\n",
       "      <th>p3_dog</th>\n",
       "    </tr>\n",
       "  </thead>\n",
       "  <tbody>\n",
       "    <tr>\n",
       "      <th>0</th>\n",
       "      <td>666020888022790149</td>\n",
       "      <td>https://pbs.twimg.com/media/CT4udn0WwAA0aMy.jpg</td>\n",
       "      <td>1</td>\n",
       "      <td>Welsh_springer_spaniel</td>\n",
       "      <td>0.465074</td>\n",
       "      <td>True</td>\n",
       "      <td>collie</td>\n",
       "      <td>0.156665</td>\n",
       "      <td>True</td>\n",
       "      <td>Shetland_sheepdog</td>\n",
       "      <td>0.061428</td>\n",
       "      <td>True</td>\n",
       "    </tr>\n",
       "    <tr>\n",
       "      <th>1</th>\n",
       "      <td>666029285002620928</td>\n",
       "      <td>https://pbs.twimg.com/media/CT42GRgUYAA5iDo.jpg</td>\n",
       "      <td>1</td>\n",
       "      <td>redbone</td>\n",
       "      <td>0.506826</td>\n",
       "      <td>True</td>\n",
       "      <td>miniature_pinscher</td>\n",
       "      <td>0.074192</td>\n",
       "      <td>True</td>\n",
       "      <td>Rhodesian_ridgeback</td>\n",
       "      <td>0.072010</td>\n",
       "      <td>True</td>\n",
       "    </tr>\n",
       "    <tr>\n",
       "      <th>2</th>\n",
       "      <td>666033412701032449</td>\n",
       "      <td>https://pbs.twimg.com/media/CT4521TWwAEvMyu.jpg</td>\n",
       "      <td>1</td>\n",
       "      <td>German_shepherd</td>\n",
       "      <td>0.596461</td>\n",
       "      <td>True</td>\n",
       "      <td>malinois</td>\n",
       "      <td>0.138584</td>\n",
       "      <td>True</td>\n",
       "      <td>bloodhound</td>\n",
       "      <td>0.116197</td>\n",
       "      <td>True</td>\n",
       "    </tr>\n",
       "    <tr>\n",
       "      <th>3</th>\n",
       "      <td>666044226329800704</td>\n",
       "      <td>https://pbs.twimg.com/media/CT5Dr8HUEAA-lEu.jpg</td>\n",
       "      <td>1</td>\n",
       "      <td>Rhodesian_ridgeback</td>\n",
       "      <td>0.408143</td>\n",
       "      <td>True</td>\n",
       "      <td>redbone</td>\n",
       "      <td>0.360687</td>\n",
       "      <td>True</td>\n",
       "      <td>miniature_pinscher</td>\n",
       "      <td>0.222752</td>\n",
       "      <td>True</td>\n",
       "    </tr>\n",
       "    <tr>\n",
       "      <th>4</th>\n",
       "      <td>666049248165822465</td>\n",
       "      <td>https://pbs.twimg.com/media/CT5IQmsXIAAKY4A.jpg</td>\n",
       "      <td>1</td>\n",
       "      <td>miniature_pinscher</td>\n",
       "      <td>0.560311</td>\n",
       "      <td>True</td>\n",
       "      <td>Rottweiler</td>\n",
       "      <td>0.243682</td>\n",
       "      <td>True</td>\n",
       "      <td>Doberman</td>\n",
       "      <td>0.154629</td>\n",
       "      <td>True</td>\n",
       "    </tr>\n",
       "  </tbody>\n",
       "</table>\n",
       "</div>"
      ],
      "text/plain": [
       "             tweet_id                                          jpg_url  \\\n",
       "0  666020888022790149  https://pbs.twimg.com/media/CT4udn0WwAA0aMy.jpg   \n",
       "1  666029285002620928  https://pbs.twimg.com/media/CT42GRgUYAA5iDo.jpg   \n",
       "2  666033412701032449  https://pbs.twimg.com/media/CT4521TWwAEvMyu.jpg   \n",
       "3  666044226329800704  https://pbs.twimg.com/media/CT5Dr8HUEAA-lEu.jpg   \n",
       "4  666049248165822465  https://pbs.twimg.com/media/CT5IQmsXIAAKY4A.jpg   \n",
       "\n",
       "   img_num                      p1   p1_conf  p1_dog                  p2  \\\n",
       "0        1  Welsh_springer_spaniel  0.465074    True              collie   \n",
       "1        1                 redbone  0.506826    True  miniature_pinscher   \n",
       "2        1         German_shepherd  0.596461    True            malinois   \n",
       "3        1     Rhodesian_ridgeback  0.408143    True             redbone   \n",
       "4        1      miniature_pinscher  0.560311    True          Rottweiler   \n",
       "\n",
       "    p2_conf  p2_dog                   p3   p3_conf  p3_dog  \n",
       "0  0.156665    True    Shetland_sheepdog  0.061428    True  \n",
       "1  0.074192    True  Rhodesian_ridgeback  0.072010    True  \n",
       "2  0.138584    True           bloodhound  0.116197    True  \n",
       "3  0.360687    True   miniature_pinscher  0.222752    True  \n",
       "4  0.243682    True             Doberman  0.154629    True  "
      ]
     },
     "execution_count": 17,
     "metadata": {},
     "output_type": "execute_result"
    }
   ],
   "source": [
    "image_prediction.head()"
   ]
  },
  {
   "cell_type": "code",
   "execution_count": 18,
   "metadata": {},
   "outputs": [
    {
     "data": {
      "text/html": [
       "<div>\n",
       "<style scoped>\n",
       "    .dataframe tbody tr th:only-of-type {\n",
       "        vertical-align: middle;\n",
       "    }\n",
       "\n",
       "    .dataframe tbody tr th {\n",
       "        vertical-align: top;\n",
       "    }\n",
       "\n",
       "    .dataframe thead th {\n",
       "        text-align: right;\n",
       "    }\n",
       "</style>\n",
       "<table border=\"1\" class=\"dataframe\">\n",
       "  <thead>\n",
       "    <tr style=\"text-align: right;\">\n",
       "      <th></th>\n",
       "      <th>tweet_id</th>\n",
       "      <th>jpg_url</th>\n",
       "      <th>img_num</th>\n",
       "      <th>p1</th>\n",
       "      <th>p1_conf</th>\n",
       "      <th>p1_dog</th>\n",
       "      <th>p2</th>\n",
       "      <th>p2_conf</th>\n",
       "      <th>p2_dog</th>\n",
       "      <th>p3</th>\n",
       "      <th>p3_conf</th>\n",
       "      <th>p3_dog</th>\n",
       "    </tr>\n",
       "  </thead>\n",
       "  <tbody>\n",
       "    <tr>\n",
       "      <th>2070</th>\n",
       "      <td>891327558926688256</td>\n",
       "      <td>https://pbs.twimg.com/media/DF6hr6BUMAAzZgT.jpg</td>\n",
       "      <td>2</td>\n",
       "      <td>basset</td>\n",
       "      <td>0.555712</td>\n",
       "      <td>True</td>\n",
       "      <td>English_springer</td>\n",
       "      <td>0.225770</td>\n",
       "      <td>True</td>\n",
       "      <td>German_short-haired_pointer</td>\n",
       "      <td>0.175219</td>\n",
       "      <td>True</td>\n",
       "    </tr>\n",
       "    <tr>\n",
       "      <th>2071</th>\n",
       "      <td>891689557279858688</td>\n",
       "      <td>https://pbs.twimg.com/media/DF_q7IAWsAEuuN8.jpg</td>\n",
       "      <td>1</td>\n",
       "      <td>paper_towel</td>\n",
       "      <td>0.170278</td>\n",
       "      <td>False</td>\n",
       "      <td>Labrador_retriever</td>\n",
       "      <td>0.168086</td>\n",
       "      <td>True</td>\n",
       "      <td>spatula</td>\n",
       "      <td>0.040836</td>\n",
       "      <td>False</td>\n",
       "    </tr>\n",
       "    <tr>\n",
       "      <th>2072</th>\n",
       "      <td>891815181378084864</td>\n",
       "      <td>https://pbs.twimg.com/media/DGBdLU1WsAANxJ9.jpg</td>\n",
       "      <td>1</td>\n",
       "      <td>Chihuahua</td>\n",
       "      <td>0.716012</td>\n",
       "      <td>True</td>\n",
       "      <td>malamute</td>\n",
       "      <td>0.078253</td>\n",
       "      <td>True</td>\n",
       "      <td>kelpie</td>\n",
       "      <td>0.031379</td>\n",
       "      <td>True</td>\n",
       "    </tr>\n",
       "    <tr>\n",
       "      <th>2073</th>\n",
       "      <td>892177421306343426</td>\n",
       "      <td>https://pbs.twimg.com/media/DGGmoV4XsAAUL6n.jpg</td>\n",
       "      <td>1</td>\n",
       "      <td>Chihuahua</td>\n",
       "      <td>0.323581</td>\n",
       "      <td>True</td>\n",
       "      <td>Pekinese</td>\n",
       "      <td>0.090647</td>\n",
       "      <td>True</td>\n",
       "      <td>papillon</td>\n",
       "      <td>0.068957</td>\n",
       "      <td>True</td>\n",
       "    </tr>\n",
       "    <tr>\n",
       "      <th>2074</th>\n",
       "      <td>892420643555336193</td>\n",
       "      <td>https://pbs.twimg.com/media/DGKD1-bXoAAIAUK.jpg</td>\n",
       "      <td>1</td>\n",
       "      <td>orange</td>\n",
       "      <td>0.097049</td>\n",
       "      <td>False</td>\n",
       "      <td>bagel</td>\n",
       "      <td>0.085851</td>\n",
       "      <td>False</td>\n",
       "      <td>banana</td>\n",
       "      <td>0.076110</td>\n",
       "      <td>False</td>\n",
       "    </tr>\n",
       "  </tbody>\n",
       "</table>\n",
       "</div>"
      ],
      "text/plain": [
       "                tweet_id                                          jpg_url  \\\n",
       "2070  891327558926688256  https://pbs.twimg.com/media/DF6hr6BUMAAzZgT.jpg   \n",
       "2071  891689557279858688  https://pbs.twimg.com/media/DF_q7IAWsAEuuN8.jpg   \n",
       "2072  891815181378084864  https://pbs.twimg.com/media/DGBdLU1WsAANxJ9.jpg   \n",
       "2073  892177421306343426  https://pbs.twimg.com/media/DGGmoV4XsAAUL6n.jpg   \n",
       "2074  892420643555336193  https://pbs.twimg.com/media/DGKD1-bXoAAIAUK.jpg   \n",
       "\n",
       "      img_num           p1   p1_conf  p1_dog                  p2   p2_conf  \\\n",
       "2070        2       basset  0.555712    True    English_springer  0.225770   \n",
       "2071        1  paper_towel  0.170278   False  Labrador_retriever  0.168086   \n",
       "2072        1    Chihuahua  0.716012    True            malamute  0.078253   \n",
       "2073        1    Chihuahua  0.323581    True            Pekinese  0.090647   \n",
       "2074        1       orange  0.097049   False               bagel  0.085851   \n",
       "\n",
       "      p2_dog                           p3   p3_conf  p3_dog  \n",
       "2070    True  German_short-haired_pointer  0.175219    True  \n",
       "2071    True                      spatula  0.040836   False  \n",
       "2072    True                       kelpie  0.031379    True  \n",
       "2073    True                     papillon  0.068957    True  \n",
       "2074   False                       banana  0.076110   False  "
      ]
     },
     "execution_count": 18,
     "metadata": {},
     "output_type": "execute_result"
    }
   ],
   "source": [
    "image_prediction.tail()"
   ]
  },
  {
   "cell_type": "code",
   "execution_count": 19,
   "metadata": {},
   "outputs": [
    {
     "data": {
      "text/html": [
       "<div>\n",
       "<style scoped>\n",
       "    .dataframe tbody tr th:only-of-type {\n",
       "        vertical-align: middle;\n",
       "    }\n",
       "\n",
       "    .dataframe tbody tr th {\n",
       "        vertical-align: top;\n",
       "    }\n",
       "\n",
       "    .dataframe thead th {\n",
       "        text-align: right;\n",
       "    }\n",
       "</style>\n",
       "<table border=\"1\" class=\"dataframe\">\n",
       "  <thead>\n",
       "    <tr style=\"text-align: right;\">\n",
       "      <th></th>\n",
       "      <th>tweet_id</th>\n",
       "      <th>jpg_url</th>\n",
       "      <th>img_num</th>\n",
       "      <th>p1</th>\n",
       "      <th>p1_conf</th>\n",
       "      <th>p1_dog</th>\n",
       "      <th>p2</th>\n",
       "      <th>p2_conf</th>\n",
       "      <th>p2_dog</th>\n",
       "      <th>p3</th>\n",
       "      <th>p3_conf</th>\n",
       "      <th>p3_dog</th>\n",
       "    </tr>\n",
       "  </thead>\n",
       "  <tbody>\n",
       "    <tr>\n",
       "      <th>722</th>\n",
       "      <td>686003207160610816</td>\n",
       "      <td>https://pbs.twimg.com/media/CYUsRsbWAAAUt4Y.jpg</td>\n",
       "      <td>1</td>\n",
       "      <td>damselfly</td>\n",
       "      <td>0.190786</td>\n",
       "      <td>False</td>\n",
       "      <td>common_newt</td>\n",
       "      <td>0.098131</td>\n",
       "      <td>False</td>\n",
       "      <td>whiptail</td>\n",
       "      <td>0.088958</td>\n",
       "      <td>False</td>\n",
       "    </tr>\n",
       "    <tr>\n",
       "      <th>823</th>\n",
       "      <td>693155686491000832</td>\n",
       "      <td>https://pbs.twimg.com/media/CZ6VatdWwAAwHly.jpg</td>\n",
       "      <td>3</td>\n",
       "      <td>Shih-Tzu</td>\n",
       "      <td>0.697480</td>\n",
       "      <td>True</td>\n",
       "      <td>Lhasa</td>\n",
       "      <td>0.200151</td>\n",
       "      <td>True</td>\n",
       "      <td>Tibetan_terrier</td>\n",
       "      <td>0.090970</td>\n",
       "      <td>True</td>\n",
       "    </tr>\n",
       "    <tr>\n",
       "      <th>382</th>\n",
       "      <td>673320132811366400</td>\n",
       "      <td>https://pbs.twimg.com/media/CVgdFjNWEAAxmbq.jpg</td>\n",
       "      <td>3</td>\n",
       "      <td>Samoyed</td>\n",
       "      <td>0.978833</td>\n",
       "      <td>True</td>\n",
       "      <td>Pomeranian</td>\n",
       "      <td>0.012763</td>\n",
       "      <td>True</td>\n",
       "      <td>Eskimo_dog</td>\n",
       "      <td>0.001853</td>\n",
       "      <td>True</td>\n",
       "    </tr>\n",
       "    <tr>\n",
       "      <th>931</th>\n",
       "      <td>703079050210877440</td>\n",
       "      <td>https://pbs.twimg.com/media/CcHWqQCW8AEb0ZH.jpg</td>\n",
       "      <td>2</td>\n",
       "      <td>Pembroke</td>\n",
       "      <td>0.778503</td>\n",
       "      <td>True</td>\n",
       "      <td>Shetland_sheepdog</td>\n",
       "      <td>0.093834</td>\n",
       "      <td>True</td>\n",
       "      <td>Cardigan</td>\n",
       "      <td>0.060296</td>\n",
       "      <td>True</td>\n",
       "    </tr>\n",
       "    <tr>\n",
       "      <th>68</th>\n",
       "      <td>667182792070062081</td>\n",
       "      <td>https://pbs.twimg.com/media/CUJPNjOWsAAZRqP.jpg</td>\n",
       "      <td>1</td>\n",
       "      <td>golden_retriever</td>\n",
       "      <td>0.949892</td>\n",
       "      <td>True</td>\n",
       "      <td>Irish_setter</td>\n",
       "      <td>0.010564</td>\n",
       "      <td>True</td>\n",
       "      <td>Chesapeake_Bay_retriever</td>\n",
       "      <td>0.005821</td>\n",
       "      <td>True</td>\n",
       "    </tr>\n",
       "  </tbody>\n",
       "</table>\n",
       "</div>"
      ],
      "text/plain": [
       "               tweet_id                                          jpg_url  \\\n",
       "722  686003207160610816  https://pbs.twimg.com/media/CYUsRsbWAAAUt4Y.jpg   \n",
       "823  693155686491000832  https://pbs.twimg.com/media/CZ6VatdWwAAwHly.jpg   \n",
       "382  673320132811366400  https://pbs.twimg.com/media/CVgdFjNWEAAxmbq.jpg   \n",
       "931  703079050210877440  https://pbs.twimg.com/media/CcHWqQCW8AEb0ZH.jpg   \n",
       "68   667182792070062081  https://pbs.twimg.com/media/CUJPNjOWsAAZRqP.jpg   \n",
       "\n",
       "     img_num                p1   p1_conf  p1_dog                 p2   p2_conf  \\\n",
       "722        1         damselfly  0.190786   False        common_newt  0.098131   \n",
       "823        3          Shih-Tzu  0.697480    True              Lhasa  0.200151   \n",
       "382        3           Samoyed  0.978833    True         Pomeranian  0.012763   \n",
       "931        2          Pembroke  0.778503    True  Shetland_sheepdog  0.093834   \n",
       "68         1  golden_retriever  0.949892    True       Irish_setter  0.010564   \n",
       "\n",
       "     p2_dog                        p3   p3_conf  p3_dog  \n",
       "722   False                  whiptail  0.088958   False  \n",
       "823    True           Tibetan_terrier  0.090970    True  \n",
       "382    True                Eskimo_dog  0.001853    True  \n",
       "931    True                  Cardigan  0.060296    True  \n",
       "68     True  Chesapeake_Bay_retriever  0.005821    True  "
      ]
     },
     "execution_count": 19,
     "metadata": {},
     "output_type": "execute_result"
    }
   ],
   "source": [
    "image_prediction.sample(5)"
   ]
  },
  {
   "cell_type": "markdown",
   "metadata": {},
   "source": [
    "> ### image_prediction\n",
    ">   Inspecting the data visually, I can see that:\n",
    "> - The naming of the dogs were non-uniform; some were written in capitals, while some were in small letters\n",
    "> - Also we can remove the underscore for many dog breed names\n",
    "> - I don't think there's need for the jpg url \n",
    "> - The columns \"p1\" and \"p1 conf\" should have descriptive names."
   ]
  },
  {
   "cell_type": "code",
   "execution_count": 20,
   "metadata": {},
   "outputs": [
    {
     "data": {
      "text/html": [
       "<div>\n",
       "<style scoped>\n",
       "    .dataframe tbody tr th:only-of-type {\n",
       "        vertical-align: middle;\n",
       "    }\n",
       "\n",
       "    .dataframe tbody tr th {\n",
       "        vertical-align: top;\n",
       "    }\n",
       "\n",
       "    .dataframe thead th {\n",
       "        text-align: right;\n",
       "    }\n",
       "</style>\n",
       "<table border=\"1\" class=\"dataframe\">\n",
       "  <thead>\n",
       "    <tr style=\"text-align: right;\">\n",
       "      <th></th>\n",
       "      <th>tweet_id</th>\n",
       "      <th>favorites</th>\n",
       "      <th>retweets</th>\n",
       "      <th>user_followers</th>\n",
       "      <th>user_favourites</th>\n",
       "      <th>date_time</th>\n",
       "    </tr>\n",
       "  </thead>\n",
       "  <tbody>\n",
       "    <tr>\n",
       "      <th>0</th>\n",
       "      <td>892420643555336193</td>\n",
       "      <td>33792</td>\n",
       "      <td>6998</td>\n",
       "      <td>9300854</td>\n",
       "      <td>146892</td>\n",
       "      <td>2017-08-01 16:23:56+00:00</td>\n",
       "    </tr>\n",
       "    <tr>\n",
       "      <th>1</th>\n",
       "      <td>892177421306343426</td>\n",
       "      <td>29312</td>\n",
       "      <td>5297</td>\n",
       "      <td>9300854</td>\n",
       "      <td>146892</td>\n",
       "      <td>2017-08-01 00:17:27+00:00</td>\n",
       "    </tr>\n",
       "    <tr>\n",
       "      <th>2</th>\n",
       "      <td>891815181378084864</td>\n",
       "      <td>22041</td>\n",
       "      <td>3477</td>\n",
       "      <td>9300854</td>\n",
       "      <td>146892</td>\n",
       "      <td>2017-07-31 00:18:03+00:00</td>\n",
       "    </tr>\n",
       "    <tr>\n",
       "      <th>3</th>\n",
       "      <td>891689557279858688</td>\n",
       "      <td>36915</td>\n",
       "      <td>7219</td>\n",
       "      <td>9300854</td>\n",
       "      <td>146892</td>\n",
       "      <td>2017-07-30 15:58:51+00:00</td>\n",
       "    </tr>\n",
       "    <tr>\n",
       "      <th>4</th>\n",
       "      <td>891327558926688256</td>\n",
       "      <td>35294</td>\n",
       "      <td>7752</td>\n",
       "      <td>9300854</td>\n",
       "      <td>146892</td>\n",
       "      <td>2017-07-29 16:00:24+00:00</td>\n",
       "    </tr>\n",
       "  </tbody>\n",
       "</table>\n",
       "</div>"
      ],
      "text/plain": [
       "             tweet_id  favorites  retweets  user_followers  user_favourites  \\\n",
       "0  892420643555336193      33792      6998         9300854           146892   \n",
       "1  892177421306343426      29312      5297         9300854           146892   \n",
       "2  891815181378084864      22041      3477         9300854           146892   \n",
       "3  891689557279858688      36915      7219         9300854           146892   \n",
       "4  891327558926688256      35294      7752         9300854           146892   \n",
       "\n",
       "                   date_time  \n",
       "0  2017-08-01 16:23:56+00:00  \n",
       "1  2017-08-01 00:17:27+00:00  \n",
       "2  2017-07-31 00:18:03+00:00  \n",
       "3  2017-07-30 15:58:51+00:00  \n",
       "4  2017-07-29 16:00:24+00:00  "
      ]
     },
     "execution_count": 20,
     "metadata": {},
     "output_type": "execute_result"
    }
   ],
   "source": [
    "df_api.head()"
   ]
  },
  {
   "cell_type": "code",
   "execution_count": 21,
   "metadata": {},
   "outputs": [
    {
     "data": {
      "text/html": [
       "<div>\n",
       "<style scoped>\n",
       "    .dataframe tbody tr th:only-of-type {\n",
       "        vertical-align: middle;\n",
       "    }\n",
       "\n",
       "    .dataframe tbody tr th {\n",
       "        vertical-align: top;\n",
       "    }\n",
       "\n",
       "    .dataframe thead th {\n",
       "        text-align: right;\n",
       "    }\n",
       "</style>\n",
       "<table border=\"1\" class=\"dataframe\">\n",
       "  <thead>\n",
       "    <tr style=\"text-align: right;\">\n",
       "      <th></th>\n",
       "      <th>tweet_id</th>\n",
       "      <th>favorites</th>\n",
       "      <th>retweets</th>\n",
       "      <th>user_followers</th>\n",
       "      <th>user_favourites</th>\n",
       "      <th>date_time</th>\n",
       "    </tr>\n",
       "  </thead>\n",
       "  <tbody>\n",
       "    <tr>\n",
       "      <th>655</th>\n",
       "      <td>788039637453406209</td>\n",
       "      <td>5797</td>\n",
       "      <td>1227</td>\n",
       "      <td>9300906</td>\n",
       "      <td>146892</td>\n",
       "      <td>2016-10-17 15:31:05+00:00</td>\n",
       "    </tr>\n",
       "    <tr>\n",
       "      <th>656</th>\n",
       "      <td>787810552592695296</td>\n",
       "      <td>8151</td>\n",
       "      <td>2840</td>\n",
       "      <td>9300906</td>\n",
       "      <td>146892</td>\n",
       "      <td>2016-10-17 00:20:47+00:00</td>\n",
       "    </tr>\n",
       "    <tr>\n",
       "      <th>657</th>\n",
       "      <td>787717603741622272</td>\n",
       "      <td>9707</td>\n",
       "      <td>2586</td>\n",
       "      <td>9300906</td>\n",
       "      <td>146892</td>\n",
       "      <td>2016-10-16 18:11:26+00:00</td>\n",
       "    </tr>\n",
       "    <tr>\n",
       "      <th>658</th>\n",
       "      <td>787397959788929025</td>\n",
       "      <td>10331</td>\n",
       "      <td>2668</td>\n",
       "      <td>9300906</td>\n",
       "      <td>146892</td>\n",
       "      <td>2016-10-15 21:01:17+00:00</td>\n",
       "    </tr>\n",
       "    <tr>\n",
       "      <th>659</th>\n",
       "      <td>787322443945877504</td>\n",
       "      <td>7393</td>\n",
       "      <td>1626</td>\n",
       "      <td>9300906</td>\n",
       "      <td>146892</td>\n",
       "      <td>2016-10-15 16:01:13+00:00</td>\n",
       "    </tr>\n",
       "  </tbody>\n",
       "</table>\n",
       "</div>"
      ],
      "text/plain": [
       "               tweet_id  favorites  retweets  user_followers  user_favourites  \\\n",
       "655  788039637453406209       5797      1227         9300906           146892   \n",
       "656  787810552592695296       8151      2840         9300906           146892   \n",
       "657  787717603741622272       9707      2586         9300906           146892   \n",
       "658  787397959788929025      10331      2668         9300906           146892   \n",
       "659  787322443945877504       7393      1626         9300906           146892   \n",
       "\n",
       "                     date_time  \n",
       "655  2016-10-17 15:31:05+00:00  \n",
       "656  2016-10-17 00:20:47+00:00  \n",
       "657  2016-10-16 18:11:26+00:00  \n",
       "658  2016-10-15 21:01:17+00:00  \n",
       "659  2016-10-15 16:01:13+00:00  "
      ]
     },
     "execution_count": 21,
     "metadata": {},
     "output_type": "execute_result"
    }
   ],
   "source": [
    "df_api.tail()"
   ]
  },
  {
   "cell_type": "code",
   "execution_count": 22,
   "metadata": {},
   "outputs": [
    {
     "data": {
      "text/html": [
       "<div>\n",
       "<style scoped>\n",
       "    .dataframe tbody tr th:only-of-type {\n",
       "        vertical-align: middle;\n",
       "    }\n",
       "\n",
       "    .dataframe tbody tr th {\n",
       "        vertical-align: top;\n",
       "    }\n",
       "\n",
       "    .dataframe thead th {\n",
       "        text-align: right;\n",
       "    }\n",
       "</style>\n",
       "<table border=\"1\" class=\"dataframe\">\n",
       "  <thead>\n",
       "    <tr style=\"text-align: right;\">\n",
       "      <th></th>\n",
       "      <th>tweet_id</th>\n",
       "      <th>favorites</th>\n",
       "      <th>retweets</th>\n",
       "      <th>user_followers</th>\n",
       "      <th>user_favourites</th>\n",
       "      <th>date_time</th>\n",
       "    </tr>\n",
       "  </thead>\n",
       "  <tbody>\n",
       "    <tr>\n",
       "      <th>189</th>\n",
       "      <td>852189679701164033</td>\n",
       "      <td>10573</td>\n",
       "      <td>1419</td>\n",
       "      <td>9300884</td>\n",
       "      <td>146892</td>\n",
       "      <td>2017-04-12 16:00:27+00:00</td>\n",
       "    </tr>\n",
       "    <tr>\n",
       "      <th>415</th>\n",
       "      <td>819227688460238848</td>\n",
       "      <td>21789</td>\n",
       "      <td>6238</td>\n",
       "      <td>9300895</td>\n",
       "      <td>146892</td>\n",
       "      <td>2017-01-11 17:01:16+00:00</td>\n",
       "    </tr>\n",
       "    <tr>\n",
       "      <th>456</th>\n",
       "      <td>814530161257443328</td>\n",
       "      <td>8214</td>\n",
       "      <td>1739</td>\n",
       "      <td>9300896</td>\n",
       "      <td>146892</td>\n",
       "      <td>2016-12-29 17:54:58+00:00</td>\n",
       "    </tr>\n",
       "    <tr>\n",
       "      <th>330</th>\n",
       "      <td>830097400375152640</td>\n",
       "      <td>9169</td>\n",
       "      <td>2698</td>\n",
       "      <td>9300893</td>\n",
       "      <td>146892</td>\n",
       "      <td>2017-02-10 16:53:37+00:00</td>\n",
       "    </tr>\n",
       "    <tr>\n",
       "      <th>126</th>\n",
       "      <td>864197398364647424</td>\n",
       "      <td>26626</td>\n",
       "      <td>7582</td>\n",
       "      <td>9300877</td>\n",
       "      <td>146892</td>\n",
       "      <td>2017-05-15 19:14:50+00:00</td>\n",
       "    </tr>\n",
       "  </tbody>\n",
       "</table>\n",
       "</div>"
      ],
      "text/plain": [
       "               tweet_id  favorites  retweets  user_followers  user_favourites  \\\n",
       "189  852189679701164033      10573      1419         9300884           146892   \n",
       "415  819227688460238848      21789      6238         9300895           146892   \n",
       "456  814530161257443328       8214      1739         9300896           146892   \n",
       "330  830097400375152640       9169      2698         9300893           146892   \n",
       "126  864197398364647424      26626      7582         9300877           146892   \n",
       "\n",
       "                     date_time  \n",
       "189  2017-04-12 16:00:27+00:00  \n",
       "415  2017-01-11 17:01:16+00:00  \n",
       "456  2016-12-29 17:54:58+00:00  \n",
       "330  2017-02-10 16:53:37+00:00  \n",
       "126  2017-05-15 19:14:50+00:00  "
      ]
     },
     "execution_count": 22,
     "metadata": {},
     "output_type": "execute_result"
    }
   ],
   "source": [
    "df_api.sample(5)"
   ]
  },
  {
   "cell_type": "markdown",
   "metadata": {},
   "source": [
    "### Programmatic assessment"
   ]
  },
  {
   "cell_type": "markdown",
   "metadata": {},
   "source": [
    "#### Twitter archive"
   ]
  },
  {
   "cell_type": "code",
   "execution_count": 23,
   "metadata": {},
   "outputs": [
    {
     "data": {
      "text/html": [
       "<div>\n",
       "<style scoped>\n",
       "    .dataframe tbody tr th:only-of-type {\n",
       "        vertical-align: middle;\n",
       "    }\n",
       "\n",
       "    .dataframe tbody tr th {\n",
       "        vertical-align: top;\n",
       "    }\n",
       "\n",
       "    .dataframe thead th {\n",
       "        text-align: right;\n",
       "    }\n",
       "</style>\n",
       "<table border=\"1\" class=\"dataframe\">\n",
       "  <thead>\n",
       "    <tr style=\"text-align: right;\">\n",
       "      <th></th>\n",
       "      <th>tweet_id</th>\n",
       "      <th>in_reply_to_status_id</th>\n",
       "      <th>in_reply_to_user_id</th>\n",
       "      <th>timestamp</th>\n",
       "      <th>source</th>\n",
       "      <th>text</th>\n",
       "      <th>retweeted_status_id</th>\n",
       "      <th>retweeted_status_user_id</th>\n",
       "      <th>retweeted_status_timestamp</th>\n",
       "      <th>expanded_urls</th>\n",
       "      <th>rating_numerator</th>\n",
       "      <th>rating_denominator</th>\n",
       "      <th>name</th>\n",
       "      <th>doggo</th>\n",
       "      <th>floofer</th>\n",
       "      <th>pupper</th>\n",
       "      <th>puppo</th>\n",
       "    </tr>\n",
       "  </thead>\n",
       "  <tbody>\n",
       "    <tr>\n",
       "      <th>0</th>\n",
       "      <td>892420643555336193</td>\n",
       "      <td>NaN</td>\n",
       "      <td>NaN</td>\n",
       "      <td>2017-08-01 16:23:56 +0000</td>\n",
       "      <td>&lt;a href=\"http://twitter.com/download/iphone\" r...</td>\n",
       "      <td>This is Phineas. He's a mystical boy. Only eve...</td>\n",
       "      <td>NaN</td>\n",
       "      <td>NaN</td>\n",
       "      <td>NaN</td>\n",
       "      <td>https://twitter.com/dog_rates/status/892420643...</td>\n",
       "      <td>13</td>\n",
       "      <td>10</td>\n",
       "      <td>Phineas</td>\n",
       "      <td>None</td>\n",
       "      <td>None</td>\n",
       "      <td>None</td>\n",
       "      <td>None</td>\n",
       "    </tr>\n",
       "  </tbody>\n",
       "</table>\n",
       "</div>"
      ],
      "text/plain": [
       "             tweet_id  in_reply_to_status_id  in_reply_to_user_id  \\\n",
       "0  892420643555336193                    NaN                  NaN   \n",
       "\n",
       "                   timestamp  \\\n",
       "0  2017-08-01 16:23:56 +0000   \n",
       "\n",
       "                                              source  \\\n",
       "0  <a href=\"http://twitter.com/download/iphone\" r...   \n",
       "\n",
       "                                                text  retweeted_status_id  \\\n",
       "0  This is Phineas. He's a mystical boy. Only eve...                  NaN   \n",
       "\n",
       "   retweeted_status_user_id retweeted_status_timestamp  \\\n",
       "0                       NaN                        NaN   \n",
       "\n",
       "                                       expanded_urls  rating_numerator  \\\n",
       "0  https://twitter.com/dog_rates/status/892420643...                13   \n",
       "\n",
       "   rating_denominator     name doggo floofer pupper puppo  \n",
       "0                  10  Phineas  None    None   None  None  "
      ]
     },
     "execution_count": 23,
     "metadata": {},
     "output_type": "execute_result"
    }
   ],
   "source": [
    "twitter_archive.head(1)"
   ]
  },
  {
   "cell_type": "code",
   "execution_count": 24,
   "metadata": {},
   "outputs": [
    {
     "data": {
      "text/html": [
       "<div>\n",
       "<style scoped>\n",
       "    .dataframe tbody tr th:only-of-type {\n",
       "        vertical-align: middle;\n",
       "    }\n",
       "\n",
       "    .dataframe tbody tr th {\n",
       "        vertical-align: top;\n",
       "    }\n",
       "\n",
       "    .dataframe thead th {\n",
       "        text-align: right;\n",
       "    }\n",
       "</style>\n",
       "<table border=\"1\" class=\"dataframe\">\n",
       "  <thead>\n",
       "    <tr style=\"text-align: right;\">\n",
       "      <th></th>\n",
       "      <th>count</th>\n",
       "      <th>mean</th>\n",
       "      <th>std</th>\n",
       "      <th>min</th>\n",
       "      <th>25%</th>\n",
       "      <th>50%</th>\n",
       "      <th>75%</th>\n",
       "      <th>max</th>\n",
       "    </tr>\n",
       "  </thead>\n",
       "  <tbody>\n",
       "    <tr>\n",
       "      <th>tweet_id</th>\n",
       "      <td>2356.0</td>\n",
       "      <td>7.427716e+17</td>\n",
       "      <td>6.856705e+16</td>\n",
       "      <td>6.660209e+17</td>\n",
       "      <td>6.783989e+17</td>\n",
       "      <td>7.196279e+17</td>\n",
       "      <td>7.993373e+17</td>\n",
       "      <td>8.924206e+17</td>\n",
       "    </tr>\n",
       "    <tr>\n",
       "      <th>in_reply_to_status_id</th>\n",
       "      <td>78.0</td>\n",
       "      <td>7.455079e+17</td>\n",
       "      <td>7.582492e+16</td>\n",
       "      <td>6.658147e+17</td>\n",
       "      <td>6.757419e+17</td>\n",
       "      <td>7.038708e+17</td>\n",
       "      <td>8.257804e+17</td>\n",
       "      <td>8.862664e+17</td>\n",
       "    </tr>\n",
       "    <tr>\n",
       "      <th>in_reply_to_user_id</th>\n",
       "      <td>78.0</td>\n",
       "      <td>2.014171e+16</td>\n",
       "      <td>1.252797e+17</td>\n",
       "      <td>1.185634e+07</td>\n",
       "      <td>3.086374e+08</td>\n",
       "      <td>4.196984e+09</td>\n",
       "      <td>4.196984e+09</td>\n",
       "      <td>8.405479e+17</td>\n",
       "    </tr>\n",
       "    <tr>\n",
       "      <th>retweeted_status_id</th>\n",
       "      <td>181.0</td>\n",
       "      <td>7.720400e+17</td>\n",
       "      <td>6.236928e+16</td>\n",
       "      <td>6.661041e+17</td>\n",
       "      <td>7.186315e+17</td>\n",
       "      <td>7.804657e+17</td>\n",
       "      <td>8.203146e+17</td>\n",
       "      <td>8.874740e+17</td>\n",
       "    </tr>\n",
       "    <tr>\n",
       "      <th>retweeted_status_user_id</th>\n",
       "      <td>181.0</td>\n",
       "      <td>1.241698e+16</td>\n",
       "      <td>9.599254e+16</td>\n",
       "      <td>7.832140e+05</td>\n",
       "      <td>4.196984e+09</td>\n",
       "      <td>4.196984e+09</td>\n",
       "      <td>4.196984e+09</td>\n",
       "      <td>7.874618e+17</td>\n",
       "    </tr>\n",
       "    <tr>\n",
       "      <th>rating_numerator</th>\n",
       "      <td>2356.0</td>\n",
       "      <td>1.312649e+01</td>\n",
       "      <td>4.587665e+01</td>\n",
       "      <td>0.000000e+00</td>\n",
       "      <td>1.000000e+01</td>\n",
       "      <td>1.100000e+01</td>\n",
       "      <td>1.200000e+01</td>\n",
       "      <td>1.776000e+03</td>\n",
       "    </tr>\n",
       "    <tr>\n",
       "      <th>rating_denominator</th>\n",
       "      <td>2356.0</td>\n",
       "      <td>1.045543e+01</td>\n",
       "      <td>6.745237e+00</td>\n",
       "      <td>0.000000e+00</td>\n",
       "      <td>1.000000e+01</td>\n",
       "      <td>1.000000e+01</td>\n",
       "      <td>1.000000e+01</td>\n",
       "      <td>1.700000e+02</td>\n",
       "    </tr>\n",
       "  </tbody>\n",
       "</table>\n",
       "</div>"
      ],
      "text/plain": [
       "                           count          mean           std           min  \\\n",
       "tweet_id                  2356.0  7.427716e+17  6.856705e+16  6.660209e+17   \n",
       "in_reply_to_status_id       78.0  7.455079e+17  7.582492e+16  6.658147e+17   \n",
       "in_reply_to_user_id         78.0  2.014171e+16  1.252797e+17  1.185634e+07   \n",
       "retweeted_status_id        181.0  7.720400e+17  6.236928e+16  6.661041e+17   \n",
       "retweeted_status_user_id   181.0  1.241698e+16  9.599254e+16  7.832140e+05   \n",
       "rating_numerator          2356.0  1.312649e+01  4.587665e+01  0.000000e+00   \n",
       "rating_denominator        2356.0  1.045543e+01  6.745237e+00  0.000000e+00   \n",
       "\n",
       "                                   25%           50%           75%  \\\n",
       "tweet_id                  6.783989e+17  7.196279e+17  7.993373e+17   \n",
       "in_reply_to_status_id     6.757419e+17  7.038708e+17  8.257804e+17   \n",
       "in_reply_to_user_id       3.086374e+08  4.196984e+09  4.196984e+09   \n",
       "retweeted_status_id       7.186315e+17  7.804657e+17  8.203146e+17   \n",
       "retweeted_status_user_id  4.196984e+09  4.196984e+09  4.196984e+09   \n",
       "rating_numerator          1.000000e+01  1.100000e+01  1.200000e+01   \n",
       "rating_denominator        1.000000e+01  1.000000e+01  1.000000e+01   \n",
       "\n",
       "                                   max  \n",
       "tweet_id                  8.924206e+17  \n",
       "in_reply_to_status_id     8.862664e+17  \n",
       "in_reply_to_user_id       8.405479e+17  \n",
       "retweeted_status_id       8.874740e+17  \n",
       "retweeted_status_user_id  7.874618e+17  \n",
       "rating_numerator          1.776000e+03  \n",
       "rating_denominator        1.700000e+02  "
      ]
     },
     "execution_count": 24,
     "metadata": {},
     "output_type": "execute_result"
    }
   ],
   "source": [
    "twitter_archive.describe().T"
   ]
  },
  {
   "cell_type": "code",
   "execution_count": 25,
   "metadata": {},
   "outputs": [
    {
     "name": "stdout",
     "output_type": "stream",
     "text": [
      "<class 'pandas.core.frame.DataFrame'>\n",
      "RangeIndex: 2356 entries, 0 to 2355\n",
      "Data columns (total 17 columns):\n",
      " #   Column                      Non-Null Count  Dtype  \n",
      "---  ------                      --------------  -----  \n",
      " 0   tweet_id                    2356 non-null   int64  \n",
      " 1   in_reply_to_status_id       78 non-null     float64\n",
      " 2   in_reply_to_user_id         78 non-null     float64\n",
      " 3   timestamp                   2356 non-null   object \n",
      " 4   source                      2356 non-null   object \n",
      " 5   text                        2356 non-null   object \n",
      " 6   retweeted_status_id         181 non-null    float64\n",
      " 7   retweeted_status_user_id    181 non-null    float64\n",
      " 8   retweeted_status_timestamp  181 non-null    object \n",
      " 9   expanded_urls               2297 non-null   object \n",
      " 10  rating_numerator            2356 non-null   int64  \n",
      " 11  rating_denominator          2356 non-null   int64  \n",
      " 12  name                        2356 non-null   object \n",
      " 13  doggo                       2356 non-null   object \n",
      " 14  floofer                     2356 non-null   object \n",
      " 15  pupper                      2356 non-null   object \n",
      " 16  puppo                       2356 non-null   object \n",
      "dtypes: float64(4), int64(3), object(10)\n",
      "memory usage: 313.0+ KB\n"
     ]
    }
   ],
   "source": [
    "# print a concise summary of the DataFrame. \n",
    "twitter_archive.info()"
   ]
  },
  {
   "cell_type": "markdown",
   "metadata": {},
   "source": [
    "> ### The info() method reveals that:\n",
    ">\n",
    "> - These columns [ **in reply to status id, in reply to user id, retweeted status id, retweeted status user  id, retweeted status timestamp** ] had a lot of missing values, this corresponds to my conclusion from my visual  inspection\n",
    ">\n",
    "> - The expanded_urls (links to images) had 59 tweets with missing data\n",
    ">\n",
    "> - tweet_id, timestamp and retweeted_status_timestamp are object: meaning wrong data types"
   ]
  },
  {
   "cell_type": "code",
   "execution_count": 26,
   "metadata": {},
   "outputs": [
    {
     "data": {
      "text/plain": [
       "tweet_id                       0.000000\n",
       "in_reply_to_status_id         96.689304\n",
       "in_reply_to_user_id           96.689304\n",
       "timestamp                      0.000000\n",
       "source                         0.000000\n",
       "text                           0.000000\n",
       "retweeted_status_id           92.317487\n",
       "retweeted_status_user_id      92.317487\n",
       "retweeted_status_timestamp    92.317487\n",
       "expanded_urls                  2.504244\n",
       "rating_numerator               0.000000\n",
       "rating_denominator             0.000000\n",
       "name                           0.000000\n",
       "doggo                          0.000000\n",
       "floofer                        0.000000\n",
       "pupper                         0.000000\n",
       "puppo                          0.000000\n",
       "dtype: float64"
      ]
     },
     "execution_count": 26,
     "metadata": {},
     "output_type": "execute_result"
    }
   ],
   "source": [
    "#Checking the percentage of missing values\n",
    "twitter_archive.isnull().sum() * 100 / len(twitter_archive)"
   ]
  },
  {
   "cell_type": "markdown",
   "metadata": {},
   "source": [
    "This shows the percentage of missing values present"
   ]
  },
  {
   "cell_type": "code",
   "execution_count": 27,
   "metadata": {},
   "outputs": [
    {
     "name": "stdout",
     "output_type": "stream",
     "text": [
      "The data-type for the timestamp column is:  <class 'str'>\n"
     ]
    }
   ],
   "source": [
    "# Checking for the datatype for the timestamp\n",
    "print(\"The data-type for the timestamp column is:  \" + str(type(twitter_archive.timestamp[0])))"
   ]
  },
  {
   "cell_type": "code",
   "execution_count": 28,
   "metadata": {},
   "outputs": [
    {
     "name": "stdout",
     "output_type": "stream",
     "text": [
      "Duplicates:  0\n"
     ]
    }
   ],
   "source": [
    "#Checking to see if there are any duplicates\n",
    "print(\"Duplicates:  {}\".format(twitter_archive.duplicated().sum()))"
   ]
  },
  {
   "cell_type": "code",
   "execution_count": 29,
   "metadata": {},
   "outputs": [
    {
     "name": "stdout",
     "output_type": "stream",
     "text": [
      "Duplicates of tweet_id: 0\n"
     ]
    }
   ],
   "source": [
    "#Checking to see if our unique identifier is truly unique or not:\n",
    "\n",
    "print(\"Duplicates of tweet_id: {}\".format(twitter_archive.tweet_id.duplicated().sum()))"
   ]
  },
  {
   "cell_type": "code",
   "execution_count": 30,
   "metadata": {},
   "outputs": [
    {
     "data": {
      "text/plain": [
       "0"
      ]
     },
     "execution_count": 30,
     "metadata": {},
     "output_type": "execute_result"
    }
   ],
   "source": [
    "#Let's first check if our unique identifier is truly unique or not:\n",
    "\n",
    "twitter_archive.tweet_id.duplicated().sum()"
   ]
  },
  {
   "cell_type": "code",
   "execution_count": 31,
   "metadata": {},
   "outputs": [],
   "source": [
    "pd.set_option(\"display.max_rows\", None)"
   ]
  },
  {
   "cell_type": "markdown",
   "metadata": {},
   "source": [
    " #### Exploring names"
   ]
  },
  {
   "cell_type": "code",
   "execution_count": 32,
   "metadata": {},
   "outputs": [
    {
     "data": {
      "text/plain": [
       "None       745\n",
       "a           55\n",
       "Charlie     12\n",
       "Oliver      11\n",
       "Lucy        11\n",
       "Cooper      11\n",
       "Penny       10\n",
       "Lola        10\n",
       "Tucker      10\n",
       "Bo           9\n",
       "Winston      9\n",
       "the          8\n",
       "Sadie        8\n",
       "Buddy        7\n",
       "Daisy        7\n",
       "an           7\n",
       "Bailey       7\n",
       "Toby         7\n",
       "Bella        6\n",
       "Oscar        6\n",
       "Leo          6\n",
       "Dave         6\n",
       "Rusty        6\n",
       "Milo         6\n",
       "Stanley      6\n",
       "Koda         6\n",
       "Jack         6\n",
       "Scout        6\n",
       "Jax          6\n",
       "Louis        5\n",
       "Name: name, dtype: int64"
      ]
     },
     "execution_count": 32,
     "metadata": {},
     "output_type": "execute_result"
    }
   ],
   "source": [
    "#I saw anomalies in the name column during my visual inspection, so I'll investigate more now.\n",
    "\n",
    "twitter_archive.name.value_counts().head(30)"
   ]
  },
  {
   "cell_type": "markdown",
   "metadata": {},
   "source": [
    "With a total of 745 occurrences, \"none\" was the most common, followed by \"a\". One thing I observed was that only the dog names were capitalized."
   ]
  },
  {
   "cell_type": "code",
   "execution_count": 33,
   "metadata": {},
   "outputs": [
    {
     "data": {
      "text/plain": [
       "a               55\n",
       "the              8\n",
       "an               7\n",
       "very             5\n",
       "one              4\n",
       "just             4\n",
       "quite            4\n",
       "not              2\n",
       "mad              2\n",
       "actually         2\n",
       "getting          2\n",
       "my               1\n",
       "old              1\n",
       "infuriating      1\n",
       "his              1\n",
       "incredibly       1\n",
       "this             1\n",
       "unacceptable     1\n",
       "officially       1\n",
       "space            1\n",
       "such             1\n",
       "light            1\n",
       "all              1\n",
       "life             1\n",
       "by               1\n",
       "Name: name, dtype: int64"
      ]
     },
     "execution_count": 33,
     "metadata": {},
     "output_type": "execute_result"
    }
   ],
   "source": [
    "# Checking the names that are not capitalized\n",
    "pat = '^[a-z]'\n",
    "\n",
    "# [^a-z] - Matches any characters except those in the range a-z.\n",
    "\n",
    "small_let_mask = twitter_archive.name.str.contains(pat)\n",
    "twitter_archive[small_let_mask].name.value_counts().head(30)"
   ]
  },
  {
   "cell_type": "code",
   "execution_count": 34,
   "metadata": {},
   "outputs": [
    {
     "data": {
      "text/plain": [
       "109"
      ]
     },
     "execution_count": 34,
     "metadata": {},
     "output_type": "execute_result"
    }
   ],
   "source": [
    "# The number of names that are not capitalized:\n",
    "len(twitter_archive[small_let_mask])"
   ]
  },
  {
   "cell_type": "markdown",
   "metadata": {},
   "source": [
    "A total of 109 names are not valid"
   ]
  },
  {
   "cell_type": "markdown",
   "metadata": {},
   "source": [
    "#### Exploring the ratings"
   ]
  },
  {
   "cell_type": "code",
   "execution_count": 35,
   "metadata": {},
   "outputs": [],
   "source": [
    "pd.reset_option('display.max_rows')\n",
    "pd.reset_option('display.max_columns')"
   ]
  },
  {
   "cell_type": "code",
   "execution_count": 36,
   "metadata": {},
   "outputs": [
    {
     "data": {
      "text/plain": [
       "0    This is Phineas. He's a mystical boy. Only eve...\n",
       "1    This is Tilly. She's just checking pup on you....\n",
       "2    This is Archie. He is a rare Norwegian Pouncin...\n",
       "3    This is Darla. She commenced a snooze mid meal...\n",
       "4    This is Franklin. He would like you to stop ca...\n",
       "Name: text, dtype: object"
      ]
     },
     "execution_count": 36,
     "metadata": {},
     "output_type": "execute_result"
    }
   ],
   "source": [
    "twitter_archive.text.head()"
   ]
  },
  {
   "cell_type": "markdown",
   "metadata": {},
   "source": [
    "The rating of the dog is always at the end of the text content, but before the url link."
   ]
  },
  {
   "cell_type": "code",
   "execution_count": 37,
   "metadata": {},
   "outputs": [
    {
     "data": {
      "text/html": [
       "<div>\n",
       "<style scoped>\n",
       "    .dataframe tbody tr th:only-of-type {\n",
       "        vertical-align: middle;\n",
       "    }\n",
       "\n",
       "    .dataframe tbody tr th {\n",
       "        vertical-align: top;\n",
       "    }\n",
       "\n",
       "    .dataframe thead th {\n",
       "        text-align: right;\n",
       "    }\n",
       "</style>\n",
       "<table border=\"1\" class=\"dataframe\">\n",
       "  <thead>\n",
       "    <tr style=\"text-align: right;\">\n",
       "      <th></th>\n",
       "      <th>rating_numerator</th>\n",
       "      <th>rating_denominator</th>\n",
       "    </tr>\n",
       "  </thead>\n",
       "  <tbody>\n",
       "    <tr>\n",
       "      <th>0</th>\n",
       "      <td>13</td>\n",
       "      <td>10</td>\n",
       "    </tr>\n",
       "    <tr>\n",
       "      <th>1</th>\n",
       "      <td>13</td>\n",
       "      <td>10</td>\n",
       "    </tr>\n",
       "    <tr>\n",
       "      <th>2</th>\n",
       "      <td>12</td>\n",
       "      <td>10</td>\n",
       "    </tr>\n",
       "    <tr>\n",
       "      <th>3</th>\n",
       "      <td>13</td>\n",
       "      <td>10</td>\n",
       "    </tr>\n",
       "    <tr>\n",
       "      <th>4</th>\n",
       "      <td>12</td>\n",
       "      <td>10</td>\n",
       "    </tr>\n",
       "  </tbody>\n",
       "</table>\n",
       "</div>"
      ],
      "text/plain": [
       "   rating_numerator  rating_denominator\n",
       "0                13                  10\n",
       "1                13                  10\n",
       "2                12                  10\n",
       "3                13                  10\n",
       "4                12                  10"
      ]
     },
     "execution_count": 37,
     "metadata": {},
     "output_type": "execute_result"
    }
   ],
   "source": [
    "twitter_archive[[\"rating_numerator\", \"rating_denominator\"]].head()"
   ]
  },
  {
   "cell_type": "code",
   "execution_count": 38,
   "metadata": {},
   "outputs": [
    {
     "data": {
      "text/plain": [
       "2351    Here we have a 1949 1st generation vulpix. Enj...\n",
       "2352    This is a purebred Piers Morgan. Loves to Netf...\n",
       "2353    Here is a very happy pup. Big fan of well-main...\n",
       "2354    This is a western brown Mitsubishi terrier. Up...\n",
       "2355    Here we have a Japanese Irish Setter. Lost eye...\n",
       "Name: text, dtype: object"
      ]
     },
     "execution_count": 38,
     "metadata": {},
     "output_type": "execute_result"
    }
   ],
   "source": [
    "twitter_archive.text.tail()"
   ]
  },
  {
   "cell_type": "code",
   "execution_count": 39,
   "metadata": {},
   "outputs": [
    {
     "data": {
      "text/html": [
       "<div>\n",
       "<style scoped>\n",
       "    .dataframe tbody tr th:only-of-type {\n",
       "        vertical-align: middle;\n",
       "    }\n",
       "\n",
       "    .dataframe tbody tr th {\n",
       "        vertical-align: top;\n",
       "    }\n",
       "\n",
       "    .dataframe thead th {\n",
       "        text-align: right;\n",
       "    }\n",
       "</style>\n",
       "<table border=\"1\" class=\"dataframe\">\n",
       "  <thead>\n",
       "    <tr style=\"text-align: right;\">\n",
       "      <th></th>\n",
       "      <th>rating_numerator</th>\n",
       "      <th>rating_denominator</th>\n",
       "    </tr>\n",
       "  </thead>\n",
       "  <tbody>\n",
       "    <tr>\n",
       "      <th>2351</th>\n",
       "      <td>5</td>\n",
       "      <td>10</td>\n",
       "    </tr>\n",
       "    <tr>\n",
       "      <th>2352</th>\n",
       "      <td>6</td>\n",
       "      <td>10</td>\n",
       "    </tr>\n",
       "    <tr>\n",
       "      <th>2353</th>\n",
       "      <td>9</td>\n",
       "      <td>10</td>\n",
       "    </tr>\n",
       "    <tr>\n",
       "      <th>2354</th>\n",
       "      <td>7</td>\n",
       "      <td>10</td>\n",
       "    </tr>\n",
       "    <tr>\n",
       "      <th>2355</th>\n",
       "      <td>8</td>\n",
       "      <td>10</td>\n",
       "    </tr>\n",
       "  </tbody>\n",
       "</table>\n",
       "</div>"
      ],
      "text/plain": [
       "      rating_numerator  rating_denominator\n",
       "2351                 5                  10\n",
       "2352                 6                  10\n",
       "2353                 9                  10\n",
       "2354                 7                  10\n",
       "2355                 8                  10"
      ]
     },
     "execution_count": 39,
     "metadata": {},
     "output_type": "execute_result"
    }
   ],
   "source": [
    "twitter_archive[[\"rating_numerator\", \"rating_denominator\"]].tail()"
   ]
  },
  {
   "cell_type": "code",
   "execution_count": 40,
   "metadata": {},
   "outputs": [
    {
     "data": {
      "text/plain": [
       "1492    This pupper just descended from heaven. 12/10 ...\n",
       "1944    This is Riley. She's just an adorable football...\n",
       "1357    This pupper doesn't understand gates. 10/10 so...\n",
       "1022    Here's a golden floofer helping with the groce...\n",
       "1154    Pup had to be removed cuz it wouldn't have bee...\n",
       "Name: text, dtype: object"
      ]
     },
     "execution_count": 40,
     "metadata": {},
     "output_type": "execute_result"
    }
   ],
   "source": [
    "twitter_archive.text.sample(5)"
   ]
  },
  {
   "cell_type": "markdown",
   "metadata": {},
   "source": [
    "There are some values of the rating denominator that are not 10. From the project overview, it was said that the ratings are almost always greater than 10.For example, 11/10, 12/10, 13/10. I'll look further into these rows that are either greater or less than 10"
   ]
  },
  {
   "cell_type": "code",
   "execution_count": 41,
   "metadata": {},
   "outputs": [
    {
     "data": {
      "text/html": [
       "<div>\n",
       "<style scoped>\n",
       "    .dataframe tbody tr th:only-of-type {\n",
       "        vertical-align: middle;\n",
       "    }\n",
       "\n",
       "    .dataframe tbody tr th {\n",
       "        vertical-align: top;\n",
       "    }\n",
       "\n",
       "    .dataframe thead th {\n",
       "        text-align: right;\n",
       "    }\n",
       "</style>\n",
       "<table border=\"1\" class=\"dataframe\">\n",
       "  <thead>\n",
       "    <tr style=\"text-align: right;\">\n",
       "      <th></th>\n",
       "      <th>text</th>\n",
       "      <th>rating_numerator</th>\n",
       "      <th>rating_denominator</th>\n",
       "    </tr>\n",
       "  </thead>\n",
       "  <tbody>\n",
       "    <tr>\n",
       "      <th>313</th>\n",
       "      <td>@jonnysun @Lin_Manuel ok jomny I know you're e...</td>\n",
       "      <td>960</td>\n",
       "      <td>0</td>\n",
       "    </tr>\n",
       "    <tr>\n",
       "      <th>516</th>\n",
       "      <td>Meet Sam. She smiles 24/7 &amp;amp; secretly aspir...</td>\n",
       "      <td>24</td>\n",
       "      <td>7</td>\n",
       "    </tr>\n",
       "    <tr>\n",
       "      <th>2335</th>\n",
       "      <td>This is an Albanian 3 1/2 legged  Episcopalian...</td>\n",
       "      <td>1</td>\n",
       "      <td>2</td>\n",
       "    </tr>\n",
       "  </tbody>\n",
       "</table>\n",
       "</div>"
      ],
      "text/plain": [
       "                                                   text  rating_numerator  \\\n",
       "313   @jonnysun @Lin_Manuel ok jomny I know you're e...               960   \n",
       "516   Meet Sam. She smiles 24/7 &amp; secretly aspir...                24   \n",
       "2335  This is an Albanian 3 1/2 legged  Episcopalian...                 1   \n",
       "\n",
       "      rating_denominator  \n",
       "313                    0  \n",
       "516                    7  \n",
       "2335                   2  "
      ]
     },
     "execution_count": 41,
     "metadata": {},
     "output_type": "execute_result"
    }
   ],
   "source": [
    "twitter_archive[twitter_archive.rating_denominator < 10][['text', 'rating_numerator', 'rating_denominator']]"
   ]
  },
  {
   "cell_type": "code",
   "execution_count": 42,
   "metadata": {},
   "outputs": [
    {
     "data": {
      "text/html": [
       "<div>\n",
       "<style scoped>\n",
       "    .dataframe tbody tr th:only-of-type {\n",
       "        vertical-align: middle;\n",
       "    }\n",
       "\n",
       "    .dataframe tbody tr th {\n",
       "        vertical-align: top;\n",
       "    }\n",
       "\n",
       "    .dataframe thead th {\n",
       "        text-align: right;\n",
       "    }\n",
       "</style>\n",
       "<table border=\"1\" class=\"dataframe\">\n",
       "  <thead>\n",
       "    <tr style=\"text-align: right;\">\n",
       "      <th></th>\n",
       "      <th>text</th>\n",
       "      <th>rating_numerator</th>\n",
       "      <th>rating_denominator</th>\n",
       "    </tr>\n",
       "  </thead>\n",
       "  <tbody>\n",
       "    <tr>\n",
       "      <th>342</th>\n",
       "      <td>@docmisterio account started on 11/15/15</td>\n",
       "      <td>11</td>\n",
       "      <td>15</td>\n",
       "    </tr>\n",
       "    <tr>\n",
       "      <th>433</th>\n",
       "      <td>The floofs have been released I repeat the flo...</td>\n",
       "      <td>84</td>\n",
       "      <td>70</td>\n",
       "    </tr>\n",
       "    <tr>\n",
       "      <th>784</th>\n",
       "      <td>RT @dog_rates: After so many requests, this is...</td>\n",
       "      <td>9</td>\n",
       "      <td>11</td>\n",
       "    </tr>\n",
       "    <tr>\n",
       "      <th>902</th>\n",
       "      <td>Why does this never happen at my front door......</td>\n",
       "      <td>165</td>\n",
       "      <td>150</td>\n",
       "    </tr>\n",
       "    <tr>\n",
       "      <th>1068</th>\n",
       "      <td>After so many requests, this is Bretagne. She ...</td>\n",
       "      <td>9</td>\n",
       "      <td>11</td>\n",
       "    </tr>\n",
       "    <tr>\n",
       "      <th>1120</th>\n",
       "      <td>Say hello to this unbelievably well behaved sq...</td>\n",
       "      <td>204</td>\n",
       "      <td>170</td>\n",
       "    </tr>\n",
       "    <tr>\n",
       "      <th>1165</th>\n",
       "      <td>Happy 4/20 from the squad! 13/10 for all https...</td>\n",
       "      <td>4</td>\n",
       "      <td>20</td>\n",
       "    </tr>\n",
       "    <tr>\n",
       "      <th>1202</th>\n",
       "      <td>This is Bluebert. He just saw that both #Final...</td>\n",
       "      <td>50</td>\n",
       "      <td>50</td>\n",
       "    </tr>\n",
       "    <tr>\n",
       "      <th>1228</th>\n",
       "      <td>Happy Saturday here's 9 puppers on a bench. 99...</td>\n",
       "      <td>99</td>\n",
       "      <td>90</td>\n",
       "    </tr>\n",
       "    <tr>\n",
       "      <th>1254</th>\n",
       "      <td>Here's a brigade of puppers. All look very pre...</td>\n",
       "      <td>80</td>\n",
       "      <td>80</td>\n",
       "    </tr>\n",
       "    <tr>\n",
       "      <th>1274</th>\n",
       "      <td>From left to right:\\nCletus, Jerome, Alejandro...</td>\n",
       "      <td>45</td>\n",
       "      <td>50</td>\n",
       "    </tr>\n",
       "    <tr>\n",
       "      <th>1351</th>\n",
       "      <td>Here is a whole flock of puppers.  60/50 I'll ...</td>\n",
       "      <td>60</td>\n",
       "      <td>50</td>\n",
       "    </tr>\n",
       "    <tr>\n",
       "      <th>1433</th>\n",
       "      <td>Happy Wednesday here's a bucket of pups. 44/40...</td>\n",
       "      <td>44</td>\n",
       "      <td>40</td>\n",
       "    </tr>\n",
       "    <tr>\n",
       "      <th>1598</th>\n",
       "      <td>Yes I do realize a rating of 4/20 would've bee...</td>\n",
       "      <td>4</td>\n",
       "      <td>20</td>\n",
       "    </tr>\n",
       "    <tr>\n",
       "      <th>1634</th>\n",
       "      <td>Two sneaky puppers were not initially seen, mo...</td>\n",
       "      <td>143</td>\n",
       "      <td>130</td>\n",
       "    </tr>\n",
       "    <tr>\n",
       "      <th>1635</th>\n",
       "      <td>Someone help the girl is being mugged. Several...</td>\n",
       "      <td>121</td>\n",
       "      <td>110</td>\n",
       "    </tr>\n",
       "    <tr>\n",
       "      <th>1662</th>\n",
       "      <td>This is Darrel. He just robbed a 7/11 and is i...</td>\n",
       "      <td>7</td>\n",
       "      <td>11</td>\n",
       "    </tr>\n",
       "    <tr>\n",
       "      <th>1663</th>\n",
       "      <td>I'm aware that I could've said 20/16, but here...</td>\n",
       "      <td>20</td>\n",
       "      <td>16</td>\n",
       "    </tr>\n",
       "    <tr>\n",
       "      <th>1779</th>\n",
       "      <td>IT'S PUPPERGEDDON. Total of 144/120 ...I think...</td>\n",
       "      <td>144</td>\n",
       "      <td>120</td>\n",
       "    </tr>\n",
       "    <tr>\n",
       "      <th>1843</th>\n",
       "      <td>Here we have an entire platoon of puppers. Tot...</td>\n",
       "      <td>88</td>\n",
       "      <td>80</td>\n",
       "    </tr>\n",
       "  </tbody>\n",
       "</table>\n",
       "</div>"
      ],
      "text/plain": [
       "                                                   text  rating_numerator  \\\n",
       "342            @docmisterio account started on 11/15/15                11   \n",
       "433   The floofs have been released I repeat the flo...                84   \n",
       "784   RT @dog_rates: After so many requests, this is...                 9   \n",
       "902   Why does this never happen at my front door......               165   \n",
       "1068  After so many requests, this is Bretagne. She ...                 9   \n",
       "1120  Say hello to this unbelievably well behaved sq...               204   \n",
       "1165  Happy 4/20 from the squad! 13/10 for all https...                 4   \n",
       "1202  This is Bluebert. He just saw that both #Final...                50   \n",
       "1228  Happy Saturday here's 9 puppers on a bench. 99...                99   \n",
       "1254  Here's a brigade of puppers. All look very pre...                80   \n",
       "1274  From left to right:\\nCletus, Jerome, Alejandro...                45   \n",
       "1351  Here is a whole flock of puppers.  60/50 I'll ...                60   \n",
       "1433  Happy Wednesday here's a bucket of pups. 44/40...                44   \n",
       "1598  Yes I do realize a rating of 4/20 would've bee...                 4   \n",
       "1634  Two sneaky puppers were not initially seen, mo...               143   \n",
       "1635  Someone help the girl is being mugged. Several...               121   \n",
       "1662  This is Darrel. He just robbed a 7/11 and is i...                 7   \n",
       "1663  I'm aware that I could've said 20/16, but here...                20   \n",
       "1779  IT'S PUPPERGEDDON. Total of 144/120 ...I think...               144   \n",
       "1843  Here we have an entire platoon of puppers. Tot...                88   \n",
       "\n",
       "      rating_denominator  \n",
       "342                   15  \n",
       "433                   70  \n",
       "784                   11  \n",
       "902                  150  \n",
       "1068                  11  \n",
       "1120                 170  \n",
       "1165                  20  \n",
       "1202                  50  \n",
       "1228                  90  \n",
       "1254                  80  \n",
       "1274                  50  \n",
       "1351                  50  \n",
       "1433                  40  \n",
       "1598                  20  \n",
       "1634                 130  \n",
       "1635                 110  \n",
       "1662                  11  \n",
       "1663                  16  \n",
       "1779                 120  \n",
       "1843                  80  "
      ]
     },
     "execution_count": 42,
     "metadata": {},
     "output_type": "execute_result"
    }
   ],
   "source": [
    "twitter_archive[twitter_archive.rating_denominator > 10][['text', 'rating_numerator', 'rating_denominator']]"
   ]
  },
  {
   "cell_type": "markdown",
   "metadata": {},
   "source": [
    "Wrong entry of the number/number expression was recorded as the rating, the one that appeared earlier in the text.  Some other ratings had large rating denominators or numerators. Also some rating denominators and numerator were represented with the date/time. "
   ]
  },
  {
   "cell_type": "code",
   "execution_count": 43,
   "metadata": {},
   "outputs": [
    {
     "data": {
      "text/plain": [
       "12     558\n",
       "11     464\n",
       "10     461\n",
       "13     351\n",
       "9      158\n",
       "8      102\n",
       "7       55\n",
       "14      54\n",
       "5       37\n",
       "6       32\n",
       "3       19\n",
       "4       17\n",
       "1        9\n",
       "2        9\n",
       "420      2\n",
       "0        2\n",
       "15       2\n",
       "75       2\n",
       "80       1\n",
       "20       1\n",
       "24       1\n",
       "26       1\n",
       "44       1\n",
       "50       1\n",
       "60       1\n",
       "165      1\n",
       "84       1\n",
       "88       1\n",
       "144      1\n",
       "182      1\n",
       "Name: rating_numerator, dtype: int64"
      ]
     },
     "execution_count": 43,
     "metadata": {},
     "output_type": "execute_result"
    }
   ],
   "source": [
    "twitter_archive.rating_numerator.value_counts().head(30)"
   ]
  },
  {
   "cell_type": "markdown",
   "metadata": {},
   "source": [
    "There were some unnecessary large numbers like 420, 182, 165, and so on... so i'll explore it further"
   ]
  },
  {
   "cell_type": "code",
   "execution_count": 44,
   "metadata": {},
   "outputs": [
    {
     "data": {
      "text/html": [
       "<div>\n",
       "<style scoped>\n",
       "    .dataframe tbody tr th:only-of-type {\n",
       "        vertical-align: middle;\n",
       "    }\n",
       "\n",
       "    .dataframe tbody tr th {\n",
       "        vertical-align: top;\n",
       "    }\n",
       "\n",
       "    .dataframe thead th {\n",
       "        text-align: right;\n",
       "    }\n",
       "</style>\n",
       "<table border=\"1\" class=\"dataframe\">\n",
       "  <thead>\n",
       "    <tr style=\"text-align: right;\">\n",
       "      <th></th>\n",
       "      <th>text</th>\n",
       "      <th>rating_numerator</th>\n",
       "      <th>rating_denominator</th>\n",
       "    </tr>\n",
       "  </thead>\n",
       "  <tbody>\n",
       "    <tr>\n",
       "      <th>188</th>\n",
       "      <td>@dhmontgomery We also gave snoop dogg a 420/10...</td>\n",
       "      <td>420</td>\n",
       "      <td>10</td>\n",
       "    </tr>\n",
       "    <tr>\n",
       "      <th>189</th>\n",
       "      <td>@s8n You tried very hard to portray this good ...</td>\n",
       "      <td>666</td>\n",
       "      <td>10</td>\n",
       "    </tr>\n",
       "    <tr>\n",
       "      <th>290</th>\n",
       "      <td>@markhoppus 182/10</td>\n",
       "      <td>182</td>\n",
       "      <td>10</td>\n",
       "    </tr>\n",
       "    <tr>\n",
       "      <th>313</th>\n",
       "      <td>@jonnysun @Lin_Manuel ok jomny I know you're e...</td>\n",
       "      <td>960</td>\n",
       "      <td>0</td>\n",
       "    </tr>\n",
       "    <tr>\n",
       "      <th>340</th>\n",
       "      <td>RT @dog_rates: This is Logan, the Chow who liv...</td>\n",
       "      <td>75</td>\n",
       "      <td>10</td>\n",
       "    </tr>\n",
       "    <tr>\n",
       "      <th>433</th>\n",
       "      <td>The floofs have been released I repeat the flo...</td>\n",
       "      <td>84</td>\n",
       "      <td>70</td>\n",
       "    </tr>\n",
       "    <tr>\n",
       "      <th>516</th>\n",
       "      <td>Meet Sam. She smiles 24/7 &amp;amp; secretly aspir...</td>\n",
       "      <td>24</td>\n",
       "      <td>7</td>\n",
       "    </tr>\n",
       "    <tr>\n",
       "      <th>695</th>\n",
       "      <td>This is Logan, the Chow who lived. He solemnly...</td>\n",
       "      <td>75</td>\n",
       "      <td>10</td>\n",
       "    </tr>\n",
       "    <tr>\n",
       "      <th>763</th>\n",
       "      <td>This is Sophie. She's a Jubilant Bush Pupper. ...</td>\n",
       "      <td>27</td>\n",
       "      <td>10</td>\n",
       "    </tr>\n",
       "    <tr>\n",
       "      <th>902</th>\n",
       "      <td>Why does this never happen at my front door......</td>\n",
       "      <td>165</td>\n",
       "      <td>150</td>\n",
       "    </tr>\n",
       "    <tr>\n",
       "      <th>979</th>\n",
       "      <td>This is Atticus. He's quite simply America af....</td>\n",
       "      <td>1776</td>\n",
       "      <td>10</td>\n",
       "    </tr>\n",
       "    <tr>\n",
       "      <th>1120</th>\n",
       "      <td>Say hello to this unbelievably well behaved sq...</td>\n",
       "      <td>204</td>\n",
       "      <td>170</td>\n",
       "    </tr>\n",
       "    <tr>\n",
       "      <th>1202</th>\n",
       "      <td>This is Bluebert. He just saw that both #Final...</td>\n",
       "      <td>50</td>\n",
       "      <td>50</td>\n",
       "    </tr>\n",
       "    <tr>\n",
       "      <th>1228</th>\n",
       "      <td>Happy Saturday here's 9 puppers on a bench. 99...</td>\n",
       "      <td>99</td>\n",
       "      <td>90</td>\n",
       "    </tr>\n",
       "    <tr>\n",
       "      <th>1254</th>\n",
       "      <td>Here's a brigade of puppers. All look very pre...</td>\n",
       "      <td>80</td>\n",
       "      <td>80</td>\n",
       "    </tr>\n",
       "    <tr>\n",
       "      <th>1274</th>\n",
       "      <td>From left to right:\\nCletus, Jerome, Alejandro...</td>\n",
       "      <td>45</td>\n",
       "      <td>50</td>\n",
       "    </tr>\n",
       "    <tr>\n",
       "      <th>1351</th>\n",
       "      <td>Here is a whole flock of puppers.  60/50 I'll ...</td>\n",
       "      <td>60</td>\n",
       "      <td>50</td>\n",
       "    </tr>\n",
       "    <tr>\n",
       "      <th>1433</th>\n",
       "      <td>Happy Wednesday here's a bucket of pups. 44/40...</td>\n",
       "      <td>44</td>\n",
       "      <td>40</td>\n",
       "    </tr>\n",
       "    <tr>\n",
       "      <th>1634</th>\n",
       "      <td>Two sneaky puppers were not initially seen, mo...</td>\n",
       "      <td>143</td>\n",
       "      <td>130</td>\n",
       "    </tr>\n",
       "    <tr>\n",
       "      <th>1635</th>\n",
       "      <td>Someone help the girl is being mugged. Several...</td>\n",
       "      <td>121</td>\n",
       "      <td>110</td>\n",
       "    </tr>\n",
       "    <tr>\n",
       "      <th>1712</th>\n",
       "      <td>Here we have uncovered an entire battalion of ...</td>\n",
       "      <td>26</td>\n",
       "      <td>10</td>\n",
       "    </tr>\n",
       "    <tr>\n",
       "      <th>1779</th>\n",
       "      <td>IT'S PUPPERGEDDON. Total of 144/120 ...I think...</td>\n",
       "      <td>144</td>\n",
       "      <td>120</td>\n",
       "    </tr>\n",
       "    <tr>\n",
       "      <th>1843</th>\n",
       "      <td>Here we have an entire platoon of puppers. Tot...</td>\n",
       "      <td>88</td>\n",
       "      <td>80</td>\n",
       "    </tr>\n",
       "    <tr>\n",
       "      <th>2074</th>\n",
       "      <td>After so many requests... here you go.\\n\\nGood...</td>\n",
       "      <td>420</td>\n",
       "      <td>10</td>\n",
       "    </tr>\n",
       "  </tbody>\n",
       "</table>\n",
       "</div>"
      ],
      "text/plain": [
       "                                                   text  rating_numerator  \\\n",
       "188   @dhmontgomery We also gave snoop dogg a 420/10...               420   \n",
       "189   @s8n You tried very hard to portray this good ...               666   \n",
       "290                                  @markhoppus 182/10               182   \n",
       "313   @jonnysun @Lin_Manuel ok jomny I know you're e...               960   \n",
       "340   RT @dog_rates: This is Logan, the Chow who liv...                75   \n",
       "433   The floofs have been released I repeat the flo...                84   \n",
       "516   Meet Sam. She smiles 24/7 &amp; secretly aspir...                24   \n",
       "695   This is Logan, the Chow who lived. He solemnly...                75   \n",
       "763   This is Sophie. She's a Jubilant Bush Pupper. ...                27   \n",
       "902   Why does this never happen at my front door......               165   \n",
       "979   This is Atticus. He's quite simply America af....              1776   \n",
       "1120  Say hello to this unbelievably well behaved sq...               204   \n",
       "1202  This is Bluebert. He just saw that both #Final...                50   \n",
       "1228  Happy Saturday here's 9 puppers on a bench. 99...                99   \n",
       "1254  Here's a brigade of puppers. All look very pre...                80   \n",
       "1274  From left to right:\\nCletus, Jerome, Alejandro...                45   \n",
       "1351  Here is a whole flock of puppers.  60/50 I'll ...                60   \n",
       "1433  Happy Wednesday here's a bucket of pups. 44/40...                44   \n",
       "1634  Two sneaky puppers were not initially seen, mo...               143   \n",
       "1635  Someone help the girl is being mugged. Several...               121   \n",
       "1712  Here we have uncovered an entire battalion of ...                26   \n",
       "1779  IT'S PUPPERGEDDON. Total of 144/120 ...I think...               144   \n",
       "1843  Here we have an entire platoon of puppers. Tot...                88   \n",
       "2074  After so many requests... here you go.\\n\\nGood...               420   \n",
       "\n",
       "      rating_denominator  \n",
       "188                   10  \n",
       "189                   10  \n",
       "290                   10  \n",
       "313                    0  \n",
       "340                   10  \n",
       "433                   70  \n",
       "516                    7  \n",
       "695                   10  \n",
       "763                   10  \n",
       "902                  150  \n",
       "979                   10  \n",
       "1120                 170  \n",
       "1202                  50  \n",
       "1228                  90  \n",
       "1254                  80  \n",
       "1274                  50  \n",
       "1351                  50  \n",
       "1433                  40  \n",
       "1634                 130  \n",
       "1635                 110  \n",
       "1712                  10  \n",
       "1779                 120  \n",
       "1843                  80  \n",
       "2074                  10  "
      ]
     },
     "execution_count": 44,
     "metadata": {},
     "output_type": "execute_result"
    }
   ],
   "source": [
    "twitter_archive[twitter_archive.rating_numerator > 20][['text', 'rating_numerator', 'rating_denominator']]"
   ]
  },
  {
   "cell_type": "markdown",
   "metadata": {},
   "source": [
    "Some of the numerators are too large, although this may be attributed to a sentence from the project overview that states \"The numerators, though? Almost always greater than 10. 11/10, 12/10, 13/10, etc. Why? Because they're good dogs Brent.\" Apart from the reasons indicated when I examined the denominator, it's likely that people just admired the dog and gave such a ridiculously high rating."
   ]
  },
  {
   "cell_type": "code",
   "execution_count": 45,
   "metadata": {},
   "outputs": [
    {
     "data": {
      "text/plain": [
       "23"
      ]
     },
     "execution_count": 45,
     "metadata": {},
     "output_type": "execute_result"
    }
   ],
   "source": [
    "# Checking for the number of rating_denominator not equal to 10\n",
    "len(twitter_archive[twitter_archive.rating_denominator != 10])"
   ]
  },
  {
   "cell_type": "markdown",
   "metadata": {},
   "source": [
    "Some tweets with rating_denominator are not equal to 10"
   ]
  },
  {
   "cell_type": "code",
   "execution_count": 46,
   "metadata": {},
   "outputs": [
    {
     "data": {
      "text/plain": [
       "25"
      ]
     },
     "execution_count": 46,
     "metadata": {},
     "output_type": "execute_result"
    }
   ],
   "source": [
    "len(twitter_archive[twitter_archive.rating_numerator >= 20])"
   ]
  },
  {
   "cell_type": "markdown",
   "metadata": {},
   "source": [
    "I will probably drop any numerator greater than 20 because it doesn't appear logical."
   ]
  },
  {
   "cell_type": "markdown",
   "metadata": {},
   "source": [
    "#### Exploring the source"
   ]
  },
  {
   "cell_type": "code",
   "execution_count": 47,
   "metadata": {},
   "outputs": [
    {
     "data": {
      "text/plain": [
       "<a href=\"http://twitter.com/download/iphone\" rel=\"nofollow\">Twitter for iPhone</a>     2221\n",
       "<a href=\"http://vine.co\" rel=\"nofollow\">Vine - Make a Scene</a>                          91\n",
       "<a href=\"http://twitter.com\" rel=\"nofollow\">Twitter Web Client</a>                       33\n",
       "<a href=\"https://about.twitter.com/products/tweetdeck\" rel=\"nofollow\">TweetDeck</a>      11\n",
       "Name: source, dtype: int64"
      ]
     },
     "execution_count": 47,
     "metadata": {},
     "output_type": "execute_result"
    }
   ],
   "source": [
    "twitter_archive.source.value_counts()"
   ]
  },
  {
   "cell_type": "markdown",
   "metadata": {},
   "source": [
    "The source where the tweet was made from can be gotten here by manipulation."
   ]
  },
  {
   "cell_type": "markdown",
   "metadata": {},
   "source": [
    "#### Exploring doggo, floofer, pupper, and puppo"
   ]
  },
  {
   "cell_type": "code",
   "execution_count": 48,
   "metadata": {},
   "outputs": [
    {
     "data": {
      "text/plain": [
       "None     2259\n",
       "doggo      97\n",
       "Name: doggo, dtype: int64"
      ]
     },
     "execution_count": 48,
     "metadata": {},
     "output_type": "execute_result"
    }
   ],
   "source": [
    "twitter_archive.doggo.value_counts()"
   ]
  },
  {
   "cell_type": "code",
   "execution_count": 49,
   "metadata": {},
   "outputs": [
    {
     "data": {
      "text/plain": [
       "None       2346\n",
       "floofer      10\n",
       "Name: floofer, dtype: int64"
      ]
     },
     "execution_count": 49,
     "metadata": {},
     "output_type": "execute_result"
    }
   ],
   "source": [
    "twitter_archive.floofer.value_counts()"
   ]
  },
  {
   "cell_type": "code",
   "execution_count": 50,
   "metadata": {},
   "outputs": [
    {
     "data": {
      "text/plain": [
       "None      2099\n",
       "pupper     257\n",
       "Name: pupper, dtype: int64"
      ]
     },
     "execution_count": 50,
     "metadata": {},
     "output_type": "execute_result"
    }
   ],
   "source": [
    "twitter_archive.pupper.value_counts()"
   ]
  },
  {
   "cell_type": "code",
   "execution_count": 51,
   "metadata": {},
   "outputs": [
    {
     "data": {
      "text/plain": [
       "None     2326\n",
       "puppo      30\n",
       "Name: puppo, dtype: int64"
      ]
     },
     "execution_count": 51,
     "metadata": {},
     "output_type": "execute_result"
    }
   ],
   "source": [
    "twitter_archive.puppo.value_counts()"
   ]
  },
  {
   "cell_type": "code",
   "execution_count": 52,
   "metadata": {},
   "outputs": [
    {
     "data": {
      "text/plain": [
       "46      Meet Grizzwald. He may be the floofiest floofe...\n",
       "200     At first I thought this was a shy doggo, but i...\n",
       "582     This is Doc. He takes time out of every day to...\n",
       "774     Atlas rolled around in some chalk and now he's...\n",
       "984     This is Blu. He's a wild bush Floofer. I wish ...\n",
       "1022    Here's a golden floofer helping with the groce...\n",
       "1091    Just wanted to share this super rare Rainbow F...\n",
       "1110    This is Moose. He's a Polynesian Floofer. Dapp...\n",
       "1534    Here we are witnessing a rare High Stepping Al...\n",
       "1614    Say hello to Petrick. He's an Altostratus Floo...\n",
       "Name: text, dtype: object"
      ]
     },
     "execution_count": 52,
     "metadata": {},
     "output_type": "execute_result"
    }
   ],
   "source": [
    "twitter_archive[twitter_archive.floofer == 'floofer'].text"
   ]
  },
  {
   "cell_type": "markdown",
   "metadata": {},
   "source": [
    "When you look at the floofer column, you'll notice that the word \"floofer\" is written as \"Floofer\" at 984, indicating the different ways floofer may be spelt."
   ]
  },
  {
   "cell_type": "markdown",
   "metadata": {},
   "source": [
    "### Image Prediction"
   ]
  },
  {
   "cell_type": "code",
   "execution_count": 53,
   "metadata": {},
   "outputs": [],
   "source": [
    "image_pr = image_prediction.copy()"
   ]
  },
  {
   "cell_type": "code",
   "execution_count": 54,
   "metadata": {},
   "outputs": [
    {
     "data": {
      "text/html": [
       "<div>\n",
       "<style scoped>\n",
       "    .dataframe tbody tr th:only-of-type {\n",
       "        vertical-align: middle;\n",
       "    }\n",
       "\n",
       "    .dataframe tbody tr th {\n",
       "        vertical-align: top;\n",
       "    }\n",
       "\n",
       "    .dataframe thead th {\n",
       "        text-align: right;\n",
       "    }\n",
       "</style>\n",
       "<table border=\"1\" class=\"dataframe\">\n",
       "  <thead>\n",
       "    <tr style=\"text-align: right;\">\n",
       "      <th></th>\n",
       "      <th>tweet_id</th>\n",
       "      <th>jpg_url</th>\n",
       "      <th>img_num</th>\n",
       "      <th>p1</th>\n",
       "      <th>p1_conf</th>\n",
       "      <th>p1_dog</th>\n",
       "      <th>p2</th>\n",
       "      <th>p2_conf</th>\n",
       "      <th>p2_dog</th>\n",
       "      <th>p3</th>\n",
       "      <th>p3_conf</th>\n",
       "      <th>p3_dog</th>\n",
       "    </tr>\n",
       "  </thead>\n",
       "  <tbody>\n",
       "    <tr>\n",
       "      <th>0</th>\n",
       "      <td>666020888022790149</td>\n",
       "      <td>https://pbs.twimg.com/media/CT4udn0WwAA0aMy.jpg</td>\n",
       "      <td>1</td>\n",
       "      <td>Welsh_springer_spaniel</td>\n",
       "      <td>0.465074</td>\n",
       "      <td>True</td>\n",
       "      <td>collie</td>\n",
       "      <td>0.156665</td>\n",
       "      <td>True</td>\n",
       "      <td>Shetland_sheepdog</td>\n",
       "      <td>0.061428</td>\n",
       "      <td>True</td>\n",
       "    </tr>\n",
       "    <tr>\n",
       "      <th>1</th>\n",
       "      <td>666029285002620928</td>\n",
       "      <td>https://pbs.twimg.com/media/CT42GRgUYAA5iDo.jpg</td>\n",
       "      <td>1</td>\n",
       "      <td>redbone</td>\n",
       "      <td>0.506826</td>\n",
       "      <td>True</td>\n",
       "      <td>miniature_pinscher</td>\n",
       "      <td>0.074192</td>\n",
       "      <td>True</td>\n",
       "      <td>Rhodesian_ridgeback</td>\n",
       "      <td>0.072010</td>\n",
       "      <td>True</td>\n",
       "    </tr>\n",
       "    <tr>\n",
       "      <th>2</th>\n",
       "      <td>666033412701032449</td>\n",
       "      <td>https://pbs.twimg.com/media/CT4521TWwAEvMyu.jpg</td>\n",
       "      <td>1</td>\n",
       "      <td>German_shepherd</td>\n",
       "      <td>0.596461</td>\n",
       "      <td>True</td>\n",
       "      <td>malinois</td>\n",
       "      <td>0.138584</td>\n",
       "      <td>True</td>\n",
       "      <td>bloodhound</td>\n",
       "      <td>0.116197</td>\n",
       "      <td>True</td>\n",
       "    </tr>\n",
       "    <tr>\n",
       "      <th>3</th>\n",
       "      <td>666044226329800704</td>\n",
       "      <td>https://pbs.twimg.com/media/CT5Dr8HUEAA-lEu.jpg</td>\n",
       "      <td>1</td>\n",
       "      <td>Rhodesian_ridgeback</td>\n",
       "      <td>0.408143</td>\n",
       "      <td>True</td>\n",
       "      <td>redbone</td>\n",
       "      <td>0.360687</td>\n",
       "      <td>True</td>\n",
       "      <td>miniature_pinscher</td>\n",
       "      <td>0.222752</td>\n",
       "      <td>True</td>\n",
       "    </tr>\n",
       "    <tr>\n",
       "      <th>4</th>\n",
       "      <td>666049248165822465</td>\n",
       "      <td>https://pbs.twimg.com/media/CT5IQmsXIAAKY4A.jpg</td>\n",
       "      <td>1</td>\n",
       "      <td>miniature_pinscher</td>\n",
       "      <td>0.560311</td>\n",
       "      <td>True</td>\n",
       "      <td>Rottweiler</td>\n",
       "      <td>0.243682</td>\n",
       "      <td>True</td>\n",
       "      <td>Doberman</td>\n",
       "      <td>0.154629</td>\n",
       "      <td>True</td>\n",
       "    </tr>\n",
       "  </tbody>\n",
       "</table>\n",
       "</div>"
      ],
      "text/plain": [
       "             tweet_id                                          jpg_url  \\\n",
       "0  666020888022790149  https://pbs.twimg.com/media/CT4udn0WwAA0aMy.jpg   \n",
       "1  666029285002620928  https://pbs.twimg.com/media/CT42GRgUYAA5iDo.jpg   \n",
       "2  666033412701032449  https://pbs.twimg.com/media/CT4521TWwAEvMyu.jpg   \n",
       "3  666044226329800704  https://pbs.twimg.com/media/CT5Dr8HUEAA-lEu.jpg   \n",
       "4  666049248165822465  https://pbs.twimg.com/media/CT5IQmsXIAAKY4A.jpg   \n",
       "\n",
       "   img_num                      p1   p1_conf  p1_dog                  p2  \\\n",
       "0        1  Welsh_springer_spaniel  0.465074    True              collie   \n",
       "1        1                 redbone  0.506826    True  miniature_pinscher   \n",
       "2        1         German_shepherd  0.596461    True            malinois   \n",
       "3        1     Rhodesian_ridgeback  0.408143    True             redbone   \n",
       "4        1      miniature_pinscher  0.560311    True          Rottweiler   \n",
       "\n",
       "    p2_conf  p2_dog                   p3   p3_conf  p3_dog  \n",
       "0  0.156665    True    Shetland_sheepdog  0.061428    True  \n",
       "1  0.074192    True  Rhodesian_ridgeback  0.072010    True  \n",
       "2  0.138584    True           bloodhound  0.116197    True  \n",
       "3  0.360687    True   miniature_pinscher  0.222752    True  \n",
       "4  0.243682    True             Doberman  0.154629    True  "
      ]
     },
     "execution_count": 54,
     "metadata": {},
     "output_type": "execute_result"
    }
   ],
   "source": [
    "image_pr.head()"
   ]
  },
  {
   "cell_type": "code",
   "execution_count": 55,
   "metadata": {},
   "outputs": [
    {
     "data": {
      "text/html": [
       "<div>\n",
       "<style scoped>\n",
       "    .dataframe tbody tr th:only-of-type {\n",
       "        vertical-align: middle;\n",
       "    }\n",
       "\n",
       "    .dataframe tbody tr th {\n",
       "        vertical-align: top;\n",
       "    }\n",
       "\n",
       "    .dataframe thead th {\n",
       "        text-align: right;\n",
       "    }\n",
       "</style>\n",
       "<table border=\"1\" class=\"dataframe\">\n",
       "  <thead>\n",
       "    <tr style=\"text-align: right;\">\n",
       "      <th></th>\n",
       "      <th>tweet_id</th>\n",
       "      <th>jpg_url</th>\n",
       "      <th>img_num</th>\n",
       "      <th>p1</th>\n",
       "      <th>p1_conf</th>\n",
       "      <th>p1_dog</th>\n",
       "      <th>p2</th>\n",
       "      <th>p2_conf</th>\n",
       "      <th>p2_dog</th>\n",
       "      <th>p3</th>\n",
       "      <th>p3_conf</th>\n",
       "      <th>p3_dog</th>\n",
       "    </tr>\n",
       "  </thead>\n",
       "  <tbody>\n",
       "    <tr>\n",
       "      <th>2070</th>\n",
       "      <td>891327558926688256</td>\n",
       "      <td>https://pbs.twimg.com/media/DF6hr6BUMAAzZgT.jpg</td>\n",
       "      <td>2</td>\n",
       "      <td>basset</td>\n",
       "      <td>0.555712</td>\n",
       "      <td>True</td>\n",
       "      <td>English_springer</td>\n",
       "      <td>0.225770</td>\n",
       "      <td>True</td>\n",
       "      <td>German_short-haired_pointer</td>\n",
       "      <td>0.175219</td>\n",
       "      <td>True</td>\n",
       "    </tr>\n",
       "    <tr>\n",
       "      <th>2071</th>\n",
       "      <td>891689557279858688</td>\n",
       "      <td>https://pbs.twimg.com/media/DF_q7IAWsAEuuN8.jpg</td>\n",
       "      <td>1</td>\n",
       "      <td>paper_towel</td>\n",
       "      <td>0.170278</td>\n",
       "      <td>False</td>\n",
       "      <td>Labrador_retriever</td>\n",
       "      <td>0.168086</td>\n",
       "      <td>True</td>\n",
       "      <td>spatula</td>\n",
       "      <td>0.040836</td>\n",
       "      <td>False</td>\n",
       "    </tr>\n",
       "    <tr>\n",
       "      <th>2072</th>\n",
       "      <td>891815181378084864</td>\n",
       "      <td>https://pbs.twimg.com/media/DGBdLU1WsAANxJ9.jpg</td>\n",
       "      <td>1</td>\n",
       "      <td>Chihuahua</td>\n",
       "      <td>0.716012</td>\n",
       "      <td>True</td>\n",
       "      <td>malamute</td>\n",
       "      <td>0.078253</td>\n",
       "      <td>True</td>\n",
       "      <td>kelpie</td>\n",
       "      <td>0.031379</td>\n",
       "      <td>True</td>\n",
       "    </tr>\n",
       "    <tr>\n",
       "      <th>2073</th>\n",
       "      <td>892177421306343426</td>\n",
       "      <td>https://pbs.twimg.com/media/DGGmoV4XsAAUL6n.jpg</td>\n",
       "      <td>1</td>\n",
       "      <td>Chihuahua</td>\n",
       "      <td>0.323581</td>\n",
       "      <td>True</td>\n",
       "      <td>Pekinese</td>\n",
       "      <td>0.090647</td>\n",
       "      <td>True</td>\n",
       "      <td>papillon</td>\n",
       "      <td>0.068957</td>\n",
       "      <td>True</td>\n",
       "    </tr>\n",
       "    <tr>\n",
       "      <th>2074</th>\n",
       "      <td>892420643555336193</td>\n",
       "      <td>https://pbs.twimg.com/media/DGKD1-bXoAAIAUK.jpg</td>\n",
       "      <td>1</td>\n",
       "      <td>orange</td>\n",
       "      <td>0.097049</td>\n",
       "      <td>False</td>\n",
       "      <td>bagel</td>\n",
       "      <td>0.085851</td>\n",
       "      <td>False</td>\n",
       "      <td>banana</td>\n",
       "      <td>0.076110</td>\n",
       "      <td>False</td>\n",
       "    </tr>\n",
       "  </tbody>\n",
       "</table>\n",
       "</div>"
      ],
      "text/plain": [
       "                tweet_id                                          jpg_url  \\\n",
       "2070  891327558926688256  https://pbs.twimg.com/media/DF6hr6BUMAAzZgT.jpg   \n",
       "2071  891689557279858688  https://pbs.twimg.com/media/DF_q7IAWsAEuuN8.jpg   \n",
       "2072  891815181378084864  https://pbs.twimg.com/media/DGBdLU1WsAANxJ9.jpg   \n",
       "2073  892177421306343426  https://pbs.twimg.com/media/DGGmoV4XsAAUL6n.jpg   \n",
       "2074  892420643555336193  https://pbs.twimg.com/media/DGKD1-bXoAAIAUK.jpg   \n",
       "\n",
       "      img_num           p1   p1_conf  p1_dog                  p2   p2_conf  \\\n",
       "2070        2       basset  0.555712    True    English_springer  0.225770   \n",
       "2071        1  paper_towel  0.170278   False  Labrador_retriever  0.168086   \n",
       "2072        1    Chihuahua  0.716012    True            malamute  0.078253   \n",
       "2073        1    Chihuahua  0.323581    True            Pekinese  0.090647   \n",
       "2074        1       orange  0.097049   False               bagel  0.085851   \n",
       "\n",
       "      p2_dog                           p3   p3_conf  p3_dog  \n",
       "2070    True  German_short-haired_pointer  0.175219    True  \n",
       "2071    True                      spatula  0.040836   False  \n",
       "2072    True                       kelpie  0.031379    True  \n",
       "2073    True                     papillon  0.068957    True  \n",
       "2074   False                       banana  0.076110   False  "
      ]
     },
     "execution_count": 55,
     "metadata": {},
     "output_type": "execute_result"
    }
   ],
   "source": [
    "image_pr.tail()"
   ]
  },
  {
   "cell_type": "code",
   "execution_count": 56,
   "metadata": {},
   "outputs": [
    {
     "data": {
      "text/html": [
       "<div>\n",
       "<style scoped>\n",
       "    .dataframe tbody tr th:only-of-type {\n",
       "        vertical-align: middle;\n",
       "    }\n",
       "\n",
       "    .dataframe tbody tr th {\n",
       "        vertical-align: top;\n",
       "    }\n",
       "\n",
       "    .dataframe thead th {\n",
       "        text-align: right;\n",
       "    }\n",
       "</style>\n",
       "<table border=\"1\" class=\"dataframe\">\n",
       "  <thead>\n",
       "    <tr style=\"text-align: right;\">\n",
       "      <th></th>\n",
       "      <th>tweet_id</th>\n",
       "      <th>img_num</th>\n",
       "      <th>p1_conf</th>\n",
       "      <th>p2_conf</th>\n",
       "      <th>p3_conf</th>\n",
       "    </tr>\n",
       "  </thead>\n",
       "  <tbody>\n",
       "    <tr>\n",
       "      <th>count</th>\n",
       "      <td>2.075000e+03</td>\n",
       "      <td>2075.000000</td>\n",
       "      <td>2075.000000</td>\n",
       "      <td>2.075000e+03</td>\n",
       "      <td>2.075000e+03</td>\n",
       "    </tr>\n",
       "    <tr>\n",
       "      <th>mean</th>\n",
       "      <td>7.384514e+17</td>\n",
       "      <td>1.203855</td>\n",
       "      <td>0.594548</td>\n",
       "      <td>1.345886e-01</td>\n",
       "      <td>6.032417e-02</td>\n",
       "    </tr>\n",
       "    <tr>\n",
       "      <th>std</th>\n",
       "      <td>6.785203e+16</td>\n",
       "      <td>0.561875</td>\n",
       "      <td>0.271174</td>\n",
       "      <td>1.006657e-01</td>\n",
       "      <td>5.090593e-02</td>\n",
       "    </tr>\n",
       "    <tr>\n",
       "      <th>min</th>\n",
       "      <td>6.660209e+17</td>\n",
       "      <td>1.000000</td>\n",
       "      <td>0.044333</td>\n",
       "      <td>1.011300e-08</td>\n",
       "      <td>1.740170e-10</td>\n",
       "    </tr>\n",
       "    <tr>\n",
       "      <th>25%</th>\n",
       "      <td>6.764835e+17</td>\n",
       "      <td>1.000000</td>\n",
       "      <td>0.364412</td>\n",
       "      <td>5.388625e-02</td>\n",
       "      <td>1.622240e-02</td>\n",
       "    </tr>\n",
       "    <tr>\n",
       "      <th>50%</th>\n",
       "      <td>7.119988e+17</td>\n",
       "      <td>1.000000</td>\n",
       "      <td>0.588230</td>\n",
       "      <td>1.181810e-01</td>\n",
       "      <td>4.944380e-02</td>\n",
       "    </tr>\n",
       "    <tr>\n",
       "      <th>75%</th>\n",
       "      <td>7.932034e+17</td>\n",
       "      <td>1.000000</td>\n",
       "      <td>0.843855</td>\n",
       "      <td>1.955655e-01</td>\n",
       "      <td>9.180755e-02</td>\n",
       "    </tr>\n",
       "    <tr>\n",
       "      <th>max</th>\n",
       "      <td>8.924206e+17</td>\n",
       "      <td>4.000000</td>\n",
       "      <td>1.000000</td>\n",
       "      <td>4.880140e-01</td>\n",
       "      <td>2.734190e-01</td>\n",
       "    </tr>\n",
       "  </tbody>\n",
       "</table>\n",
       "</div>"
      ],
      "text/plain": [
       "           tweet_id      img_num      p1_conf       p2_conf       p3_conf\n",
       "count  2.075000e+03  2075.000000  2075.000000  2.075000e+03  2.075000e+03\n",
       "mean   7.384514e+17     1.203855     0.594548  1.345886e-01  6.032417e-02\n",
       "std    6.785203e+16     0.561875     0.271174  1.006657e-01  5.090593e-02\n",
       "min    6.660209e+17     1.000000     0.044333  1.011300e-08  1.740170e-10\n",
       "25%    6.764835e+17     1.000000     0.364412  5.388625e-02  1.622240e-02\n",
       "50%    7.119988e+17     1.000000     0.588230  1.181810e-01  4.944380e-02\n",
       "75%    7.932034e+17     1.000000     0.843855  1.955655e-01  9.180755e-02\n",
       "max    8.924206e+17     4.000000     1.000000  4.880140e-01  2.734190e-01"
      ]
     },
     "execution_count": 56,
     "metadata": {},
     "output_type": "execute_result"
    }
   ],
   "source": [
    "image_pr.describe()"
   ]
  },
  {
   "cell_type": "code",
   "execution_count": 57,
   "metadata": {},
   "outputs": [
    {
     "name": "stdout",
     "output_type": "stream",
     "text": [
      "<class 'pandas.core.frame.DataFrame'>\n",
      "RangeIndex: 2075 entries, 0 to 2074\n",
      "Data columns (total 12 columns):\n",
      " #   Column    Non-Null Count  Dtype  \n",
      "---  ------    --------------  -----  \n",
      " 0   tweet_id  2075 non-null   int64  \n",
      " 1   jpg_url   2075 non-null   object \n",
      " 2   img_num   2075 non-null   int64  \n",
      " 3   p1        2075 non-null   object \n",
      " 4   p1_conf   2075 non-null   float64\n",
      " 5   p1_dog    2075 non-null   bool   \n",
      " 6   p2        2075 non-null   object \n",
      " 7   p2_conf   2075 non-null   float64\n",
      " 8   p2_dog    2075 non-null   bool   \n",
      " 9   p3        2075 non-null   object \n",
      " 10  p3_conf   2075 non-null   float64\n",
      " 11  p3_dog    2075 non-null   bool   \n",
      "dtypes: bool(3), float64(3), int64(2), object(4)\n",
      "memory usage: 152.1+ KB\n"
     ]
    }
   ],
   "source": [
    "image_pr.info()"
   ]
  },
  {
   "cell_type": "code",
   "execution_count": 58,
   "metadata": {},
   "outputs": [
    {
     "data": {
      "text/plain": [
       "tweet_id    0.0\n",
       "jpg_url     0.0\n",
       "img_num     0.0\n",
       "p1          0.0\n",
       "p1_conf     0.0\n",
       "p1_dog      0.0\n",
       "p2          0.0\n",
       "p2_conf     0.0\n",
       "p2_dog      0.0\n",
       "p3          0.0\n",
       "p3_conf     0.0\n",
       "p3_dog      0.0\n",
       "dtype: float64"
      ]
     },
     "execution_count": 58,
     "metadata": {},
     "output_type": "execute_result"
    }
   ],
   "source": [
    "image_pr.isnull().sum() * 100 / len(image_pr)"
   ]
  },
  {
   "cell_type": "code",
   "execution_count": 59,
   "metadata": {},
   "outputs": [
    {
     "data": {
      "text/plain": [
       "0"
      ]
     },
     "execution_count": 59,
     "metadata": {},
     "output_type": "execute_result"
    }
   ],
   "source": [
    "#unique twitter ids\n",
    "image_pr.tweet_id.duplicated().sum()"
   ]
  },
  {
   "cell_type": "code",
   "execution_count": 60,
   "metadata": {},
   "outputs": [
    {
     "data": {
      "text/plain": [
       "True     1532\n",
       "False     543\n",
       "Name: p1_dog, dtype: int64"
      ]
     },
     "execution_count": 60,
     "metadata": {},
     "output_type": "execute_result"
    }
   ],
   "source": [
    "image_pr.p1_dog.value_counts()"
   ]
  },
  {
   "cell_type": "code",
   "execution_count": 61,
   "metadata": {},
   "outputs": [
    {
     "data": {
      "text/plain": [
       "True     1553\n",
       "False     522\n",
       "Name: p2_dog, dtype: int64"
      ]
     },
     "execution_count": 61,
     "metadata": {},
     "output_type": "execute_result"
    }
   ],
   "source": [
    "image_pr.p2_dog.value_counts()"
   ]
  },
  {
   "cell_type": "code",
   "execution_count": 62,
   "metadata": {},
   "outputs": [
    {
     "data": {
      "text/plain": [
       "True     1499\n",
       "False     576\n",
       "Name: p3_dog, dtype: int64"
      ]
     },
     "execution_count": 62,
     "metadata": {},
     "output_type": "execute_result"
    }
   ],
   "source": [
    "image_pr.p3_dog.value_counts()"
   ]
  },
  {
   "cell_type": "markdown",
   "metadata": {},
   "source": [
    "This dataset appears to be in good condition. "
   ]
  },
  {
   "cell_type": "markdown",
   "metadata": {},
   "source": [
    "### API data"
   ]
  },
  {
   "cell_type": "code",
   "execution_count": 63,
   "metadata": {},
   "outputs": [
    {
     "data": {
      "text/html": [
       "<div>\n",
       "<style scoped>\n",
       "    .dataframe tbody tr th:only-of-type {\n",
       "        vertical-align: middle;\n",
       "    }\n",
       "\n",
       "    .dataframe tbody tr th {\n",
       "        vertical-align: top;\n",
       "    }\n",
       "\n",
       "    .dataframe thead th {\n",
       "        text-align: right;\n",
       "    }\n",
       "</style>\n",
       "<table border=\"1\" class=\"dataframe\">\n",
       "  <thead>\n",
       "    <tr style=\"text-align: right;\">\n",
       "      <th></th>\n",
       "      <th>tweet_id</th>\n",
       "      <th>favorites</th>\n",
       "      <th>retweets</th>\n",
       "      <th>user_followers</th>\n",
       "      <th>user_favourites</th>\n",
       "      <th>date_time</th>\n",
       "    </tr>\n",
       "  </thead>\n",
       "  <tbody>\n",
       "    <tr>\n",
       "      <th>0</th>\n",
       "      <td>892420643555336193</td>\n",
       "      <td>33792</td>\n",
       "      <td>6998</td>\n",
       "      <td>9300854</td>\n",
       "      <td>146892</td>\n",
       "      <td>2017-08-01 16:23:56+00:00</td>\n",
       "    </tr>\n",
       "    <tr>\n",
       "      <th>1</th>\n",
       "      <td>892177421306343426</td>\n",
       "      <td>29312</td>\n",
       "      <td>5297</td>\n",
       "      <td>9300854</td>\n",
       "      <td>146892</td>\n",
       "      <td>2017-08-01 00:17:27+00:00</td>\n",
       "    </tr>\n",
       "    <tr>\n",
       "      <th>2</th>\n",
       "      <td>891815181378084864</td>\n",
       "      <td>22041</td>\n",
       "      <td>3477</td>\n",
       "      <td>9300854</td>\n",
       "      <td>146892</td>\n",
       "      <td>2017-07-31 00:18:03+00:00</td>\n",
       "    </tr>\n",
       "    <tr>\n",
       "      <th>3</th>\n",
       "      <td>891689557279858688</td>\n",
       "      <td>36915</td>\n",
       "      <td>7219</td>\n",
       "      <td>9300854</td>\n",
       "      <td>146892</td>\n",
       "      <td>2017-07-30 15:58:51+00:00</td>\n",
       "    </tr>\n",
       "    <tr>\n",
       "      <th>4</th>\n",
       "      <td>891327558926688256</td>\n",
       "      <td>35294</td>\n",
       "      <td>7752</td>\n",
       "      <td>9300854</td>\n",
       "      <td>146892</td>\n",
       "      <td>2017-07-29 16:00:24+00:00</td>\n",
       "    </tr>\n",
       "  </tbody>\n",
       "</table>\n",
       "</div>"
      ],
      "text/plain": [
       "             tweet_id  favorites  retweets  user_followers  user_favourites  \\\n",
       "0  892420643555336193      33792      6998         9300854           146892   \n",
       "1  892177421306343426      29312      5297         9300854           146892   \n",
       "2  891815181378084864      22041      3477         9300854           146892   \n",
       "3  891689557279858688      36915      7219         9300854           146892   \n",
       "4  891327558926688256      35294      7752         9300854           146892   \n",
       "\n",
       "                   date_time  \n",
       "0  2017-08-01 16:23:56+00:00  \n",
       "1  2017-08-01 00:17:27+00:00  \n",
       "2  2017-07-31 00:18:03+00:00  \n",
       "3  2017-07-30 15:58:51+00:00  \n",
       "4  2017-07-29 16:00:24+00:00  "
      ]
     },
     "execution_count": 63,
     "metadata": {},
     "output_type": "execute_result"
    }
   ],
   "source": [
    "df_api.head()"
   ]
  },
  {
   "cell_type": "code",
   "execution_count": 64,
   "metadata": {},
   "outputs": [
    {
     "name": "stdout",
     "output_type": "stream",
     "text": [
      "<class 'pandas.core.frame.DataFrame'>\n",
      "RangeIndex: 660 entries, 0 to 659\n",
      "Data columns (total 6 columns):\n",
      " #   Column           Non-Null Count  Dtype \n",
      "---  ------           --------------  ----- \n",
      " 0   tweet_id         660 non-null    int64 \n",
      " 1   favorites        660 non-null    int64 \n",
      " 2   retweets         660 non-null    int64 \n",
      " 3   user_followers   660 non-null    int64 \n",
      " 4   user_favourites  660 non-null    int64 \n",
      " 5   date_time        660 non-null    object\n",
      "dtypes: int64(5), object(1)\n",
      "memory usage: 31.1+ KB\n"
     ]
    }
   ],
   "source": [
    "df_api.info()"
   ]
  },
  {
   "cell_type": "code",
   "execution_count": 65,
   "metadata": {},
   "outputs": [
    {
     "data": {
      "text/html": [
       "<div>\n",
       "<style scoped>\n",
       "    .dataframe tbody tr th:only-of-type {\n",
       "        vertical-align: middle;\n",
       "    }\n",
       "\n",
       "    .dataframe tbody tr th {\n",
       "        vertical-align: top;\n",
       "    }\n",
       "\n",
       "    .dataframe thead th {\n",
       "        text-align: right;\n",
       "    }\n",
       "</style>\n",
       "<table border=\"1\" class=\"dataframe\">\n",
       "  <thead>\n",
       "    <tr style=\"text-align: right;\">\n",
       "      <th></th>\n",
       "      <th>tweet_id</th>\n",
       "      <th>favorites</th>\n",
       "      <th>retweets</th>\n",
       "      <th>user_followers</th>\n",
       "      <th>user_favourites</th>\n",
       "    </tr>\n",
       "  </thead>\n",
       "  <tbody>\n",
       "    <tr>\n",
       "      <th>count</th>\n",
       "      <td>6.600000e+02</td>\n",
       "      <td>660.000000</td>\n",
       "      <td>660.000000</td>\n",
       "      <td>6.600000e+02</td>\n",
       "      <td>660.000000</td>\n",
       "    </tr>\n",
       "    <tr>\n",
       "      <th>mean</th>\n",
       "      <td>8.332847e+17</td>\n",
       "      <td>14318.737879</td>\n",
       "      <td>4632.728788</td>\n",
       "      <td>9.300896e+06</td>\n",
       "      <td>146892.030303</td>\n",
       "    </tr>\n",
       "    <tr>\n",
       "      <th>std</th>\n",
       "      <td>2.930365e+16</td>\n",
       "      <td>14744.825166</td>\n",
       "      <td>5252.212374</td>\n",
       "      <td>5.900305e+01</td>\n",
       "      <td>0.347097</td>\n",
       "    </tr>\n",
       "    <tr>\n",
       "      <th>min</th>\n",
       "      <td>7.873224e+17</td>\n",
       "      <td>0.000000</td>\n",
       "      <td>1.000000</td>\n",
       "      <td>9.300854e+06</td>\n",
       "      <td>146892.000000</td>\n",
       "    </tr>\n",
       "    <tr>\n",
       "      <th>25%</th>\n",
       "      <td>8.090231e+17</td>\n",
       "      <td>5896.250000</td>\n",
       "      <td>1976.500000</td>\n",
       "      <td>9.300882e+06</td>\n",
       "      <td>146892.000000</td>\n",
       "    </tr>\n",
       "    <tr>\n",
       "      <th>50%</th>\n",
       "      <td>8.301353e+17</td>\n",
       "      <td>11162.000000</td>\n",
       "      <td>3139.500000</td>\n",
       "      <td>9.300894e+06</td>\n",
       "      <td>146892.000000</td>\n",
       "    </tr>\n",
       "    <tr>\n",
       "      <th>75%</th>\n",
       "      <td>8.563477e+17</td>\n",
       "      <td>19594.250000</td>\n",
       "      <td>5247.000000</td>\n",
       "      <td>9.300897e+06</td>\n",
       "      <td>146892.000000</td>\n",
       "    </tr>\n",
       "    <tr>\n",
       "      <th>max</th>\n",
       "      <td>8.924206e+17</td>\n",
       "      <td>124030.000000</td>\n",
       "      <td>51621.000000</td>\n",
       "      <td>9.301353e+06</td>\n",
       "      <td>146896.000000</td>\n",
       "    </tr>\n",
       "  </tbody>\n",
       "</table>\n",
       "</div>"
      ],
      "text/plain": [
       "           tweet_id      favorites      retweets  user_followers  \\\n",
       "count  6.600000e+02     660.000000    660.000000    6.600000e+02   \n",
       "mean   8.332847e+17   14318.737879   4632.728788    9.300896e+06   \n",
       "std    2.930365e+16   14744.825166   5252.212374    5.900305e+01   \n",
       "min    7.873224e+17       0.000000      1.000000    9.300854e+06   \n",
       "25%    8.090231e+17    5896.250000   1976.500000    9.300882e+06   \n",
       "50%    8.301353e+17   11162.000000   3139.500000    9.300894e+06   \n",
       "75%    8.563477e+17   19594.250000   5247.000000    9.300897e+06   \n",
       "max    8.924206e+17  124030.000000  51621.000000    9.301353e+06   \n",
       "\n",
       "       user_favourites  \n",
       "count       660.000000  \n",
       "mean     146892.030303  \n",
       "std           0.347097  \n",
       "min      146892.000000  \n",
       "25%      146892.000000  \n",
       "50%      146892.000000  \n",
       "75%      146892.000000  \n",
       "max      146896.000000  "
      ]
     },
     "execution_count": 65,
     "metadata": {},
     "output_type": "execute_result"
    }
   ],
   "source": [
    "df_api.describe()"
   ]
  },
  {
   "cell_type": "code",
   "execution_count": 66,
   "metadata": {},
   "outputs": [
    {
     "data": {
      "text/plain": [
       "0"
      ]
     },
     "execution_count": 66,
     "metadata": {},
     "output_type": "execute_result"
    }
   ],
   "source": [
    "#unique twitter ids\n",
    "df_api.tweet_id.duplicated().sum()"
   ]
  },
  {
   "cell_type": "markdown",
   "metadata": {},
   "source": [
    "The column date_time does not have the correct datatype."
   ]
  },
  {
   "cell_type": "code",
   "execution_count": 67,
   "metadata": {},
   "outputs": [
    {
     "name": "stdout",
     "output_type": "stream",
     "text": [
      "The number of missing data is 281\n"
     ]
    }
   ],
   "source": [
    "#missing data \n",
    "print(\"The number of missing data is \"+ str(len(twitter_archive) - len(image_pr)))"
   ]
  },
  {
   "cell_type": "markdown",
   "metadata": {},
   "source": [
    "### Quality issues\n",
    "\n",
    "#### Twitter archive\n",
    "1.     Inspecting the data visually, I can see that:\n",
    "        in_reply_to_status_id,\n",
    "        in_reply_to_user_id,\n",
    "        retweeted_status_id\n",
    "        retweeted_status_user_id\n",
    "        retweeted_status_timestamp mostly contained null datasets\n",
    "\n",
    "\n",
    "2. Several rows from the tail() output included incorrect strings in the name column, such as \"a,\" \"an,\" and \"in,\" which are the third word in the text column. Also values of \"None\" in the name column.\n",
    "\n",
    "3. doggo, floofer, pupper, puppo had many values represented as \"none\" \n",
    "\n",
    "4. The expanded_urls (links to images) had 59 tweets with missing data\n",
    "\n",
    "5. timestamp and retweeted_status_timestamp are object, they had wrong data types\n",
    "\n",
    "6. With a total of 745 occurrences, \"none\" was the most common, followed by a. One thing I observed was that only the dog names were capitalized and there were 109 posts in the name column containing regular words that are NOT valid names.\n",
    "\n",
    "7. Wrong entry of the number/number expression was recorded as the rating, Some other ratings had large rating denominators or numerators. Also some rating denominators and numerator were represented with the date/time. \n",
    "\n",
    "8. There are only four types of values in the source column that may be obtained by modification.\n",
    "9. Ratings not equal to 10 or ratings greater than 20 should be removed.\n",
    "\n",
    "#### Image prediction\n",
    "\n",
    " 1.   281 missing data between the twitter_archives and image_prediction.\n",
    " 2.   The naming of the dogs were non-uniform; some were capitals while some were small.\n",
    " \n",
    " \n",
    " #### API data\n",
    " \n",
    " 1. The column date_time does not have the correct datatype.\n"
   ]
  },
  {
   "cell_type": "markdown",
   "metadata": {},
   "source": [
    "### Tidiness issues\n",
    "\n",
    "#### Twitter archive\n",
    "\n",
    "1.   There are 4 columns for dog stages: doggo, floofer, pupper, puppo, it should be combined to one.\n",
    "2.   There are 181 retweets and 78 reply tweets, we need the original posts.\n",
    "\n",
    "\n",
    "#### Image prediction\n",
    "\n",
    "1.    I don't think there's need for the jpg url\n",
    "2.    Merging all datasets into one using an inner join based on the tweet id.\n",
    "3.    Modify the image predictions and confidence columns."
   ]
  },
  {
   "cell_type": "markdown",
   "metadata": {},
   "source": [
    "## Step 3: Cleaning data\n",
    "\n",
    "In this section, I will clean **all** of the issues I documented while assessing. \n",
    "\n",
    "**Note:** I will make a copy of the original data before cleaning. Cleaning includes merging individual pieces of data according to the rules of [tidy data](https://cran.r-project.org/web/packages/tidyr/vignettes/tidy-data.html). The result would be a high-quality and tidy master pandas DataFrame (or DataFrames, if appropriate)."
   ]
  },
  {
   "cell_type": "code",
   "execution_count": 68,
   "metadata": {},
   "outputs": [],
   "source": [
    "# Make copies of original pieces of data\n",
    "\n",
    "tweet_clean = twitter_archive.copy()\n",
    "image_clean = image_pr.copy()\n",
    "api_clean = df_api.copy()"
   ]
  },
  {
   "cell_type": "markdown",
   "metadata": {},
   "source": [
    "### Issue #1: Timestamp and retweeted_status_timestamp are object, they had the wrong data types"
   ]
  },
  {
   "cell_type": "markdown",
   "metadata": {},
   "source": [
    "#### Define: \n",
    "\n",
    "> Change the data type in timestamp and retweeted_status_timestamp to datetime type instead of object type"
   ]
  },
  {
   "cell_type": "markdown",
   "metadata": {},
   "source": [
    "#### Code"
   ]
  },
  {
   "cell_type": "code",
   "execution_count": 69,
   "metadata": {},
   "outputs": [],
   "source": [
    "tweet_clean.timestamp = pd.to_datetime(tweet_clean.timestamp)\n",
    "tweet_clean.retweeted_status_timestamp = pd.to_datetime(tweet_clean.retweeted_status_timestamp)"
   ]
  },
  {
   "cell_type": "markdown",
   "metadata": {},
   "source": [
    "#### Test"
   ]
  },
  {
   "cell_type": "code",
   "execution_count": 70,
   "metadata": {},
   "outputs": [
    {
     "name": "stdout",
     "output_type": "stream",
     "text": [
      "<class 'pandas.core.frame.DataFrame'>\n",
      "RangeIndex: 2356 entries, 0 to 2355\n",
      "Data columns (total 17 columns):\n",
      " #   Column                      Non-Null Count  Dtype              \n",
      "---  ------                      --------------  -----              \n",
      " 0   tweet_id                    2356 non-null   int64              \n",
      " 1   in_reply_to_status_id       78 non-null     float64            \n",
      " 2   in_reply_to_user_id         78 non-null     float64            \n",
      " 3   timestamp                   2356 non-null   datetime64[ns, UTC]\n",
      " 4   source                      2356 non-null   object             \n",
      " 5   text                        2356 non-null   object             \n",
      " 6   retweeted_status_id         181 non-null    float64            \n",
      " 7   retweeted_status_user_id    181 non-null    float64            \n",
      " 8   retweeted_status_timestamp  181 non-null    datetime64[ns, UTC]\n",
      " 9   expanded_urls               2297 non-null   object             \n",
      " 10  rating_numerator            2356 non-null   int64              \n",
      " 11  rating_denominator          2356 non-null   int64              \n",
      " 12  name                        2356 non-null   object             \n",
      " 13  doggo                       2356 non-null   object             \n",
      " 14  floofer                     2356 non-null   object             \n",
      " 15  pupper                      2356 non-null   object             \n",
      " 16  puppo                       2356 non-null   object             \n",
      "dtypes: datetime64[ns, UTC](2), float64(4), int64(3), object(8)\n",
      "memory usage: 313.0+ KB\n"
     ]
    }
   ],
   "source": [
    "tweet_clean.info()"
   ]
  },
  {
   "cell_type": "markdown",
   "metadata": {},
   "source": [
    "### Issue #2: There are only four types of values in the source column that may be obtained by modification."
   ]
  },
  {
   "cell_type": "markdown",
   "metadata": {},
   "source": [
    "#### Define:\n",
    "\n",
    "> Extract the correct values from the html string and replace the values in the column "
   ]
  },
  {
   "cell_type": "markdown",
   "metadata": {},
   "source": [
    "#### Code"
   ]
  },
  {
   "cell_type": "code",
   "execution_count": 71,
   "metadata": {},
   "outputs": [],
   "source": [
    "pattern = r\"(<[^>]+>)\""
   ]
  },
  {
   "cell_type": "code",
   "execution_count": 72,
   "metadata": {},
   "outputs": [
    {
     "data": {
      "text/plain": [
       "0    Twitter for iPhone\n",
       "1    Twitter for iPhone\n",
       "2    Twitter for iPhone\n",
       "3    Twitter for iPhone\n",
       "4    Twitter for iPhone\n",
       "Name: source, dtype: object"
      ]
     },
     "execution_count": 72,
     "metadata": {},
     "output_type": "execute_result"
    }
   ],
   "source": [
    "tweet_clean.source.str.replace(pattern, \"\").head()"
   ]
  },
  {
   "cell_type": "code",
   "execution_count": 73,
   "metadata": {},
   "outputs": [
    {
     "data": {
      "text/plain": [
       "1242    Twitter for iPhone\n",
       "2245    Twitter for iPhone\n",
       "793     Twitter for iPhone\n",
       "927     Twitter for iPhone\n",
       "1188    Twitter for iPhone\n",
       "638     Twitter for iPhone\n",
       "677     Twitter for iPhone\n",
       "1914    Twitter for iPhone\n",
       "1181    Twitter for iPhone\n",
       "560     Twitter for iPhone\n",
       "Name: source, dtype: object"
      ]
     },
     "execution_count": 73,
     "metadata": {},
     "output_type": "execute_result"
    }
   ],
   "source": [
    "tweet_clean.source.str.replace(pattern, \"\").sample(10)"
   ]
  },
  {
   "cell_type": "code",
   "execution_count": 74,
   "metadata": {},
   "outputs": [],
   "source": [
    "tweet_clean['source'] = tweet_clean.source.str.replace(pattern, \"\")"
   ]
  },
  {
   "cell_type": "markdown",
   "metadata": {},
   "source": [
    "#### Test"
   ]
  },
  {
   "cell_type": "code",
   "execution_count": 75,
   "metadata": {},
   "outputs": [
    {
     "data": {
      "text/plain": [
       "Twitter for iPhone     2221\n",
       "Vine - Make a Scene      91\n",
       "Twitter Web Client       33\n",
       "TweetDeck                11\n",
       "Name: source, dtype: int64"
      ]
     },
     "execution_count": 75,
     "metadata": {},
     "output_type": "execute_result"
    }
   ],
   "source": [
    "tweet_clean.source.value_counts()"
   ]
  },
  {
   "cell_type": "markdown",
   "metadata": {},
   "source": [
    "### Issue #3: There are 181 retweets and we need the original posts"
   ]
  },
  {
   "cell_type": "markdown",
   "metadata": {},
   "source": [
    "#### Define:\n",
    "\n",
    "> Drop all rows with non-null columns such as retweeted status id, retweeted status user id, and retweeted status timestamp."
   ]
  },
  {
   "cell_type": "markdown",
   "metadata": {},
   "source": [
    "#### Code"
   ]
  },
  {
   "cell_type": "code",
   "execution_count": 76,
   "metadata": {},
   "outputs": [
    {
     "data": {
      "text/plain": [
       "181"
      ]
     },
     "execution_count": 76,
     "metadata": {},
     "output_type": "execute_result"
    }
   ],
   "source": [
    "len(tweet_clean[tweet_clean.retweeted_status_id.notnull()])"
   ]
  },
  {
   "cell_type": "code",
   "execution_count": 77,
   "metadata": {},
   "outputs": [],
   "source": [
    "tweet_clean = (tweet_clean[tweet_clean.retweeted_status_id.isna()])"
   ]
  },
  {
   "cell_type": "markdown",
   "metadata": {},
   "source": [
    "#### Test"
   ]
  },
  {
   "cell_type": "code",
   "execution_count": 78,
   "metadata": {},
   "outputs": [
    {
     "name": "stdout",
     "output_type": "stream",
     "text": [
      "<class 'pandas.core.frame.DataFrame'>\n",
      "Int64Index: 2175 entries, 0 to 2355\n",
      "Data columns (total 17 columns):\n",
      " #   Column                      Non-Null Count  Dtype              \n",
      "---  ------                      --------------  -----              \n",
      " 0   tweet_id                    2175 non-null   int64              \n",
      " 1   in_reply_to_status_id       78 non-null     float64            \n",
      " 2   in_reply_to_user_id         78 non-null     float64            \n",
      " 3   timestamp                   2175 non-null   datetime64[ns, UTC]\n",
      " 4   source                      2175 non-null   object             \n",
      " 5   text                        2175 non-null   object             \n",
      " 6   retweeted_status_id         0 non-null      float64            \n",
      " 7   retweeted_status_user_id    0 non-null      float64            \n",
      " 8   retweeted_status_timestamp  0 non-null      datetime64[ns, UTC]\n",
      " 9   expanded_urls               2117 non-null   object             \n",
      " 10  rating_numerator            2175 non-null   int64              \n",
      " 11  rating_denominator          2175 non-null   int64              \n",
      " 12  name                        2175 non-null   object             \n",
      " 13  doggo                       2175 non-null   object             \n",
      " 14  floofer                     2175 non-null   object             \n",
      " 15  pupper                      2175 non-null   object             \n",
      " 16  puppo                       2175 non-null   object             \n",
      "dtypes: datetime64[ns, UTC](2), float64(4), int64(3), object(8)\n",
      "memory usage: 305.9+ KB\n"
     ]
    }
   ],
   "source": [
    "tweet_clean.info()"
   ]
  },
  {
   "cell_type": "markdown",
   "metadata": {},
   "source": [
    "### Issue #4: There are 78 reply tweets, we only need the original posts "
   ]
  },
  {
   "cell_type": "markdown",
   "metadata": {},
   "source": [
    "#### Define:\n",
    "\n",
    "> Drop all rows such as in_reply_to_status_id,  in_reply_to_user_id ."
   ]
  },
  {
   "cell_type": "markdown",
   "metadata": {},
   "source": [
    "#### Code"
   ]
  },
  {
   "cell_type": "code",
   "execution_count": 79,
   "metadata": {},
   "outputs": [
    {
     "data": {
      "text/plain": [
       "78"
      ]
     },
     "execution_count": 79,
     "metadata": {},
     "output_type": "execute_result"
    }
   ],
   "source": [
    "len(tweet_clean[tweet_clean.in_reply_to_status_id.notnull()])"
   ]
  },
  {
   "cell_type": "code",
   "execution_count": 80,
   "metadata": {},
   "outputs": [],
   "source": [
    "tweet_clean = (tweet_clean[tweet_clean.in_reply_to_status_id.isna()])"
   ]
  },
  {
   "cell_type": "markdown",
   "metadata": {},
   "source": [
    "#### Test"
   ]
  },
  {
   "cell_type": "code",
   "execution_count": 81,
   "metadata": {},
   "outputs": [
    {
     "name": "stdout",
     "output_type": "stream",
     "text": [
      "<class 'pandas.core.frame.DataFrame'>\n",
      "Int64Index: 2097 entries, 0 to 2355\n",
      "Data columns (total 17 columns):\n",
      " #   Column                      Non-Null Count  Dtype              \n",
      "---  ------                      --------------  -----              \n",
      " 0   tweet_id                    2097 non-null   int64              \n",
      " 1   in_reply_to_status_id       0 non-null      float64            \n",
      " 2   in_reply_to_user_id         0 non-null      float64            \n",
      " 3   timestamp                   2097 non-null   datetime64[ns, UTC]\n",
      " 4   source                      2097 non-null   object             \n",
      " 5   text                        2097 non-null   object             \n",
      " 6   retweeted_status_id         0 non-null      float64            \n",
      " 7   retweeted_status_user_id    0 non-null      float64            \n",
      " 8   retweeted_status_timestamp  0 non-null      datetime64[ns, UTC]\n",
      " 9   expanded_urls               2094 non-null   object             \n",
      " 10  rating_numerator            2097 non-null   int64              \n",
      " 11  rating_denominator          2097 non-null   int64              \n",
      " 12  name                        2097 non-null   object             \n",
      " 13  doggo                       2097 non-null   object             \n",
      " 14  floofer                     2097 non-null   object             \n",
      " 15  pupper                      2097 non-null   object             \n",
      " 16  puppo                       2097 non-null   object             \n",
      "dtypes: datetime64[ns, UTC](2), float64(4), int64(3), object(8)\n",
      "memory usage: 294.9+ KB\n"
     ]
    }
   ],
   "source": [
    "tweet_clean.info()"
   ]
  },
  {
   "cell_type": "markdown",
   "metadata": {},
   "source": [
    "I can drop the columns now"
   ]
  },
  {
   "cell_type": "code",
   "execution_count": 82,
   "metadata": {},
   "outputs": [],
   "source": [
    "tweet_clean.drop(['retweeted_status_id','retweeted_status_user_id',\n",
    "                   'retweeted_status_timestamp',\"in_reply_to_status_id\",\"in_reply_to_user_id\"], \n",
    "                 axis = 1, inplace = True)"
   ]
  },
  {
   "cell_type": "code",
   "execution_count": 83,
   "metadata": {},
   "outputs": [
    {
     "data": {
      "text/plain": [
       "Index(['tweet_id', 'timestamp', 'source', 'text', 'expanded_urls',\n",
       "       'rating_numerator', 'rating_denominator', 'name', 'doggo', 'floofer',\n",
       "       'pupper', 'puppo'],\n",
       "      dtype='object')"
      ]
     },
     "execution_count": 83,
     "metadata": {},
     "output_type": "execute_result"
    }
   ],
   "source": [
    "tweet_clean.columns"
   ]
  },
  {
   "cell_type": "markdown",
   "metadata": {},
   "source": [
    "### Issue #5: Wrong entry of the number/number expression recorded as the rating."
   ]
  },
  {
   "cell_type": "markdown",
   "metadata": {},
   "source": [
    "#### Define:\n",
    "\n",
    "> Manually replace the incorrect values for:\n",
    "> - tweet_id: 740373189193256964 from 9//11 to 14/10\n",
    "> - tweet_id: 722974582966214656 from 4/20 to 13/10\n",
    "> - tweet_id: 716439118184652801 from 50/50 to 11/10\n",
    "> - tweet_id: 682962037429899265 from 7/11 to 10/10\t\n",
    "> - tweet_id: 666287406224695296 from 1/2 to 9/10"
   ]
  },
  {
   "cell_type": "markdown",
   "metadata": {},
   "source": [
    "#### Code"
   ]
  },
  {
   "cell_type": "code",
   "execution_count": 84,
   "metadata": {},
   "outputs": [],
   "source": [
    "selected = tweet_clean.query(\"tweet_id in (740373189193256964, 722974582966214656, 716439118184652801, 682962037429899265, 666287406224695296)\")"
   ]
  },
  {
   "cell_type": "code",
   "execution_count": 85,
   "metadata": {},
   "outputs": [
    {
     "data": {
      "text/html": [
       "<div>\n",
       "<style scoped>\n",
       "    .dataframe tbody tr th:only-of-type {\n",
       "        vertical-align: middle;\n",
       "    }\n",
       "\n",
       "    .dataframe tbody tr th {\n",
       "        vertical-align: top;\n",
       "    }\n",
       "\n",
       "    .dataframe thead th {\n",
       "        text-align: right;\n",
       "    }\n",
       "</style>\n",
       "<table border=\"1\" class=\"dataframe\">\n",
       "  <thead>\n",
       "    <tr style=\"text-align: right;\">\n",
       "      <th></th>\n",
       "      <th>tweet_id</th>\n",
       "      <th>rating_numerator</th>\n",
       "      <th>rating_denominator</th>\n",
       "    </tr>\n",
       "  </thead>\n",
       "  <tbody>\n",
       "    <tr>\n",
       "      <th>1068</th>\n",
       "      <td>740373189193256964</td>\n",
       "      <td>9</td>\n",
       "      <td>11</td>\n",
       "    </tr>\n",
       "    <tr>\n",
       "      <th>1165</th>\n",
       "      <td>722974582966214656</td>\n",
       "      <td>4</td>\n",
       "      <td>20</td>\n",
       "    </tr>\n",
       "    <tr>\n",
       "      <th>1202</th>\n",
       "      <td>716439118184652801</td>\n",
       "      <td>50</td>\n",
       "      <td>50</td>\n",
       "    </tr>\n",
       "    <tr>\n",
       "      <th>1662</th>\n",
       "      <td>682962037429899265</td>\n",
       "      <td>7</td>\n",
       "      <td>11</td>\n",
       "    </tr>\n",
       "    <tr>\n",
       "      <th>2335</th>\n",
       "      <td>666287406224695296</td>\n",
       "      <td>1</td>\n",
       "      <td>2</td>\n",
       "    </tr>\n",
       "  </tbody>\n",
       "</table>\n",
       "</div>"
      ],
      "text/plain": [
       "                tweet_id  rating_numerator  rating_denominator\n",
       "1068  740373189193256964                 9                  11\n",
       "1165  722974582966214656                 4                  20\n",
       "1202  716439118184652801                50                  50\n",
       "1662  682962037429899265                 7                  11\n",
       "2335  666287406224695296                 1                   2"
      ]
     },
     "execution_count": 85,
     "metadata": {},
     "output_type": "execute_result"
    }
   ],
   "source": [
    "selected[[\"tweet_id\", \"rating_numerator\", \"rating_denominator\"]]"
   ]
  },
  {
   "cell_type": "code",
   "execution_count": 86,
   "metadata": {},
   "outputs": [
    {
     "data": {
      "text/html": [
       "<div>\n",
       "<style scoped>\n",
       "    .dataframe tbody tr th:only-of-type {\n",
       "        vertical-align: middle;\n",
       "    }\n",
       "\n",
       "    .dataframe tbody tr th {\n",
       "        vertical-align: top;\n",
       "    }\n",
       "\n",
       "    .dataframe thead th {\n",
       "        text-align: right;\n",
       "    }\n",
       "</style>\n",
       "<table border=\"1\" class=\"dataframe\">\n",
       "  <thead>\n",
       "    <tr style=\"text-align: right;\">\n",
       "      <th></th>\n",
       "      <th>tweet_id</th>\n",
       "      <th>text</th>\n",
       "      <th>rating_numerator</th>\n",
       "      <th>rating_denominator</th>\n",
       "    </tr>\n",
       "  </thead>\n",
       "  <tbody>\n",
       "    <tr>\n",
       "      <th>516</th>\n",
       "      <td>810984652412424192</td>\n",
       "      <td>Meet Sam. She smiles 24/7 &amp;amp; secretly aspir...</td>\n",
       "      <td>24</td>\n",
       "      <td>7</td>\n",
       "    </tr>\n",
       "    <tr>\n",
       "      <th>2335</th>\n",
       "      <td>666287406224695296</td>\n",
       "      <td>This is an Albanian 3 1/2 legged  Episcopalian...</td>\n",
       "      <td>1</td>\n",
       "      <td>2</td>\n",
       "    </tr>\n",
       "  </tbody>\n",
       "</table>\n",
       "</div>"
      ],
      "text/plain": [
       "                tweet_id                                               text  \\\n",
       "516   810984652412424192  Meet Sam. She smiles 24/7 &amp; secretly aspir...   \n",
       "2335  666287406224695296  This is an Albanian 3 1/2 legged  Episcopalian...   \n",
       "\n",
       "      rating_numerator  rating_denominator  \n",
       "516                 24                   7  \n",
       "2335                 1                   2  "
      ]
     },
     "execution_count": 86,
     "metadata": {},
     "output_type": "execute_result"
    }
   ],
   "source": [
    "tweet_clean[tweet_clean.rating_denominator < 10][[\"tweet_id\",'text', 'rating_numerator', 'rating_denominator']]"
   ]
  },
  {
   "cell_type": "code",
   "execution_count": 87,
   "metadata": {},
   "outputs": [],
   "source": [
    "mask = tweet_clean.tweet_id == 740373189193256964\n",
    "tweet_clean.loc[mask, 'rating_numerator'] = 14\n",
    "tweet_clean.loc[mask, 'rating_denominator'] = 10"
   ]
  },
  {
   "cell_type": "code",
   "execution_count": 88,
   "metadata": {},
   "outputs": [],
   "source": [
    "mask = tweet_clean.tweet_id == 722974582966214656\n",
    "tweet_clean.loc[mask, 'rating_numerator'] = 13\n",
    "tweet_clean.loc[mask, 'rating_denominator'] = 10"
   ]
  },
  {
   "cell_type": "code",
   "execution_count": 89,
   "metadata": {},
   "outputs": [],
   "source": [
    "mask = tweet_clean.tweet_id == 716439118184652801\n",
    "tweet_clean.loc[mask, 'rating_numerator'] = 11\n",
    "tweet_clean.loc[mask, 'rating_denominator'] = 10"
   ]
  },
  {
   "cell_type": "code",
   "execution_count": 90,
   "metadata": {},
   "outputs": [],
   "source": [
    "mask = tweet_clean.tweet_id == 682962037429899265\n",
    "tweet_clean.loc[mask, 'rating_numerator'] = 10\n",
    "tweet_clean.loc[mask, 'rating_denominator'] = 10"
   ]
  },
  {
   "cell_type": "code",
   "execution_count": 91,
   "metadata": {},
   "outputs": [],
   "source": [
    "mask = tweet_clean.tweet_id == 666287406224695296\n",
    "tweet_clean.loc[mask, 'rating_numerator'] = 9\n",
    "tweet_clean.loc[mask, 'rating_denominator'] = 10"
   ]
  },
  {
   "cell_type": "markdown",
   "metadata": {},
   "source": [
    "#### Test"
   ]
  },
  {
   "cell_type": "code",
   "execution_count": 92,
   "metadata": {},
   "outputs": [],
   "source": [
    "corrected = tweet_clean.query(\"tweet_id in (740373189193256964, 722974582966214656, 716439118184652801, 682962037429899265, 666287406224695296)\")"
   ]
  },
  {
   "cell_type": "code",
   "execution_count": 93,
   "metadata": {},
   "outputs": [
    {
     "data": {
      "text/html": [
       "<div>\n",
       "<style scoped>\n",
       "    .dataframe tbody tr th:only-of-type {\n",
       "        vertical-align: middle;\n",
       "    }\n",
       "\n",
       "    .dataframe tbody tr th {\n",
       "        vertical-align: top;\n",
       "    }\n",
       "\n",
       "    .dataframe thead th {\n",
       "        text-align: right;\n",
       "    }\n",
       "</style>\n",
       "<table border=\"1\" class=\"dataframe\">\n",
       "  <thead>\n",
       "    <tr style=\"text-align: right;\">\n",
       "      <th></th>\n",
       "      <th>tweet_id</th>\n",
       "      <th>rating_numerator</th>\n",
       "      <th>rating_denominator</th>\n",
       "    </tr>\n",
       "  </thead>\n",
       "  <tbody>\n",
       "    <tr>\n",
       "      <th>1068</th>\n",
       "      <td>740373189193256964</td>\n",
       "      <td>14</td>\n",
       "      <td>10</td>\n",
       "    </tr>\n",
       "    <tr>\n",
       "      <th>1165</th>\n",
       "      <td>722974582966214656</td>\n",
       "      <td>13</td>\n",
       "      <td>10</td>\n",
       "    </tr>\n",
       "    <tr>\n",
       "      <th>1202</th>\n",
       "      <td>716439118184652801</td>\n",
       "      <td>11</td>\n",
       "      <td>10</td>\n",
       "    </tr>\n",
       "    <tr>\n",
       "      <th>1662</th>\n",
       "      <td>682962037429899265</td>\n",
       "      <td>10</td>\n",
       "      <td>10</td>\n",
       "    </tr>\n",
       "    <tr>\n",
       "      <th>2335</th>\n",
       "      <td>666287406224695296</td>\n",
       "      <td>9</td>\n",
       "      <td>10</td>\n",
       "    </tr>\n",
       "  </tbody>\n",
       "</table>\n",
       "</div>"
      ],
      "text/plain": [
       "                tweet_id  rating_numerator  rating_denominator\n",
       "1068  740373189193256964                14                  10\n",
       "1165  722974582966214656                13                  10\n",
       "1202  716439118184652801                11                  10\n",
       "1662  682962037429899265                10                  10\n",
       "2335  666287406224695296                 9                  10"
      ]
     },
     "execution_count": 93,
     "metadata": {},
     "output_type": "execute_result"
    }
   ],
   "source": [
    "corrected[[\"tweet_id\", \"rating_numerator\", \"rating_denominator\"]]"
   ]
  },
  {
   "cell_type": "markdown",
   "metadata": {},
   "source": [
    "### Issue #6: Ratings not equal to 10 or ratings greater than 20 should be removed"
   ]
  },
  {
   "cell_type": "markdown",
   "metadata": {},
   "source": [
    "#### Define: \n",
    "\n",
    "Drop any row in rating_denominator that is not equal 10 and also rating_numerator greater than 20."
   ]
  },
  {
   "cell_type": "markdown",
   "metadata": {},
   "source": [
    "#### Code"
   ]
  },
  {
   "cell_type": "code",
   "execution_count": 94,
   "metadata": {},
   "outputs": [
    {
     "data": {
      "text/plain": [
       "10     2085\n",
       "80        2\n",
       "50        2\n",
       "7         1\n",
       "170       1\n",
       "150       1\n",
       "120       1\n",
       "110       1\n",
       "90        1\n",
       "70        1\n",
       "40        1\n",
       "Name: rating_denominator, dtype: int64"
      ]
     },
     "execution_count": 94,
     "metadata": {},
     "output_type": "execute_result"
    }
   ],
   "source": [
    "tweet_clean.rating_denominator.value_counts()"
   ]
  },
  {
   "cell_type": "code",
   "execution_count": 95,
   "metadata": {},
   "outputs": [
    {
     "data": {
      "text/plain": [
       "2085"
      ]
     },
     "execution_count": 95,
     "metadata": {},
     "output_type": "execute_result"
    }
   ],
   "source": [
    "len(tweet_clean[tweet_clean.rating_denominator == 10])"
   ]
  },
  {
   "cell_type": "code",
   "execution_count": 96,
   "metadata": {},
   "outputs": [],
   "source": [
    "tweet_clean = (tweet_clean[tweet_clean.rating_denominator == 10])"
   ]
  },
  {
   "cell_type": "markdown",
   "metadata": {},
   "source": [
    "#### Test"
   ]
  },
  {
   "cell_type": "code",
   "execution_count": 97,
   "metadata": {},
   "outputs": [
    {
     "data": {
      "text/plain": [
       "10    2085\n",
       "Name: rating_denominator, dtype: int64"
      ]
     },
     "execution_count": 97,
     "metadata": {},
     "output_type": "execute_result"
    }
   ],
   "source": [
    "tweet_clean.rating_denominator.value_counts()"
   ]
  },
  {
   "cell_type": "code",
   "execution_count": 98,
   "metadata": {},
   "outputs": [
    {
     "data": {
      "text/plain": [
       "12      486\n",
       "10      437\n",
       "11      414\n",
       "13      288\n",
       "9       153\n",
       "8        98\n",
       "7        51\n",
       "14       39\n",
       "5        34\n",
       "6        32\n",
       "3        19\n",
       "4        15\n",
       "2         9\n",
       "1         4\n",
       "75        1\n",
       "420       1\n",
       "26        1\n",
       "27        1\n",
       "1776      1\n",
       "0         1\n",
       "Name: rating_numerator, dtype: int64"
      ]
     },
     "execution_count": 98,
     "metadata": {},
     "output_type": "execute_result"
    }
   ],
   "source": [
    "tweet_clean.rating_numerator.value_counts()"
   ]
  },
  {
   "cell_type": "markdown",
   "metadata": {},
   "source": [
    "#### Code"
   ]
  },
  {
   "cell_type": "code",
   "execution_count": 99,
   "metadata": {},
   "outputs": [
    {
     "data": {
      "text/plain": [
       "12      486\n",
       "10      437\n",
       "11      414\n",
       "13      288\n",
       "9       153\n",
       "8        98\n",
       "7        51\n",
       "14       39\n",
       "5        34\n",
       "6        32\n",
       "3        19\n",
       "4        15\n",
       "2         9\n",
       "1         4\n",
       "75        1\n",
       "420       1\n",
       "26        1\n",
       "27        1\n",
       "1776      1\n",
       "0         1\n",
       "Name: rating_numerator, dtype: int64"
      ]
     },
     "execution_count": 99,
     "metadata": {},
     "output_type": "execute_result"
    }
   ],
   "source": [
    "tweet_clean.rating_numerator.value_counts()"
   ]
  },
  {
   "cell_type": "markdown",
   "metadata": {},
   "source": [
    "### Issue #7: The expanded_urls (links to images) had 59 tweets with missing data"
   ]
  },
  {
   "cell_type": "markdown",
   "metadata": {},
   "source": [
    "#### Define: \n",
    "Drop any missing data from the expanded_urls column"
   ]
  },
  {
   "cell_type": "markdown",
   "metadata": {},
   "source": [
    "#### Code"
   ]
  },
  {
   "cell_type": "code",
   "execution_count": 100,
   "metadata": {},
   "outputs": [
    {
     "name": "stdout",
     "output_type": "stream",
     "text": [
      "<class 'pandas.core.frame.DataFrame'>\n",
      "Int64Index: 2085 entries, 0 to 2355\n",
      "Data columns (total 12 columns):\n",
      " #   Column              Non-Null Count  Dtype              \n",
      "---  ------              --------------  -----              \n",
      " 0   tweet_id            2085 non-null   int64              \n",
      " 1   timestamp           2085 non-null   datetime64[ns, UTC]\n",
      " 2   source              2085 non-null   object             \n",
      " 3   text                2085 non-null   object             \n",
      " 4   expanded_urls       2082 non-null   object             \n",
      " 5   rating_numerator    2085 non-null   int64              \n",
      " 6   rating_denominator  2085 non-null   int64              \n",
      " 7   name                2085 non-null   object             \n",
      " 8   doggo               2085 non-null   object             \n",
      " 9   floofer             2085 non-null   object             \n",
      " 10  pupper              2085 non-null   object             \n",
      " 11  puppo               2085 non-null   object             \n",
      "dtypes: datetime64[ns, UTC](1), int64(3), object(8)\n",
      "memory usage: 211.8+ KB\n"
     ]
    }
   ],
   "source": [
    "tweet_clean.info()"
   ]
  },
  {
   "cell_type": "code",
   "execution_count": 101,
   "metadata": {},
   "outputs": [
    {
     "data": {
      "text/plain": [
       "2082"
      ]
     },
     "execution_count": 101,
     "metadata": {},
     "output_type": "execute_result"
    }
   ],
   "source": [
    "len(tweet_clean[tweet_clean.expanded_urls.notnull()])"
   ]
  },
  {
   "cell_type": "code",
   "execution_count": 102,
   "metadata": {},
   "outputs": [
    {
     "data": {
      "text/plain": [
       "3"
      ]
     },
     "execution_count": 102,
     "metadata": {},
     "output_type": "execute_result"
    }
   ],
   "source": [
    "len(tweet_clean[tweet_clean.expanded_urls.isna()])"
   ]
  },
  {
   "cell_type": "code",
   "execution_count": 103,
   "metadata": {},
   "outputs": [],
   "source": [
    "tweet_clean = (tweet_clean[tweet_clean.expanded_urls.notnull()])"
   ]
  },
  {
   "cell_type": "markdown",
   "metadata": {},
   "source": [
    "#### Test "
   ]
  },
  {
   "cell_type": "code",
   "execution_count": 104,
   "metadata": {},
   "outputs": [
    {
     "name": "stdout",
     "output_type": "stream",
     "text": [
      "<class 'pandas.core.frame.DataFrame'>\n",
      "Int64Index: 2082 entries, 0 to 2355\n",
      "Data columns (total 12 columns):\n",
      " #   Column              Non-Null Count  Dtype              \n",
      "---  ------              --------------  -----              \n",
      " 0   tweet_id            2082 non-null   int64              \n",
      " 1   timestamp           2082 non-null   datetime64[ns, UTC]\n",
      " 2   source              2082 non-null   object             \n",
      " 3   text                2082 non-null   object             \n",
      " 4   expanded_urls       2082 non-null   object             \n",
      " 5   rating_numerator    2082 non-null   int64              \n",
      " 6   rating_denominator  2082 non-null   int64              \n",
      " 7   name                2082 non-null   object             \n",
      " 8   doggo               2082 non-null   object             \n",
      " 9   floofer             2082 non-null   object             \n",
      " 10  pupper              2082 non-null   object             \n",
      " 11  puppo               2082 non-null   object             \n",
      "dtypes: datetime64[ns, UTC](1), int64(3), object(8)\n",
      "memory usage: 211.5+ KB\n"
     ]
    }
   ],
   "source": [
    "tweet_clean.info()"
   ]
  },
  {
   "cell_type": "markdown",
   "metadata": {},
   "source": [
    "### Issue #8: Several rows in the name column have invalid names"
   ]
  },
  {
   "cell_type": "markdown",
   "metadata": {},
   "source": [
    "#### Define:\n",
    "Replace all the invalid names with None"
   ]
  },
  {
   "cell_type": "markdown",
   "metadata": {},
   "source": [
    "#### Code"
   ]
  },
  {
   "cell_type": "code",
   "execution_count": 105,
   "metadata": {},
   "outputs": [
    {
     "data": {
      "text/plain": [
       "25"
      ]
     },
     "execution_count": 105,
     "metadata": {},
     "output_type": "execute_result"
    }
   ],
   "source": [
    "pat = '^[a-z]'\n",
    "small_let_mask = twitter_archive.name.str.contains(pat)\n",
    "len(twitter_archive[small_let_mask].name.value_counts())"
   ]
  },
  {
   "cell_type": "code",
   "execution_count": 106,
   "metadata": {},
   "outputs": [
    {
     "data": {
      "text/plain": [
       "['a',\n",
       " 'the',\n",
       " 'an',\n",
       " 'very',\n",
       " 'one',\n",
       " 'just',\n",
       " 'quite',\n",
       " 'not',\n",
       " 'mad',\n",
       " 'actually',\n",
       " 'getting',\n",
       " 'my',\n",
       " 'old',\n",
       " 'infuriating',\n",
       " 'his',\n",
       " 'incredibly',\n",
       " 'this',\n",
       " 'unacceptable',\n",
       " 'officially',\n",
       " 'space',\n",
       " 'such',\n",
       " 'light',\n",
       " 'all',\n",
       " 'life',\n",
       " 'by']"
      ]
     },
     "execution_count": 106,
     "metadata": {},
     "output_type": "execute_result"
    }
   ],
   "source": [
    "((twitter_archive[small_let_mask].name.value_counts())).keys().tolist()"
   ]
  },
  {
   "cell_type": "code",
   "execution_count": 107,
   "metadata": {},
   "outputs": [],
   "source": [
    "invalid_names = ((twitter_archive[small_let_mask].name.value_counts())).keys().tolist()"
   ]
  },
  {
   "cell_type": "code",
   "execution_count": 108,
   "metadata": {},
   "outputs": [],
   "source": [
    "invalid_names.append(\"None\")"
   ]
  },
  {
   "cell_type": "code",
   "execution_count": 109,
   "metadata": {},
   "outputs": [],
   "source": [
    "for name in invalid_names:\n",
    "    tweet_clean.loc[tweet_clean.name == name, \"name\"] = None"
   ]
  },
  {
   "cell_type": "markdown",
   "metadata": {},
   "source": [
    "#### Test"
   ]
  },
  {
   "cell_type": "code",
   "execution_count": 110,
   "metadata": {},
   "outputs": [],
   "source": [
    "pd.reset_option('display.max_rows')\n",
    "pd.reset_option('display.max_columns')"
   ]
  },
  {
   "cell_type": "code",
   "execution_count": 111,
   "metadata": {},
   "outputs": [
    {
     "data": {
      "text/plain": [
       "Lucy        11\n",
       "Charlie     11\n",
       "Cooper      10\n",
       "Oliver      10\n",
       "Tucker       9\n",
       "Penny        9\n",
       "Lola         8\n",
       "Sadie        8\n",
       "Winston      8\n",
       "Toby         7\n",
       "Daisy        7\n",
       "Bella        6\n",
       "Koda         6\n",
       "Stanley      6\n",
       "Bo           6\n",
       "Bailey       6\n",
       "Oscar        6\n",
       "Jax          6\n",
       "Leo          5\n",
       "Milo         5\n",
       "Chester      5\n",
       "Louis        5\n",
       "Bentley      5\n",
       "Buddy        5\n",
       "Dave         5\n",
       "Scout        5\n",
       "Rusty        5\n",
       "Sophie       4\n",
       "Cassie       4\n",
       "Larry        4\n",
       "Jeffrey      4\n",
       "Winnie       4\n",
       "Sammy        4\n",
       "George       4\n",
       "Finn         4\n",
       "Bear         4\n",
       "Clark        4\n",
       "Dexter       4\n",
       "Oakley       4\n",
       "Alfie        4\n",
       "Derek        4\n",
       "Clarence     4\n",
       "Gary         4\n",
       "Archie       4\n",
       "Reggie       4\n",
       "Jerry        4\n",
       "Maggie       4\n",
       "Phil         4\n",
       "Brody        4\n",
       "Jack         4\n",
       "Name: name, dtype: int64"
      ]
     },
     "execution_count": 111,
     "metadata": {},
     "output_type": "execute_result"
    }
   ],
   "source": [
    "tweet_clean.name.value_counts().head(50)"
   ]
  },
  {
   "cell_type": "markdown",
   "metadata": {},
   "source": [
    "### Issue #9: There are 4 columns for dog stages: doggo, floofer, pupper, puppo, it should be combined to one"
   ]
  },
  {
   "cell_type": "markdown",
   "metadata": {},
   "source": [
    "#### Define\n",
    "I will combine the doggo, floofer, pupper, puppo into one and drop the four original dog stage columns."
   ]
  },
  {
   "cell_type": "markdown",
   "metadata": {},
   "source": [
    "#### Code"
   ]
  },
  {
   "cell_type": "code",
   "execution_count": 112,
   "metadata": {},
   "outputs": [
    {
     "data": {
      "text/html": [
       "<div>\n",
       "<style scoped>\n",
       "    .dataframe tbody tr th:only-of-type {\n",
       "        vertical-align: middle;\n",
       "    }\n",
       "\n",
       "    .dataframe tbody tr th {\n",
       "        vertical-align: top;\n",
       "    }\n",
       "\n",
       "    .dataframe thead th {\n",
       "        text-align: right;\n",
       "    }\n",
       "</style>\n",
       "<table border=\"1\" class=\"dataframe\">\n",
       "  <thead>\n",
       "    <tr style=\"text-align: right;\">\n",
       "      <th></th>\n",
       "      <th>doggo</th>\n",
       "      <th>floofer</th>\n",
       "      <th>pupper</th>\n",
       "      <th>puppo</th>\n",
       "    </tr>\n",
       "  </thead>\n",
       "  <tbody>\n",
       "    <tr>\n",
       "      <th>count</th>\n",
       "      <td>2082</td>\n",
       "      <td>2082</td>\n",
       "      <td>2082</td>\n",
       "      <td>2082</td>\n",
       "    </tr>\n",
       "    <tr>\n",
       "      <th>unique</th>\n",
       "      <td>2</td>\n",
       "      <td>2</td>\n",
       "      <td>2</td>\n",
       "      <td>2</td>\n",
       "    </tr>\n",
       "    <tr>\n",
       "      <th>top</th>\n",
       "      <td>None</td>\n",
       "      <td>None</td>\n",
       "      <td>None</td>\n",
       "      <td>None</td>\n",
       "    </tr>\n",
       "    <tr>\n",
       "      <th>freq</th>\n",
       "      <td>1999</td>\n",
       "      <td>2072</td>\n",
       "      <td>1853</td>\n",
       "      <td>2058</td>\n",
       "    </tr>\n",
       "  </tbody>\n",
       "</table>\n",
       "</div>"
      ],
      "text/plain": [
       "       doggo floofer pupper puppo\n",
       "count   2082    2082   2082  2082\n",
       "unique     2       2      2     2\n",
       "top     None    None   None  None\n",
       "freq    1999    2072   1853  2058"
      ]
     },
     "execution_count": 112,
     "metadata": {},
     "output_type": "execute_result"
    }
   ],
   "source": [
    "tweet_clean[['doggo', 'floofer', 'pupper', 'puppo']].describe()"
   ]
  },
  {
   "cell_type": "code",
   "execution_count": 113,
   "metadata": {},
   "outputs": [],
   "source": [
    "# Create a dummy variable\n",
    "\n",
    "dummy = lambda x: 0 if x == 'None' else 1\n",
    "\n",
    "tweet_clean.doggo = tweet_clean.doggo.apply(dummy)\n",
    "tweet_clean.floofer = tweet_clean.floofer.apply(dummy)\n",
    "tweet_clean.pupper = tweet_clean.pupper.apply(dummy)\n",
    "tweet_clean.puppo = tweet_clean.puppo.apply(dummy)"
   ]
  },
  {
   "cell_type": "markdown",
   "metadata": {},
   "source": [
    "> - This creates a function to return a dummy value of 0 or 1 depending on the input\n",
    "> - Applies the function to the 'doggo' string in the tweet_clean variable\n",
    "> - Returns the new 'doggo' string with the dummy value applied"
   ]
  },
  {
   "cell_type": "code",
   "execution_count": 114,
   "metadata": {},
   "outputs": [
    {
     "data": {
      "text/plain": [
       "0    0\n",
       "1    0\n",
       "2    0\n",
       "3    0\n",
       "4    0\n",
       "Name: doggo, dtype: int64"
      ]
     },
     "execution_count": 114,
     "metadata": {},
     "output_type": "execute_result"
    }
   ],
   "source": [
    "tweet_clean.doggo.head()"
   ]
  },
  {
   "cell_type": "code",
   "execution_count": 115,
   "metadata": {},
   "outputs": [],
   "source": [
    "tweet_clean['none'] = tweet_clean['doggo'] + tweet_clean['floofer'] + tweet_clean['pupper'] + tweet_clean['puppo']"
   ]
  },
  {
   "cell_type": "code",
   "execution_count": 116,
   "metadata": {},
   "outputs": [
    {
     "data": {
      "text/plain": [
       "0    1747\n",
       "1     324\n",
       "2      11\n",
       "Name: none, dtype: int64"
      ]
     },
     "execution_count": 116,
     "metadata": {},
     "output_type": "execute_result"
    }
   ],
   "source": [
    "tweet_clean.none.value_counts()"
   ]
  },
  {
   "cell_type": "code",
   "execution_count": 117,
   "metadata": {},
   "outputs": [
    {
     "data": {
      "text/html": [
       "<div>\n",
       "<style scoped>\n",
       "    .dataframe tbody tr th:only-of-type {\n",
       "        vertical-align: middle;\n",
       "    }\n",
       "\n",
       "    .dataframe tbody tr th {\n",
       "        vertical-align: top;\n",
       "    }\n",
       "\n",
       "    .dataframe thead th {\n",
       "        text-align: right;\n",
       "    }\n",
       "</style>\n",
       "<table border=\"1\" class=\"dataframe\">\n",
       "  <thead>\n",
       "    <tr style=\"text-align: right;\">\n",
       "      <th></th>\n",
       "      <th>tweet_id</th>\n",
       "      <th>timestamp</th>\n",
       "      <th>source</th>\n",
       "      <th>text</th>\n",
       "      <th>expanded_urls</th>\n",
       "      <th>rating_numerator</th>\n",
       "      <th>rating_denominator</th>\n",
       "      <th>name</th>\n",
       "      <th>doggo</th>\n",
       "      <th>floofer</th>\n",
       "      <th>pupper</th>\n",
       "      <th>puppo</th>\n",
       "      <th>none</th>\n",
       "    </tr>\n",
       "  </thead>\n",
       "  <tbody>\n",
       "    <tr>\n",
       "      <th>0</th>\n",
       "      <td>892420643555336193</td>\n",
       "      <td>2017-08-01 16:23:56+00:00</td>\n",
       "      <td>Twitter for iPhone</td>\n",
       "      <td>This is Phineas. He's a mystical boy. Only eve...</td>\n",
       "      <td>https://twitter.com/dog_rates/status/892420643...</td>\n",
       "      <td>13</td>\n",
       "      <td>10</td>\n",
       "      <td>Phineas</td>\n",
       "      <td>0</td>\n",
       "      <td>0</td>\n",
       "      <td>0</td>\n",
       "      <td>0</td>\n",
       "      <td>0</td>\n",
       "    </tr>\n",
       "  </tbody>\n",
       "</table>\n",
       "</div>"
      ],
      "text/plain": [
       "             tweet_id                 timestamp              source  \\\n",
       "0  892420643555336193 2017-08-01 16:23:56+00:00  Twitter for iPhone   \n",
       "\n",
       "                                                text  \\\n",
       "0  This is Phineas. He's a mystical boy. Only eve...   \n",
       "\n",
       "                                       expanded_urls  rating_numerator  \\\n",
       "0  https://twitter.com/dog_rates/status/892420643...                13   \n",
       "\n",
       "   rating_denominator     name  doggo  floofer  pupper  puppo  none  \n",
       "0                  10  Phineas      0        0       0      0     0  "
      ]
     },
     "execution_count": 117,
     "metadata": {},
     "output_type": "execute_result"
    }
   ],
   "source": [
    "tweet_clean.head(1)"
   ]
  },
  {
   "cell_type": "code",
   "execution_count": 118,
   "metadata": {},
   "outputs": [
    {
     "data": {
      "text/plain": [
       "959     0\n",
       "1653    1\n",
       "1073    0\n",
       "921     0\n",
       "1449    1\n",
       "1900    0\n",
       "2164    0\n",
       "1100    1\n",
       "1148    0\n",
       "1115    0\n",
       "1346    0\n",
       "2286    0\n",
       "1503    0\n",
       "539     0\n",
       "400     0\n",
       "1932    0\n",
       "202     0\n",
       "279     0\n",
       "1602    0\n",
       "2154    0\n",
       "Name: none, dtype: int64"
      ]
     },
     "execution_count": 118,
     "metadata": {},
     "output_type": "execute_result"
    }
   ],
   "source": [
    "tweet_clean.none.sample(20)"
   ]
  },
  {
   "cell_type": "markdown",
   "metadata": {},
   "source": [
    "> This indicates there are 11 posts with two dog stages set. \"0\" Indicates the value of None and 1 indicates one dog stage set"
   ]
  },
  {
   "cell_type": "code",
   "execution_count": 119,
   "metadata": {},
   "outputs": [
    {
     "name": "stdout",
     "output_type": "stream",
     "text": [
      "doggo:  83\n",
      "pupper:  229\n",
      "puppo:  24\n",
      "floofer:  10\n"
     ]
    }
   ],
   "source": [
    "print(\"doggo: \",tweet_clean.doggo.sum())\n",
    "print(\"pupper: \",tweet_clean.pupper.sum())\n",
    "print(\"puppo: \",tweet_clean.puppo.sum())\n",
    "print(\"floofer: \",tweet_clean.floofer.sum())"
   ]
  },
  {
   "cell_type": "markdown",
   "metadata": {},
   "source": [
    "Reference Links:\n",
    "    \n",
    "> - [Creating conditional columns on Pandas with Numpy select() and where() methods](https://towardsdatascience.com/creating-conditional-columns-on-pandas-with-numpy-select-and-where-methods-8ee6e2dbd5d5)\n",
    "> - [An easy way to create conditional columns on Pandas with Numpy](https://medium.com/user-pipeline/an-easy-way-to-create-conditional-columns-on-pandas-with-numpy-d1d31bd89fa7)\n",
    "> - [Stackoverflow](https://stackoverflow.com/questions/30631841/pandas-how-do-i-assign-values-based-on-multiple-conditions-for-existing-columns)"
   ]
  },
  {
   "cell_type": "code",
   "execution_count": 120,
   "metadata": {},
   "outputs": [],
   "source": [
    "stage_none = lambda x: 1 if x == 0 else 0\n",
    "# This code defines a function called stage_none that takes one input, x. \n",
    "# If x is 0, the function returns 1, but if x is anything else, it returns 0.\n",
    "\n",
    "# Starting from the smallest to the largest floofer, puppo, doggo, pupper\n",
    "dog_stage = ['floofer', 'puppo', 'doggo', 'pupper', 'none']\n",
    "\n",
    "conditions = [\n",
    "    (tweet_clean[dog_stage[0]] == 1),\n",
    "    (tweet_clean[dog_stage[1]] == 1),\n",
    "    (tweet_clean[dog_stage[2]] == 1),\n",
    "    (tweet_clean[dog_stage[3]] == 1),\n",
    "    (tweet_clean[dog_stage[4]] == 1)]\n",
    "\n",
    "# numpy.select(condlist, choicelist, default=0)\n",
    "tweet_clean['dog_stage'] = np.select(conditions, dog_stage, default = dog_stage[4])\n",
    "\n",
    "# A list of stages for a dog, which are \"floofer,\" \"puppo,\" \"doggo,\" \"pupper,\" and \"none.\"\n",
    "# A list of conditions, which are checks to see if a tweet's content matches a certain stage. \n",
    "# Selects only tweets that match a certain stage from the tweet data, and assigns that stage to the variable."
   ]
  },
  {
   "cell_type": "code",
   "execution_count": 121,
   "metadata": {},
   "outputs": [
    {
     "data": {
      "text/plain": [
       "0    none\n",
       "1    none\n",
       "2    none\n",
       "3    none\n",
       "4    none\n",
       "Name: dog_stage, dtype: object"
      ]
     },
     "execution_count": 121,
     "metadata": {},
     "output_type": "execute_result"
    }
   ],
   "source": [
    "tweet_clean['dog_stage'].head()"
   ]
  },
  {
   "cell_type": "markdown",
   "metadata": {},
   "source": [
    "> Since we have combined the four columns into one, we can now drop the columns"
   ]
  },
  {
   "cell_type": "code",
   "execution_count": 122,
   "metadata": {},
   "outputs": [],
   "source": [
    "tweet_clean.drop(dog_stage, axis = 1, inplace = True)"
   ]
  },
  {
   "cell_type": "code",
   "execution_count": 123,
   "metadata": {},
   "outputs": [
    {
     "name": "stdout",
     "output_type": "stream",
     "text": [
      "<class 'pandas.core.frame.DataFrame'>\n",
      "Int64Index: 2082 entries, 0 to 2355\n",
      "Data columns (total 9 columns):\n",
      " #   Column              Non-Null Count  Dtype              \n",
      "---  ------              --------------  -----              \n",
      " 0   tweet_id            2082 non-null   int64              \n",
      " 1   timestamp           2082 non-null   datetime64[ns, UTC]\n",
      " 2   source              2082 non-null   object             \n",
      " 3   text                2082 non-null   object             \n",
      " 4   expanded_urls       2082 non-null   object             \n",
      " 5   rating_numerator    2082 non-null   int64              \n",
      " 6   rating_denominator  2082 non-null   int64              \n",
      " 7   name                1389 non-null   object             \n",
      " 8   dog_stage           2082 non-null   object             \n",
      "dtypes: datetime64[ns, UTC](1), int64(3), object(5)\n",
      "memory usage: 162.7+ KB\n"
     ]
    }
   ],
   "source": [
    "tweet_clean.info()"
   ]
  },
  {
   "cell_type": "code",
   "execution_count": 124,
   "metadata": {},
   "outputs": [],
   "source": [
    "#Changing the data type of the dog stage to category\n",
    "\n",
    "tweet_clean.dog_stage = tweet_clean.dog_stage.astype('category')"
   ]
  },
  {
   "cell_type": "code",
   "execution_count": 125,
   "metadata": {},
   "outputs": [
    {
     "name": "stdout",
     "output_type": "stream",
     "text": [
      "<class 'pandas.core.frame.DataFrame'>\n",
      "Int64Index: 2082 entries, 0 to 2355\n",
      "Data columns (total 9 columns):\n",
      " #   Column              Non-Null Count  Dtype              \n",
      "---  ------              --------------  -----              \n",
      " 0   tweet_id            2082 non-null   int64              \n",
      " 1   timestamp           2082 non-null   datetime64[ns, UTC]\n",
      " 2   source              2082 non-null   object             \n",
      " 3   text                2082 non-null   object             \n",
      " 4   expanded_urls       2082 non-null   object             \n",
      " 5   rating_numerator    2082 non-null   int64              \n",
      " 6   rating_denominator  2082 non-null   int64              \n",
      " 7   name                1389 non-null   object             \n",
      " 8   dog_stage           2082 non-null   category           \n",
      "dtypes: category(1), datetime64[ns, UTC](1), int64(3), object(4)\n",
      "memory usage: 148.6+ KB\n"
     ]
    }
   ],
   "source": [
    "tweet_clean.info()"
   ]
  },
  {
   "cell_type": "code",
   "execution_count": 126,
   "metadata": {},
   "outputs": [
    {
     "data": {
      "text/plain": [
       "none       1747\n",
       "pupper      220\n",
       "doggo        81\n",
       "puppo        24\n",
       "floofer      10\n",
       "Name: dog_stage, dtype: int64"
      ]
     },
     "execution_count": 126,
     "metadata": {},
     "output_type": "execute_result"
    }
   ],
   "source": [
    "tweet_clean.dog_stage.value_counts()"
   ]
  },
  {
   "cell_type": "code",
   "execution_count": 127,
   "metadata": {},
   "outputs": [],
   "source": [
    "tweet_clean.name = tweet_clean.name.replace(np.nan,\"no name\")"
   ]
  },
  {
   "cell_type": "code",
   "execution_count": 128,
   "metadata": {},
   "outputs": [
    {
     "name": "stdout",
     "output_type": "stream",
     "text": [
      "<class 'pandas.core.frame.DataFrame'>\n",
      "Int64Index: 2082 entries, 0 to 2355\n",
      "Data columns (total 9 columns):\n",
      " #   Column              Non-Null Count  Dtype              \n",
      "---  ------              --------------  -----              \n",
      " 0   tweet_id            2082 non-null   int64              \n",
      " 1   timestamp           2082 non-null   datetime64[ns, UTC]\n",
      " 2   source              2082 non-null   object             \n",
      " 3   text                2082 non-null   object             \n",
      " 4   expanded_urls       2082 non-null   object             \n",
      " 5   rating_numerator    2082 non-null   int64              \n",
      " 6   rating_denominator  2082 non-null   int64              \n",
      " 7   name                2082 non-null   object             \n",
      " 8   dog_stage           2082 non-null   category           \n",
      "dtypes: category(1), datetime64[ns, UTC](1), int64(3), object(4)\n",
      "memory usage: 148.6+ KB\n"
     ]
    }
   ],
   "source": [
    "tweet_clean.info()"
   ]
  },
  {
   "cell_type": "markdown",
   "metadata": {},
   "source": [
    "#### Test"
   ]
  },
  {
   "cell_type": "code",
   "execution_count": 129,
   "metadata": {},
   "outputs": [
    {
     "data": {
      "text/html": [
       "<div>\n",
       "<style scoped>\n",
       "    .dataframe tbody tr th:only-of-type {\n",
       "        vertical-align: middle;\n",
       "    }\n",
       "\n",
       "    .dataframe tbody tr th {\n",
       "        vertical-align: top;\n",
       "    }\n",
       "\n",
       "    .dataframe thead th {\n",
       "        text-align: right;\n",
       "    }\n",
       "</style>\n",
       "<table border=\"1\" class=\"dataframe\">\n",
       "  <thead>\n",
       "    <tr style=\"text-align: right;\">\n",
       "      <th></th>\n",
       "      <th>tweet_id</th>\n",
       "      <th>timestamp</th>\n",
       "      <th>source</th>\n",
       "      <th>text</th>\n",
       "      <th>expanded_urls</th>\n",
       "      <th>rating_numerator</th>\n",
       "      <th>rating_denominator</th>\n",
       "      <th>name</th>\n",
       "      <th>dog_stage</th>\n",
       "    </tr>\n",
       "  </thead>\n",
       "  <tbody>\n",
       "    <tr>\n",
       "      <th>1585</th>\n",
       "      <td>686947101016735744</td>\n",
       "      <td>2016-01-12 16:25:26+00:00</td>\n",
       "      <td>Twitter for iPhone</td>\n",
       "      <td>This is Jackson. He was specifically told not ...</td>\n",
       "      <td>https://twitter.com/dog_rates/status/686947101...</td>\n",
       "      <td>11</td>\n",
       "      <td>10</td>\n",
       "      <td>Jackson</td>\n",
       "      <td>none</td>\n",
       "    </tr>\n",
       "    <tr>\n",
       "      <th>484</th>\n",
       "      <td>814638523311648768</td>\n",
       "      <td>2016-12-30 01:05:33+00:00</td>\n",
       "      <td>Twitter for iPhone</td>\n",
       "      <td>This is Olivia. She's a passionate advocate of...</td>\n",
       "      <td>https://twitter.com/dog_rates/status/814638523...</td>\n",
       "      <td>12</td>\n",
       "      <td>10</td>\n",
       "      <td>Olivia</td>\n",
       "      <td>none</td>\n",
       "    </tr>\n",
       "    <tr>\n",
       "      <th>1429</th>\n",
       "      <td>697596423848730625</td>\n",
       "      <td>2016-02-11 01:42:02+00:00</td>\n",
       "      <td>Twitter for iPhone</td>\n",
       "      <td>Here's a pupper with a piece of pizza. Two of ...</td>\n",
       "      <td>https://twitter.com/dog_rates/status/697596423...</td>\n",
       "      <td>11</td>\n",
       "      <td>10</td>\n",
       "      <td>no name</td>\n",
       "      <td>pupper</td>\n",
       "    </tr>\n",
       "  </tbody>\n",
       "</table>\n",
       "</div>"
      ],
      "text/plain": [
       "                tweet_id                 timestamp              source  \\\n",
       "1585  686947101016735744 2016-01-12 16:25:26+00:00  Twitter for iPhone   \n",
       "484   814638523311648768 2016-12-30 01:05:33+00:00  Twitter for iPhone   \n",
       "1429  697596423848730625 2016-02-11 01:42:02+00:00  Twitter for iPhone   \n",
       "\n",
       "                                                   text  \\\n",
       "1585  This is Jackson. He was specifically told not ...   \n",
       "484   This is Olivia. She's a passionate advocate of...   \n",
       "1429  Here's a pupper with a piece of pizza. Two of ...   \n",
       "\n",
       "                                          expanded_urls  rating_numerator  \\\n",
       "1585  https://twitter.com/dog_rates/status/686947101...                11   \n",
       "484   https://twitter.com/dog_rates/status/814638523...                12   \n",
       "1429  https://twitter.com/dog_rates/status/697596423...                11   \n",
       "\n",
       "      rating_denominator     name dog_stage  \n",
       "1585                  10  Jackson      none  \n",
       "484                   10   Olivia      none  \n",
       "1429                  10  no name    pupper  "
      ]
     },
     "execution_count": 129,
     "metadata": {},
     "output_type": "execute_result"
    }
   ],
   "source": [
    "tweet_clean.sample(3)"
   ]
  },
  {
   "cell_type": "markdown",
   "metadata": {},
   "source": [
    "### Issue #10: Merging twitter_archive and api_data datasets into one using an inner join based on the tweet id."
   ]
  },
  {
   "cell_type": "markdown",
   "metadata": {},
   "source": [
    "#### Define \n",
    "\n",
    "> Combining all the dataframes into one"
   ]
  },
  {
   "cell_type": "code",
   "execution_count": 130,
   "metadata": {},
   "outputs": [],
   "source": [
    "tweet_api = pd.merge(tweet_clean, api_clean, \n",
    "                         on = 'tweet_id', how = 'left')"
   ]
  },
  {
   "cell_type": "code",
   "execution_count": 131,
   "metadata": {},
   "outputs": [
    {
     "name": "stdout",
     "output_type": "stream",
     "text": [
      "<class 'pandas.core.frame.DataFrame'>\n",
      "Int64Index: 2082 entries, 0 to 2081\n",
      "Data columns (total 14 columns):\n",
      " #   Column              Non-Null Count  Dtype              \n",
      "---  ------              --------------  -----              \n",
      " 0   tweet_id            2082 non-null   int64              \n",
      " 1   timestamp           2082 non-null   datetime64[ns, UTC]\n",
      " 2   source              2082 non-null   object             \n",
      " 3   text                2082 non-null   object             \n",
      " 4   expanded_urls       2082 non-null   object             \n",
      " 5   rating_numerator    2082 non-null   int64              \n",
      " 6   rating_denominator  2082 non-null   int64              \n",
      " 7   name                2082 non-null   object             \n",
      " 8   dog_stage           2082 non-null   category           \n",
      " 9   favorites           509 non-null    float64            \n",
      " 10  retweets            509 non-null    float64            \n",
      " 11  user_followers      509 non-null    float64            \n",
      " 12  user_favourites     509 non-null    float64            \n",
      " 13  date_time           509 non-null    object             \n",
      "dtypes: category(1), datetime64[ns, UTC](1), float64(4), int64(3), object(5)\n",
      "memory usage: 229.9+ KB\n"
     ]
    }
   ],
   "source": [
    "tweet_api.info()"
   ]
  },
  {
   "cell_type": "code",
   "execution_count": 132,
   "metadata": {},
   "outputs": [
    {
     "data": {
      "text/html": [
       "<div>\n",
       "<style scoped>\n",
       "    .dataframe tbody tr th:only-of-type {\n",
       "        vertical-align: middle;\n",
       "    }\n",
       "\n",
       "    .dataframe tbody tr th {\n",
       "        vertical-align: top;\n",
       "    }\n",
       "\n",
       "    .dataframe thead th {\n",
       "        text-align: right;\n",
       "    }\n",
       "</style>\n",
       "<table border=\"1\" class=\"dataframe\">\n",
       "  <thead>\n",
       "    <tr style=\"text-align: right;\">\n",
       "      <th></th>\n",
       "      <th>tweet_id</th>\n",
       "      <th>timestamp</th>\n",
       "      <th>source</th>\n",
       "      <th>text</th>\n",
       "      <th>expanded_urls</th>\n",
       "      <th>rating_numerator</th>\n",
       "      <th>rating_denominator</th>\n",
       "      <th>name</th>\n",
       "      <th>dog_stage</th>\n",
       "      <th>favorites</th>\n",
       "      <th>retweets</th>\n",
       "      <th>user_followers</th>\n",
       "      <th>user_favourites</th>\n",
       "      <th>date_time</th>\n",
       "    </tr>\n",
       "  </thead>\n",
       "  <tbody>\n",
       "    <tr>\n",
       "      <th>0</th>\n",
       "      <td>892420643555336193</td>\n",
       "      <td>2017-08-01 16:23:56+00:00</td>\n",
       "      <td>Twitter for iPhone</td>\n",
       "      <td>This is Phineas. He's a mystical boy. Only eve...</td>\n",
       "      <td>https://twitter.com/dog_rates/status/892420643...</td>\n",
       "      <td>13</td>\n",
       "      <td>10</td>\n",
       "      <td>Phineas</td>\n",
       "      <td>none</td>\n",
       "      <td>33792.0</td>\n",
       "      <td>6998.0</td>\n",
       "      <td>9300854.0</td>\n",
       "      <td>146892.0</td>\n",
       "      <td>2017-08-01 16:23:56+00:00</td>\n",
       "    </tr>\n",
       "  </tbody>\n",
       "</table>\n",
       "</div>"
      ],
      "text/plain": [
       "             tweet_id                 timestamp              source  \\\n",
       "0  892420643555336193 2017-08-01 16:23:56+00:00  Twitter for iPhone   \n",
       "\n",
       "                                                text  \\\n",
       "0  This is Phineas. He's a mystical boy. Only eve...   \n",
       "\n",
       "                                       expanded_urls  rating_numerator  \\\n",
       "0  https://twitter.com/dog_rates/status/892420643...                13   \n",
       "\n",
       "   rating_denominator     name dog_stage  favorites  retweets  user_followers  \\\n",
       "0                  10  Phineas      none    33792.0    6998.0       9300854.0   \n",
       "\n",
       "   user_favourites                  date_time  \n",
       "0         146892.0  2017-08-01 16:23:56+00:00  "
      ]
     },
     "execution_count": 132,
     "metadata": {},
     "output_type": "execute_result"
    }
   ],
   "source": [
    "tweet_api.head(1)"
   ]
  },
  {
   "cell_type": "markdown",
   "metadata": {},
   "source": [
    "### Issue #11: Convert the incorrect data types to the correct data types."
   ]
  },
  {
   "cell_type": "markdown",
   "metadata": {},
   "source": [
    "### Define\n",
    "\n",
    "> Drop tweets with missing json_data.\n",
    "> Convert retweets user_followers, user_favourites to integers \n",
    "> Convert user_favourites to datetime"
   ]
  },
  {
   "cell_type": "markdown",
   "metadata": {},
   "source": [
    "#### Code"
   ]
  },
  {
   "cell_type": "code",
   "execution_count": 133,
   "metadata": {},
   "outputs": [
    {
     "data": {
      "text/plain": [
       "509"
      ]
     },
     "execution_count": 133,
     "metadata": {},
     "output_type": "execute_result"
    }
   ],
   "source": [
    "len(tweet_api[tweet_api.favorites.notnull()])"
   ]
  },
  {
   "cell_type": "code",
   "execution_count": 134,
   "metadata": {},
   "outputs": [
    {
     "data": {
      "text/plain": [
       "1573"
      ]
     },
     "execution_count": 134,
     "metadata": {},
     "output_type": "execute_result"
    }
   ],
   "source": [
    "len(tweet_api[tweet_api.favorites.isna()])"
   ]
  },
  {
   "cell_type": "code",
   "execution_count": 135,
   "metadata": {},
   "outputs": [],
   "source": [
    "tweet_api = (tweet_api[tweet_api.favorites.notnull()])"
   ]
  },
  {
   "cell_type": "code",
   "execution_count": 136,
   "metadata": {},
   "outputs": [
    {
     "name": "stdout",
     "output_type": "stream",
     "text": [
      "<class 'pandas.core.frame.DataFrame'>\n",
      "Int64Index: 509 entries, 0 to 523\n",
      "Data columns (total 14 columns):\n",
      " #   Column              Non-Null Count  Dtype              \n",
      "---  ------              --------------  -----              \n",
      " 0   tweet_id            509 non-null    int64              \n",
      " 1   timestamp           509 non-null    datetime64[ns, UTC]\n",
      " 2   source              509 non-null    object             \n",
      " 3   text                509 non-null    object             \n",
      " 4   expanded_urls       509 non-null    object             \n",
      " 5   rating_numerator    509 non-null    int64              \n",
      " 6   rating_denominator  509 non-null    int64              \n",
      " 7   name                509 non-null    object             \n",
      " 8   dog_stage           509 non-null    category           \n",
      " 9   favorites           509 non-null    float64            \n",
      " 10  retweets            509 non-null    float64            \n",
      " 11  user_followers      509 non-null    float64            \n",
      " 12  user_favourites     509 non-null    float64            \n",
      " 13  date_time           509 non-null    object             \n",
      "dtypes: category(1), datetime64[ns, UTC](1), float64(4), int64(3), object(5)\n",
      "memory usage: 56.4+ KB\n"
     ]
    }
   ],
   "source": [
    "tweet_api.info()"
   ]
  },
  {
   "cell_type": "code",
   "execution_count": 137,
   "metadata": {},
   "outputs": [],
   "source": [
    "tweet_api.favorites = tweet_api.favorites.astype(\"int64\")"
   ]
  },
  {
   "cell_type": "code",
   "execution_count": 138,
   "metadata": {},
   "outputs": [],
   "source": [
    "tweet_api.retweets  = tweet_api.retweets .astype(\"int64\")\n",
    "tweet_api.user_followers  = tweet_api.user_followers.astype(\"int64\")\n",
    "tweet_api.user_favourites = tweet_api.user_favourites.astype(\"int64\")\n",
    "tweet_api.date_time = pd.to_datetime(tweet_api.date_time)"
   ]
  },
  {
   "cell_type": "markdown",
   "metadata": {},
   "source": [
    "#### Test"
   ]
  },
  {
   "cell_type": "code",
   "execution_count": 139,
   "metadata": {},
   "outputs": [
    {
     "name": "stdout",
     "output_type": "stream",
     "text": [
      "<class 'pandas.core.frame.DataFrame'>\n",
      "Int64Index: 509 entries, 0 to 523\n",
      "Data columns (total 14 columns):\n",
      " #   Column              Non-Null Count  Dtype              \n",
      "---  ------              --------------  -----              \n",
      " 0   tweet_id            509 non-null    int64              \n",
      " 1   timestamp           509 non-null    datetime64[ns, UTC]\n",
      " 2   source              509 non-null    object             \n",
      " 3   text                509 non-null    object             \n",
      " 4   expanded_urls       509 non-null    object             \n",
      " 5   rating_numerator    509 non-null    int64              \n",
      " 6   rating_denominator  509 non-null    int64              \n",
      " 7   name                509 non-null    object             \n",
      " 8   dog_stage           509 non-null    category           \n",
      " 9   favorites           509 non-null    int64              \n",
      " 10  retweets            509 non-null    int64              \n",
      " 11  user_followers      509 non-null    int64              \n",
      " 12  user_favourites     509 non-null    int64              \n",
      " 13  date_time           509 non-null    datetime64[ns, UTC]\n",
      "dtypes: category(1), datetime64[ns, UTC](2), int64(7), object(4)\n",
      "memory usage: 56.4+ KB\n"
     ]
    }
   ],
   "source": [
    "tweet_api.info()"
   ]
  },
  {
   "cell_type": "markdown",
   "metadata": {},
   "source": [
    "### Issue #12: Modify the image predictions and confidence columns"
   ]
  },
  {
   "cell_type": "markdown",
   "metadata": {},
   "source": [
    "#### Define\n",
    "\n",
    "> Add two new columns to image predictions for breed and confidence: the breed with the highest confidence level goes in the breed column, and the matching confidence level goes in the new confidence column."
   ]
  },
  {
   "cell_type": "markdown",
   "metadata": {},
   "source": [
    "#### Code"
   ]
  },
  {
   "cell_type": "code",
   "execution_count": 140,
   "metadata": {},
   "outputs": [
    {
     "data": {
      "text/html": [
       "<div>\n",
       "<style scoped>\n",
       "    .dataframe tbody tr th:only-of-type {\n",
       "        vertical-align: middle;\n",
       "    }\n",
       "\n",
       "    .dataframe tbody tr th {\n",
       "        vertical-align: top;\n",
       "    }\n",
       "\n",
       "    .dataframe thead th {\n",
       "        text-align: right;\n",
       "    }\n",
       "</style>\n",
       "<table border=\"1\" class=\"dataframe\">\n",
       "  <thead>\n",
       "    <tr style=\"text-align: right;\">\n",
       "      <th></th>\n",
       "      <th>p1_conf</th>\n",
       "      <th>p2_conf</th>\n",
       "      <th>p3_conf</th>\n",
       "    </tr>\n",
       "  </thead>\n",
       "  <tbody>\n",
       "    <tr>\n",
       "      <th>1230</th>\n",
       "      <td>0.379055</td>\n",
       "      <td>0.062754</td>\n",
       "      <td>0.052423</td>\n",
       "    </tr>\n",
       "    <tr>\n",
       "      <th>1404</th>\n",
       "      <td>0.407117</td>\n",
       "      <td>0.165638</td>\n",
       "      <td>0.045837</td>\n",
       "    </tr>\n",
       "    <tr>\n",
       "      <th>366</th>\n",
       "      <td>0.374466</td>\n",
       "      <td>0.159621</td>\n",
       "      <td>0.111919</td>\n",
       "    </tr>\n",
       "    <tr>\n",
       "      <th>171</th>\n",
       "      <td>0.113789</td>\n",
       "      <td>0.089763</td>\n",
       "      <td>0.082186</td>\n",
       "    </tr>\n",
       "    <tr>\n",
       "      <th>685</th>\n",
       "      <td>0.174738</td>\n",
       "      <td>0.126101</td>\n",
       "      <td>0.122887</td>\n",
       "    </tr>\n",
       "    <tr>\n",
       "      <th>1059</th>\n",
       "      <td>0.944376</td>\n",
       "      <td>0.025435</td>\n",
       "      <td>0.009962</td>\n",
       "    </tr>\n",
       "    <tr>\n",
       "      <th>1573</th>\n",
       "      <td>0.925494</td>\n",
       "      <td>0.059241</td>\n",
       "      <td>0.004495</td>\n",
       "    </tr>\n",
       "    <tr>\n",
       "      <th>322</th>\n",
       "      <td>0.875614</td>\n",
       "      <td>0.032182</td>\n",
       "      <td>0.017232</td>\n",
       "    </tr>\n",
       "    <tr>\n",
       "      <th>1658</th>\n",
       "      <td>0.871342</td>\n",
       "      <td>0.036708</td>\n",
       "      <td>0.025823</td>\n",
       "    </tr>\n",
       "    <tr>\n",
       "      <th>1194</th>\n",
       "      <td>0.863687</td>\n",
       "      <td>0.048590</td>\n",
       "      <td>0.047397</td>\n",
       "    </tr>\n",
       "    <tr>\n",
       "      <th>1341</th>\n",
       "      <td>0.480048</td>\n",
       "      <td>0.264522</td>\n",
       "      <td>0.121840</td>\n",
       "    </tr>\n",
       "    <tr>\n",
       "      <th>562</th>\n",
       "      <td>0.199347</td>\n",
       "      <td>0.153225</td>\n",
       "      <td>0.107798</td>\n",
       "    </tr>\n",
       "    <tr>\n",
       "      <th>1231</th>\n",
       "      <td>0.984267</td>\n",
       "      <td>0.008942</td>\n",
       "      <td>0.001928</td>\n",
       "    </tr>\n",
       "    <tr>\n",
       "      <th>1184</th>\n",
       "      <td>0.691137</td>\n",
       "      <td>0.195558</td>\n",
       "      <td>0.019585</td>\n",
       "    </tr>\n",
       "    <tr>\n",
       "      <th>1901</th>\n",
       "      <td>0.394507</td>\n",
       "      <td>0.077254</td>\n",
       "      <td>0.076559</td>\n",
       "    </tr>\n",
       "  </tbody>\n",
       "</table>\n",
       "</div>"
      ],
      "text/plain": [
       "       p1_conf   p2_conf   p3_conf\n",
       "1230  0.379055  0.062754  0.052423\n",
       "1404  0.407117  0.165638  0.045837\n",
       "366   0.374466  0.159621  0.111919\n",
       "171   0.113789  0.089763  0.082186\n",
       "685   0.174738  0.126101  0.122887\n",
       "1059  0.944376  0.025435  0.009962\n",
       "1573  0.925494  0.059241  0.004495\n",
       "322   0.875614  0.032182  0.017232\n",
       "1658  0.871342  0.036708  0.025823\n",
       "1194  0.863687  0.048590  0.047397\n",
       "1341  0.480048  0.264522  0.121840\n",
       "562   0.199347  0.153225  0.107798\n",
       "1231  0.984267  0.008942  0.001928\n",
       "1184  0.691137  0.195558  0.019585\n",
       "1901  0.394507  0.077254  0.076559"
      ]
     },
     "execution_count": 140,
     "metadata": {},
     "output_type": "execute_result"
    }
   ],
   "source": [
    "image_clean[[\"p1_conf\", \"p2_conf\", \"p3_conf\"]].sample(15)"
   ]
  },
  {
   "cell_type": "markdown",
   "metadata": {},
   "source": [
    "> - We can see from this random sample that p1_config always has the highest confidence level, so I'm going to arrange the conditions in the order of the confidence level, so that the breed with the highest confidence level goes into the breed column and the associated confidence level goes into the new confidence column.  \n",
    "\n",
    "[Accuracy vs. Precision](https://researchhubs.com/post/ai/data-analysis-and-statistical-inference/accuracy-vs-precision.html)"
   ]
  },
  {
   "cell_type": "code",
   "execution_count": 141,
   "metadata": {},
   "outputs": [],
   "source": [
    "# I have done something like this earlier\n",
    "conditions = [(image_clean['p1_dog'] == True),\n",
    "              (image_clean['p2_dog'] == True),\n",
    "              (image_clean['p3_dog'] == True)]\n",
    "\n",
    "breed_choices = [image_clean['p1'], \n",
    "                 image_clean['p2'], \n",
    "                 image_clean['p3']]\n",
    "\n",
    "image_clean['breed'] = np.select(conditions, breed_choices, default = 'none')\n",
    "\n",
    "confidence_choices = [image_clean['p1_conf'], \n",
    "                      image_clean['p2_conf'], \n",
    "                      image_clean['p3_conf']]\n",
    "\n",
    "image_clean['confidence'] = np.select(conditions, confidence_choices, \n",
    "                                            default = 0)\n"
   ]
  },
  {
   "cell_type": "markdown",
   "metadata": {},
   "source": [
    "`image_clean['breed'] = np.select(conditions, breed_choices, default = 'none')`\n",
    "> - There's a list of conditions that must met in order to be included in the 'breed' category.\n",
    "> - Then its selects all breed choices that meet the conditions and assigns them to the 'breed' category.\n",
    "> - If an image does not meet the conditions, it is assigned the 'none' category."
   ]
  },
  {
   "cell_type": "markdown",
   "metadata": {},
   "source": [
    "#### Test"
   ]
  },
  {
   "cell_type": "code",
   "execution_count": 142,
   "metadata": {},
   "outputs": [
    {
     "data": {
      "text/html": [
       "<div>\n",
       "<style scoped>\n",
       "    .dataframe tbody tr th:only-of-type {\n",
       "        vertical-align: middle;\n",
       "    }\n",
       "\n",
       "    .dataframe tbody tr th {\n",
       "        vertical-align: top;\n",
       "    }\n",
       "\n",
       "    .dataframe thead th {\n",
       "        text-align: right;\n",
       "    }\n",
       "</style>\n",
       "<table border=\"1\" class=\"dataframe\">\n",
       "  <thead>\n",
       "    <tr style=\"text-align: right;\">\n",
       "      <th></th>\n",
       "      <th>p1</th>\n",
       "      <th>p1_conf</th>\n",
       "      <th>p1_dog</th>\n",
       "      <th>p2</th>\n",
       "      <th>p2_conf</th>\n",
       "      <th>p2_dog</th>\n",
       "      <th>p3</th>\n",
       "      <th>p3_conf</th>\n",
       "      <th>p3_dog</th>\n",
       "      <th>breed</th>\n",
       "      <th>confidence</th>\n",
       "    </tr>\n",
       "  </thead>\n",
       "  <tbody>\n",
       "    <tr>\n",
       "      <th>268</th>\n",
       "      <td>basset</td>\n",
       "      <td>0.994090</td>\n",
       "      <td>True</td>\n",
       "      <td>Walker_hound</td>\n",
       "      <td>0.003973</td>\n",
       "      <td>True</td>\n",
       "      <td>beagle</td>\n",
       "      <td>1.406190e-03</td>\n",
       "      <td>True</td>\n",
       "      <td>basset</td>\n",
       "      <td>0.994090</td>\n",
       "    </tr>\n",
       "    <tr>\n",
       "      <th>1646</th>\n",
       "      <td>Airedale</td>\n",
       "      <td>0.454239</td>\n",
       "      <td>True</td>\n",
       "      <td>cocker_spaniel</td>\n",
       "      <td>0.219323</td>\n",
       "      <td>True</td>\n",
       "      <td>Irish_terrier</td>\n",
       "      <td>9.319300e-02</td>\n",
       "      <td>True</td>\n",
       "      <td>Airedale</td>\n",
       "      <td>0.454239</td>\n",
       "    </tr>\n",
       "    <tr>\n",
       "      <th>1199</th>\n",
       "      <td>toy_poodle</td>\n",
       "      <td>0.388277</td>\n",
       "      <td>True</td>\n",
       "      <td>Angora</td>\n",
       "      <td>0.180264</td>\n",
       "      <td>False</td>\n",
       "      <td>Persian_cat</td>\n",
       "      <td>4.965610e-02</td>\n",
       "      <td>False</td>\n",
       "      <td>toy_poodle</td>\n",
       "      <td>0.388277</td>\n",
       "    </tr>\n",
       "    <tr>\n",
       "      <th>822</th>\n",
       "      <td>cocker_spaniel</td>\n",
       "      <td>0.740013</td>\n",
       "      <td>True</td>\n",
       "      <td>Welsh_springer_spaniel</td>\n",
       "      <td>0.088739</td>\n",
       "      <td>True</td>\n",
       "      <td>golden_retriever</td>\n",
       "      <td>4.746980e-02</td>\n",
       "      <td>True</td>\n",
       "      <td>cocker_spaniel</td>\n",
       "      <td>0.740013</td>\n",
       "    </tr>\n",
       "    <tr>\n",
       "      <th>117</th>\n",
       "      <td>Angora</td>\n",
       "      <td>0.918834</td>\n",
       "      <td>False</td>\n",
       "      <td>hen</td>\n",
       "      <td>0.037793</td>\n",
       "      <td>False</td>\n",
       "      <td>wood_rabbit</td>\n",
       "      <td>1.101490e-02</td>\n",
       "      <td>False</td>\n",
       "      <td>none</td>\n",
       "      <td>0.000000</td>\n",
       "    </tr>\n",
       "    <tr>\n",
       "      <th>149</th>\n",
       "      <td>komondor</td>\n",
       "      <td>0.999956</td>\n",
       "      <td>True</td>\n",
       "      <td>llama</td>\n",
       "      <td>0.000043</td>\n",
       "      <td>False</td>\n",
       "      <td>ram</td>\n",
       "      <td>2.160900e-07</td>\n",
       "      <td>False</td>\n",
       "      <td>komondor</td>\n",
       "      <td>0.999956</td>\n",
       "    </tr>\n",
       "    <tr>\n",
       "      <th>1864</th>\n",
       "      <td>Chihuahua</td>\n",
       "      <td>0.505370</td>\n",
       "      <td>True</td>\n",
       "      <td>Pomeranian</td>\n",
       "      <td>0.120358</td>\n",
       "      <td>True</td>\n",
       "      <td>toy_terrier</td>\n",
       "      <td>7.700810e-02</td>\n",
       "      <td>True</td>\n",
       "      <td>Chihuahua</td>\n",
       "      <td>0.505370</td>\n",
       "    </tr>\n",
       "    <tr>\n",
       "      <th>512</th>\n",
       "      <td>hamster</td>\n",
       "      <td>0.999484</td>\n",
       "      <td>False</td>\n",
       "      <td>guinea_pig</td>\n",
       "      <td>0.000158</td>\n",
       "      <td>False</td>\n",
       "      <td>broccoli</td>\n",
       "      <td>6.091100e-05</td>\n",
       "      <td>False</td>\n",
       "      <td>none</td>\n",
       "      <td>0.000000</td>\n",
       "    </tr>\n",
       "    <tr>\n",
       "      <th>432</th>\n",
       "      <td>Cardigan</td>\n",
       "      <td>0.611525</td>\n",
       "      <td>True</td>\n",
       "      <td>Pembroke</td>\n",
       "      <td>0.368566</td>\n",
       "      <td>True</td>\n",
       "      <td>Chihuahua</td>\n",
       "      <td>3.329570e-03</td>\n",
       "      <td>True</td>\n",
       "      <td>Cardigan</td>\n",
       "      <td>0.611525</td>\n",
       "    </tr>\n",
       "    <tr>\n",
       "      <th>1441</th>\n",
       "      <td>chow</td>\n",
       "      <td>0.316565</td>\n",
       "      <td>True</td>\n",
       "      <td>golden_retriever</td>\n",
       "      <td>0.241929</td>\n",
       "      <td>True</td>\n",
       "      <td>Pomeranian</td>\n",
       "      <td>1.575240e-01</td>\n",
       "      <td>True</td>\n",
       "      <td>chow</td>\n",
       "      <td>0.316565</td>\n",
       "    </tr>\n",
       "    <tr>\n",
       "      <th>1580</th>\n",
       "      <td>Pekinese</td>\n",
       "      <td>0.461164</td>\n",
       "      <td>True</td>\n",
       "      <td>Pomeranian</td>\n",
       "      <td>0.288650</td>\n",
       "      <td>True</td>\n",
       "      <td>Siamese_cat</td>\n",
       "      <td>5.242300e-02</td>\n",
       "      <td>False</td>\n",
       "      <td>Pekinese</td>\n",
       "      <td>0.461164</td>\n",
       "    </tr>\n",
       "    <tr>\n",
       "      <th>709</th>\n",
       "      <td>pug</td>\n",
       "      <td>0.999044</td>\n",
       "      <td>True</td>\n",
       "      <td>Norwegian_elkhound</td>\n",
       "      <td>0.000547</td>\n",
       "      <td>True</td>\n",
       "      <td>bull_mastiff</td>\n",
       "      <td>2.351950e-04</td>\n",
       "      <td>True</td>\n",
       "      <td>pug</td>\n",
       "      <td>0.999044</td>\n",
       "    </tr>\n",
       "    <tr>\n",
       "      <th>1155</th>\n",
       "      <td>golden_retriever</td>\n",
       "      <td>0.945523</td>\n",
       "      <td>True</td>\n",
       "      <td>Labrador_retriever</td>\n",
       "      <td>0.042319</td>\n",
       "      <td>True</td>\n",
       "      <td>doormat</td>\n",
       "      <td>3.956260e-03</td>\n",
       "      <td>False</td>\n",
       "      <td>golden_retriever</td>\n",
       "      <td>0.945523</td>\n",
       "    </tr>\n",
       "    <tr>\n",
       "      <th>1690</th>\n",
       "      <td>Border_collie</td>\n",
       "      <td>0.548907</td>\n",
       "      <td>True</td>\n",
       "      <td>Cardigan</td>\n",
       "      <td>0.178523</td>\n",
       "      <td>True</td>\n",
       "      <td>collie</td>\n",
       "      <td>1.463510e-01</td>\n",
       "      <td>True</td>\n",
       "      <td>Border_collie</td>\n",
       "      <td>0.548907</td>\n",
       "    </tr>\n",
       "    <tr>\n",
       "      <th>1751</th>\n",
       "      <td>teddy</td>\n",
       "      <td>0.588230</td>\n",
       "      <td>False</td>\n",
       "      <td>jigsaw_puzzle</td>\n",
       "      <td>0.028910</td>\n",
       "      <td>False</td>\n",
       "      <td>doormat</td>\n",
       "      <td>2.225070e-02</td>\n",
       "      <td>False</td>\n",
       "      <td>none</td>\n",
       "      <td>0.000000</td>\n",
       "    </tr>\n",
       "  </tbody>\n",
       "</table>\n",
       "</div>"
      ],
      "text/plain": [
       "                    p1   p1_conf  p1_dog                      p2   p2_conf  \\\n",
       "268             basset  0.994090    True            Walker_hound  0.003973   \n",
       "1646          Airedale  0.454239    True          cocker_spaniel  0.219323   \n",
       "1199        toy_poodle  0.388277    True                  Angora  0.180264   \n",
       "822     cocker_spaniel  0.740013    True  Welsh_springer_spaniel  0.088739   \n",
       "117             Angora  0.918834   False                     hen  0.037793   \n",
       "149           komondor  0.999956    True                   llama  0.000043   \n",
       "1864         Chihuahua  0.505370    True              Pomeranian  0.120358   \n",
       "512            hamster  0.999484   False              guinea_pig  0.000158   \n",
       "432           Cardigan  0.611525    True                Pembroke  0.368566   \n",
       "1441              chow  0.316565    True        golden_retriever  0.241929   \n",
       "1580          Pekinese  0.461164    True              Pomeranian  0.288650   \n",
       "709                pug  0.999044    True      Norwegian_elkhound  0.000547   \n",
       "1155  golden_retriever  0.945523    True      Labrador_retriever  0.042319   \n",
       "1690     Border_collie  0.548907    True                Cardigan  0.178523   \n",
       "1751             teddy  0.588230   False           jigsaw_puzzle  0.028910   \n",
       "\n",
       "      p2_dog                p3       p3_conf  p3_dog             breed  \\\n",
       "268     True            beagle  1.406190e-03    True            basset   \n",
       "1646    True     Irish_terrier  9.319300e-02    True          Airedale   \n",
       "1199   False       Persian_cat  4.965610e-02   False        toy_poodle   \n",
       "822     True  golden_retriever  4.746980e-02    True    cocker_spaniel   \n",
       "117    False       wood_rabbit  1.101490e-02   False              none   \n",
       "149    False               ram  2.160900e-07   False          komondor   \n",
       "1864    True       toy_terrier  7.700810e-02    True         Chihuahua   \n",
       "512    False          broccoli  6.091100e-05   False              none   \n",
       "432     True         Chihuahua  3.329570e-03    True          Cardigan   \n",
       "1441    True        Pomeranian  1.575240e-01    True              chow   \n",
       "1580    True       Siamese_cat  5.242300e-02   False          Pekinese   \n",
       "709     True      bull_mastiff  2.351950e-04    True               pug   \n",
       "1155    True           doormat  3.956260e-03   False  golden_retriever   \n",
       "1690    True            collie  1.463510e-01    True     Border_collie   \n",
       "1751   False           doormat  2.225070e-02   False              none   \n",
       "\n",
       "      confidence  \n",
       "268     0.994090  \n",
       "1646    0.454239  \n",
       "1199    0.388277  \n",
       "822     0.740013  \n",
       "117     0.000000  \n",
       "149     0.999956  \n",
       "1864    0.505370  \n",
       "512     0.000000  \n",
       "432     0.611525  \n",
       "1441    0.316565  \n",
       "1580    0.461164  \n",
       "709     0.999044  \n",
       "1155    0.945523  \n",
       "1690    0.548907  \n",
       "1751    0.000000  "
      ]
     },
     "execution_count": 142,
     "metadata": {},
     "output_type": "execute_result"
    }
   ],
   "source": [
    "image_clean[[\"p1\", \"p1_conf\", \"p1_dog\", \n",
    "             \"p2\",\"p2_conf\", \"p2_dog\",\n",
    "             \"p3\" , \"p3_conf\", \"p3_dog\", \"breed\", \"confidence\"]].sample(15)"
   ]
  },
  {
   "cell_type": "markdown",
   "metadata": {},
   "source": [
    "### Issue #13: Merge all the tables together"
   ]
  },
  {
   "cell_type": "markdown",
   "metadata": {},
   "source": [
    "#### Define:\n",
    "\n",
    "> Select the necessary columns like breed, confidence and tweet id and join to the tweet_api to merge it as one table"
   ]
  },
  {
   "cell_type": "markdown",
   "metadata": {},
   "source": [
    "#### Code"
   ]
  },
  {
   "cell_type": "code",
   "execution_count": 143,
   "metadata": {},
   "outputs": [],
   "source": [
    "image_clean_up = image_clean[[\"tweet_id\",\"breed\",\"confidence\"]]"
   ]
  },
  {
   "cell_type": "code",
   "execution_count": 144,
   "metadata": {},
   "outputs": [
    {
     "data": {
      "text/html": [
       "<div>\n",
       "<style scoped>\n",
       "    .dataframe tbody tr th:only-of-type {\n",
       "        vertical-align: middle;\n",
       "    }\n",
       "\n",
       "    .dataframe tbody tr th {\n",
       "        vertical-align: top;\n",
       "    }\n",
       "\n",
       "    .dataframe thead th {\n",
       "        text-align: right;\n",
       "    }\n",
       "</style>\n",
       "<table border=\"1\" class=\"dataframe\">\n",
       "  <thead>\n",
       "    <tr style=\"text-align: right;\">\n",
       "      <th></th>\n",
       "      <th>tweet_id</th>\n",
       "      <th>breed</th>\n",
       "      <th>confidence</th>\n",
       "    </tr>\n",
       "  </thead>\n",
       "  <tbody>\n",
       "    <tr>\n",
       "      <th>0</th>\n",
       "      <td>666020888022790149</td>\n",
       "      <td>Welsh_springer_spaniel</td>\n",
       "      <td>0.465074</td>\n",
       "    </tr>\n",
       "    <tr>\n",
       "      <th>1</th>\n",
       "      <td>666029285002620928</td>\n",
       "      <td>redbone</td>\n",
       "      <td>0.506826</td>\n",
       "    </tr>\n",
       "    <tr>\n",
       "      <th>2</th>\n",
       "      <td>666033412701032449</td>\n",
       "      <td>German_shepherd</td>\n",
       "      <td>0.596461</td>\n",
       "    </tr>\n",
       "    <tr>\n",
       "      <th>3</th>\n",
       "      <td>666044226329800704</td>\n",
       "      <td>Rhodesian_ridgeback</td>\n",
       "      <td>0.408143</td>\n",
       "    </tr>\n",
       "    <tr>\n",
       "      <th>4</th>\n",
       "      <td>666049248165822465</td>\n",
       "      <td>miniature_pinscher</td>\n",
       "      <td>0.560311</td>\n",
       "    </tr>\n",
       "  </tbody>\n",
       "</table>\n",
       "</div>"
      ],
      "text/plain": [
       "             tweet_id                   breed  confidence\n",
       "0  666020888022790149  Welsh_springer_spaniel    0.465074\n",
       "1  666029285002620928                 redbone    0.506826\n",
       "2  666033412701032449         German_shepherd    0.596461\n",
       "3  666044226329800704     Rhodesian_ridgeback    0.408143\n",
       "4  666049248165822465      miniature_pinscher    0.560311"
      ]
     },
     "execution_count": 144,
     "metadata": {},
     "output_type": "execute_result"
    }
   ],
   "source": [
    "image_clean_up.head()"
   ]
  },
  {
   "cell_type": "code",
   "execution_count": 145,
   "metadata": {},
   "outputs": [],
   "source": [
    "tweet_api_clean = pd.merge(tweet_api, image_clean_up, \n",
    "                         on = 'tweet_id', how = 'inner')"
   ]
  },
  {
   "cell_type": "code",
   "execution_count": 146,
   "metadata": {},
   "outputs": [
    {
     "name": "stdout",
     "output_type": "stream",
     "text": [
      "<class 'pandas.core.frame.DataFrame'>\n",
      "Int64Index: 482 entries, 0 to 481\n",
      "Data columns (total 16 columns):\n",
      " #   Column              Non-Null Count  Dtype              \n",
      "---  ------              --------------  -----              \n",
      " 0   tweet_id            482 non-null    int64              \n",
      " 1   timestamp           482 non-null    datetime64[ns, UTC]\n",
      " 2   source              482 non-null    object             \n",
      " 3   text                482 non-null    object             \n",
      " 4   expanded_urls       482 non-null    object             \n",
      " 5   rating_numerator    482 non-null    int64              \n",
      " 6   rating_denominator  482 non-null    int64              \n",
      " 7   name                482 non-null    object             \n",
      " 8   dog_stage           482 non-null    category           \n",
      " 9   favorites           482 non-null    int64              \n",
      " 10  retweets            482 non-null    int64              \n",
      " 11  user_followers      482 non-null    int64              \n",
      " 12  user_favourites     482 non-null    int64              \n",
      " 13  date_time           482 non-null    datetime64[ns, UTC]\n",
      " 14  breed               482 non-null    object             \n",
      " 15  confidence          482 non-null    float64            \n",
      "dtypes: category(1), datetime64[ns, UTC](2), float64(1), int64(7), object(5)\n",
      "memory usage: 60.9+ KB\n"
     ]
    }
   ],
   "source": [
    "tweet_api_clean.info()"
   ]
  },
  {
   "cell_type": "code",
   "execution_count": 147,
   "metadata": {},
   "outputs": [
    {
     "data": {
      "text/html": [
       "<div>\n",
       "<style scoped>\n",
       "    .dataframe tbody tr th:only-of-type {\n",
       "        vertical-align: middle;\n",
       "    }\n",
       "\n",
       "    .dataframe tbody tr th {\n",
       "        vertical-align: top;\n",
       "    }\n",
       "\n",
       "    .dataframe thead th {\n",
       "        text-align: right;\n",
       "    }\n",
       "</style>\n",
       "<table border=\"1\" class=\"dataframe\">\n",
       "  <thead>\n",
       "    <tr style=\"text-align: right;\">\n",
       "      <th></th>\n",
       "      <th>tweet_id</th>\n",
       "      <th>timestamp</th>\n",
       "      <th>source</th>\n",
       "      <th>text</th>\n",
       "      <th>expanded_urls</th>\n",
       "      <th>rating_numerator</th>\n",
       "      <th>rating_denominator</th>\n",
       "      <th>name</th>\n",
       "      <th>dog_stage</th>\n",
       "      <th>favorites</th>\n",
       "      <th>retweets</th>\n",
       "      <th>user_followers</th>\n",
       "      <th>user_favourites</th>\n",
       "      <th>date_time</th>\n",
       "      <th>breed</th>\n",
       "      <th>confidence</th>\n",
       "    </tr>\n",
       "  </thead>\n",
       "  <tbody>\n",
       "    <tr>\n",
       "      <th>0</th>\n",
       "      <td>892420643555336193</td>\n",
       "      <td>2017-08-01 16:23:56+00:00</td>\n",
       "      <td>Twitter for iPhone</td>\n",
       "      <td>This is Phineas. He's a mystical boy. Only eve...</td>\n",
       "      <td>https://twitter.com/dog_rates/status/892420643...</td>\n",
       "      <td>13</td>\n",
       "      <td>10</td>\n",
       "      <td>Phineas</td>\n",
       "      <td>none</td>\n",
       "      <td>33792</td>\n",
       "      <td>6998</td>\n",
       "      <td>9300854</td>\n",
       "      <td>146892</td>\n",
       "      <td>2017-08-01 16:23:56+00:00</td>\n",
       "      <td>none</td>\n",
       "      <td>0.000000</td>\n",
       "    </tr>\n",
       "    <tr>\n",
       "      <th>1</th>\n",
       "      <td>892177421306343426</td>\n",
       "      <td>2017-08-01 00:17:27+00:00</td>\n",
       "      <td>Twitter for iPhone</td>\n",
       "      <td>This is Tilly. She's just checking pup on you....</td>\n",
       "      <td>https://twitter.com/dog_rates/status/892177421...</td>\n",
       "      <td>13</td>\n",
       "      <td>10</td>\n",
       "      <td>Tilly</td>\n",
       "      <td>none</td>\n",
       "      <td>29312</td>\n",
       "      <td>5297</td>\n",
       "      <td>9300854</td>\n",
       "      <td>146892</td>\n",
       "      <td>2017-08-01 00:17:27+00:00</td>\n",
       "      <td>Chihuahua</td>\n",
       "      <td>0.323581</td>\n",
       "    </tr>\n",
       "    <tr>\n",
       "      <th>2</th>\n",
       "      <td>891815181378084864</td>\n",
       "      <td>2017-07-31 00:18:03+00:00</td>\n",
       "      <td>Twitter for iPhone</td>\n",
       "      <td>This is Archie. He is a rare Norwegian Pouncin...</td>\n",
       "      <td>https://twitter.com/dog_rates/status/891815181...</td>\n",
       "      <td>12</td>\n",
       "      <td>10</td>\n",
       "      <td>Archie</td>\n",
       "      <td>none</td>\n",
       "      <td>22041</td>\n",
       "      <td>3477</td>\n",
       "      <td>9300854</td>\n",
       "      <td>146892</td>\n",
       "      <td>2017-07-31 00:18:03+00:00</td>\n",
       "      <td>Chihuahua</td>\n",
       "      <td>0.716012</td>\n",
       "    </tr>\n",
       "    <tr>\n",
       "      <th>3</th>\n",
       "      <td>891689557279858688</td>\n",
       "      <td>2017-07-30 15:58:51+00:00</td>\n",
       "      <td>Twitter for iPhone</td>\n",
       "      <td>This is Darla. She commenced a snooze mid meal...</td>\n",
       "      <td>https://twitter.com/dog_rates/status/891689557...</td>\n",
       "      <td>13</td>\n",
       "      <td>10</td>\n",
       "      <td>Darla</td>\n",
       "      <td>none</td>\n",
       "      <td>36915</td>\n",
       "      <td>7219</td>\n",
       "      <td>9300854</td>\n",
       "      <td>146892</td>\n",
       "      <td>2017-07-30 15:58:51+00:00</td>\n",
       "      <td>Labrador_retriever</td>\n",
       "      <td>0.168086</td>\n",
       "    </tr>\n",
       "  </tbody>\n",
       "</table>\n",
       "</div>"
      ],
      "text/plain": [
       "             tweet_id                 timestamp              source  \\\n",
       "0  892420643555336193 2017-08-01 16:23:56+00:00  Twitter for iPhone   \n",
       "1  892177421306343426 2017-08-01 00:17:27+00:00  Twitter for iPhone   \n",
       "2  891815181378084864 2017-07-31 00:18:03+00:00  Twitter for iPhone   \n",
       "3  891689557279858688 2017-07-30 15:58:51+00:00  Twitter for iPhone   \n",
       "\n",
       "                                                text  \\\n",
       "0  This is Phineas. He's a mystical boy. Only eve...   \n",
       "1  This is Tilly. She's just checking pup on you....   \n",
       "2  This is Archie. He is a rare Norwegian Pouncin...   \n",
       "3  This is Darla. She commenced a snooze mid meal...   \n",
       "\n",
       "                                       expanded_urls  rating_numerator  \\\n",
       "0  https://twitter.com/dog_rates/status/892420643...                13   \n",
       "1  https://twitter.com/dog_rates/status/892177421...                13   \n",
       "2  https://twitter.com/dog_rates/status/891815181...                12   \n",
       "3  https://twitter.com/dog_rates/status/891689557...                13   \n",
       "\n",
       "   rating_denominator     name dog_stage  favorites  retweets  user_followers  \\\n",
       "0                  10  Phineas      none      33792      6998         9300854   \n",
       "1                  10    Tilly      none      29312      5297         9300854   \n",
       "2                  10   Archie      none      22041      3477         9300854   \n",
       "3                  10    Darla      none      36915      7219         9300854   \n",
       "\n",
       "   user_favourites                 date_time               breed  confidence  \n",
       "0           146892 2017-08-01 16:23:56+00:00                none    0.000000  \n",
       "1           146892 2017-08-01 00:17:27+00:00           Chihuahua    0.323581  \n",
       "2           146892 2017-07-31 00:18:03+00:00           Chihuahua    0.716012  \n",
       "3           146892 2017-07-30 15:58:51+00:00  Labrador_retriever    0.168086  "
      ]
     },
     "execution_count": 147,
     "metadata": {},
     "output_type": "execute_result"
    }
   ],
   "source": [
    "tweet_api_clean.head(4)"
   ]
  },
  {
   "cell_type": "code",
   "execution_count": 148,
   "metadata": {},
   "outputs": [],
   "source": [
    "tweet_api_clean[\"year\"] = tweet_api_clean.date_time.dt.year\n",
    "tweet_api_clean[\"month\"] = tweet_api_clean.date_time.dt.month_name(locale = 'English')\n",
    "tweet_api_clean[\"day\"] = tweet_api_clean.date_time.dt.day_name(locale = 'English')"
   ]
  },
  {
   "cell_type": "code",
   "execution_count": 149,
   "metadata": {},
   "outputs": [
    {
     "data": {
      "text/html": [
       "<div>\n",
       "<style scoped>\n",
       "    .dataframe tbody tr th:only-of-type {\n",
       "        vertical-align: middle;\n",
       "    }\n",
       "\n",
       "    .dataframe tbody tr th {\n",
       "        vertical-align: top;\n",
       "    }\n",
       "\n",
       "    .dataframe thead th {\n",
       "        text-align: right;\n",
       "    }\n",
       "</style>\n",
       "<table border=\"1\" class=\"dataframe\">\n",
       "  <thead>\n",
       "    <tr style=\"text-align: right;\">\n",
       "      <th></th>\n",
       "      <th>tweet_id</th>\n",
       "      <th>timestamp</th>\n",
       "      <th>source</th>\n",
       "      <th>text</th>\n",
       "      <th>expanded_urls</th>\n",
       "      <th>rating_numerator</th>\n",
       "      <th>rating_denominator</th>\n",
       "      <th>name</th>\n",
       "      <th>dog_stage</th>\n",
       "      <th>favorites</th>\n",
       "      <th>retweets</th>\n",
       "      <th>user_followers</th>\n",
       "      <th>user_favourites</th>\n",
       "      <th>date_time</th>\n",
       "      <th>breed</th>\n",
       "      <th>confidence</th>\n",
       "      <th>year</th>\n",
       "      <th>month</th>\n",
       "      <th>day</th>\n",
       "    </tr>\n",
       "  </thead>\n",
       "  <tbody>\n",
       "    <tr>\n",
       "      <th>0</th>\n",
       "      <td>892420643555336193</td>\n",
       "      <td>2017-08-01 16:23:56+00:00</td>\n",
       "      <td>Twitter for iPhone</td>\n",
       "      <td>This is Phineas. He's a mystical boy. Only eve...</td>\n",
       "      <td>https://twitter.com/dog_rates/status/892420643...</td>\n",
       "      <td>13</td>\n",
       "      <td>10</td>\n",
       "      <td>Phineas</td>\n",
       "      <td>none</td>\n",
       "      <td>33792</td>\n",
       "      <td>6998</td>\n",
       "      <td>9300854</td>\n",
       "      <td>146892</td>\n",
       "      <td>2017-08-01 16:23:56+00:00</td>\n",
       "      <td>none</td>\n",
       "      <td>0.000000</td>\n",
       "      <td>2017</td>\n",
       "      <td>August</td>\n",
       "      <td>Tuesday</td>\n",
       "    </tr>\n",
       "    <tr>\n",
       "      <th>1</th>\n",
       "      <td>892177421306343426</td>\n",
       "      <td>2017-08-01 00:17:27+00:00</td>\n",
       "      <td>Twitter for iPhone</td>\n",
       "      <td>This is Tilly. She's just checking pup on you....</td>\n",
       "      <td>https://twitter.com/dog_rates/status/892177421...</td>\n",
       "      <td>13</td>\n",
       "      <td>10</td>\n",
       "      <td>Tilly</td>\n",
       "      <td>none</td>\n",
       "      <td>29312</td>\n",
       "      <td>5297</td>\n",
       "      <td>9300854</td>\n",
       "      <td>146892</td>\n",
       "      <td>2017-08-01 00:17:27+00:00</td>\n",
       "      <td>Chihuahua</td>\n",
       "      <td>0.323581</td>\n",
       "      <td>2017</td>\n",
       "      <td>August</td>\n",
       "      <td>Tuesday</td>\n",
       "    </tr>\n",
       "    <tr>\n",
       "      <th>2</th>\n",
       "      <td>891815181378084864</td>\n",
       "      <td>2017-07-31 00:18:03+00:00</td>\n",
       "      <td>Twitter for iPhone</td>\n",
       "      <td>This is Archie. He is a rare Norwegian Pouncin...</td>\n",
       "      <td>https://twitter.com/dog_rates/status/891815181...</td>\n",
       "      <td>12</td>\n",
       "      <td>10</td>\n",
       "      <td>Archie</td>\n",
       "      <td>none</td>\n",
       "      <td>22041</td>\n",
       "      <td>3477</td>\n",
       "      <td>9300854</td>\n",
       "      <td>146892</td>\n",
       "      <td>2017-07-31 00:18:03+00:00</td>\n",
       "      <td>Chihuahua</td>\n",
       "      <td>0.716012</td>\n",
       "      <td>2017</td>\n",
       "      <td>July</td>\n",
       "      <td>Monday</td>\n",
       "    </tr>\n",
       "    <tr>\n",
       "      <th>3</th>\n",
       "      <td>891689557279858688</td>\n",
       "      <td>2017-07-30 15:58:51+00:00</td>\n",
       "      <td>Twitter for iPhone</td>\n",
       "      <td>This is Darla. She commenced a snooze mid meal...</td>\n",
       "      <td>https://twitter.com/dog_rates/status/891689557...</td>\n",
       "      <td>13</td>\n",
       "      <td>10</td>\n",
       "      <td>Darla</td>\n",
       "      <td>none</td>\n",
       "      <td>36915</td>\n",
       "      <td>7219</td>\n",
       "      <td>9300854</td>\n",
       "      <td>146892</td>\n",
       "      <td>2017-07-30 15:58:51+00:00</td>\n",
       "      <td>Labrador_retriever</td>\n",
       "      <td>0.168086</td>\n",
       "      <td>2017</td>\n",
       "      <td>July</td>\n",
       "      <td>Sunday</td>\n",
       "    </tr>\n",
       "    <tr>\n",
       "      <th>4</th>\n",
       "      <td>891327558926688256</td>\n",
       "      <td>2017-07-29 16:00:24+00:00</td>\n",
       "      <td>Twitter for iPhone</td>\n",
       "      <td>This is Franklin. He would like you to stop ca...</td>\n",
       "      <td>https://twitter.com/dog_rates/status/891327558...</td>\n",
       "      <td>12</td>\n",
       "      <td>10</td>\n",
       "      <td>Franklin</td>\n",
       "      <td>none</td>\n",
       "      <td>35294</td>\n",
       "      <td>7752</td>\n",
       "      <td>9300854</td>\n",
       "      <td>146892</td>\n",
       "      <td>2017-07-29 16:00:24+00:00</td>\n",
       "      <td>basset</td>\n",
       "      <td>0.555712</td>\n",
       "      <td>2017</td>\n",
       "      <td>July</td>\n",
       "      <td>Saturday</td>\n",
       "    </tr>\n",
       "  </tbody>\n",
       "</table>\n",
       "</div>"
      ],
      "text/plain": [
       "             tweet_id                 timestamp              source  \\\n",
       "0  892420643555336193 2017-08-01 16:23:56+00:00  Twitter for iPhone   \n",
       "1  892177421306343426 2017-08-01 00:17:27+00:00  Twitter for iPhone   \n",
       "2  891815181378084864 2017-07-31 00:18:03+00:00  Twitter for iPhone   \n",
       "3  891689557279858688 2017-07-30 15:58:51+00:00  Twitter for iPhone   \n",
       "4  891327558926688256 2017-07-29 16:00:24+00:00  Twitter for iPhone   \n",
       "\n",
       "                                                text  \\\n",
       "0  This is Phineas. He's a mystical boy. Only eve...   \n",
       "1  This is Tilly. She's just checking pup on you....   \n",
       "2  This is Archie. He is a rare Norwegian Pouncin...   \n",
       "3  This is Darla. She commenced a snooze mid meal...   \n",
       "4  This is Franklin. He would like you to stop ca...   \n",
       "\n",
       "                                       expanded_urls  rating_numerator  \\\n",
       "0  https://twitter.com/dog_rates/status/892420643...                13   \n",
       "1  https://twitter.com/dog_rates/status/892177421...                13   \n",
       "2  https://twitter.com/dog_rates/status/891815181...                12   \n",
       "3  https://twitter.com/dog_rates/status/891689557...                13   \n",
       "4  https://twitter.com/dog_rates/status/891327558...                12   \n",
       "\n",
       "   rating_denominator      name dog_stage  favorites  retweets  \\\n",
       "0                  10   Phineas      none      33792      6998   \n",
       "1                  10     Tilly      none      29312      5297   \n",
       "2                  10    Archie      none      22041      3477   \n",
       "3                  10     Darla      none      36915      7219   \n",
       "4                  10  Franklin      none      35294      7752   \n",
       "\n",
       "   user_followers  user_favourites                 date_time  \\\n",
       "0         9300854           146892 2017-08-01 16:23:56+00:00   \n",
       "1         9300854           146892 2017-08-01 00:17:27+00:00   \n",
       "2         9300854           146892 2017-07-31 00:18:03+00:00   \n",
       "3         9300854           146892 2017-07-30 15:58:51+00:00   \n",
       "4         9300854           146892 2017-07-29 16:00:24+00:00   \n",
       "\n",
       "                breed  confidence  year   month       day  \n",
       "0                none    0.000000  2017  August   Tuesday  \n",
       "1           Chihuahua    0.323581  2017  August   Tuesday  \n",
       "2           Chihuahua    0.716012  2017    July    Monday  \n",
       "3  Labrador_retriever    0.168086  2017    July    Sunday  \n",
       "4              basset    0.555712  2017    July  Saturday  "
      ]
     },
     "execution_count": 149,
     "metadata": {},
     "output_type": "execute_result"
    }
   ],
   "source": [
    "tweet_api_clean.head()"
   ]
  },
  {
   "cell_type": "markdown",
   "metadata": {},
   "source": [
    "## Step 4: Storing data\n",
    "Save the gathered, assessed, and cleaned master dataset to a CSV file named \"twitter_archive_master.csv\"."
   ]
  },
  {
   "cell_type": "code",
   "execution_count": 150,
   "metadata": {},
   "outputs": [],
   "source": [
    "tweet_api_clean.to_csv('twitter_archive_master.csv', index = False)"
   ]
  },
  {
   "cell_type": "markdown",
   "metadata": {},
   "source": [
    "## Step 5: Analyzing and visualizing data"
   ]
  },
  {
   "cell_type": "markdown",
   "metadata": {},
   "source": [
    "> ## Insight 1"
   ]
  },
  {
   "cell_type": "markdown",
   "metadata": {},
   "source": [
    " ### Distribution of the ratings"
   ]
  },
  {
   "cell_type": "code",
   "execution_count": 183,
   "metadata": {
    "scrolled": true
   },
   "outputs": [
    {
     "data": {
      "text/plain": [
       "Text(0.5, 0, 'Rating')"
      ]
     },
     "execution_count": 183,
     "metadata": {},
     "output_type": "execute_result"
    },
    {
     "data": {
      "image/png": "[encoded data removed]",
      "text/plain": [
       "<Figure size 432x288 with 1 Axes>"
      ]
     },
     "metadata": {
      "needs_background": "light"
     },
     "output_type": "display_data"
    }
   ],
   "source": [
    "### distribution  of the ratings\n",
    "\n",
    "tweet_api_clean.rating_numerator.plot(kind = \"hist\", bins = 10, title = \"Distribution of Ratings\").set_xlabel(\"Rating\")"
   ]
  },
  {
   "cell_type": "markdown",
   "metadata": {},
   "source": [
    "The rating distribution is heavily tilted to the left, with 75 percent of all ratings falling between 10 and 14, with 12 being the highest."
   ]
  },
  {
   "cell_type": "markdown",
   "metadata": {},
   "source": [
    "### The most rated dog breed"
   ]
  },
  {
   "cell_type": "code",
   "execution_count": 153,
   "metadata": {},
   "outputs": [],
   "source": [
    "rate = tweet_api_clean.groupby(\"breed\")[\"rating_numerator\"].mean().to_frame().reset_index()"
   ]
  },
  {
   "cell_type": "code",
   "execution_count": 154,
   "metadata": {},
   "outputs": [],
   "source": [
    "rate_10 = rate.sort_values(by = \"rating_numerator\", ascending = False).head(10)"
   ]
  },
  {
   "cell_type": "code",
   "execution_count": 155,
   "metadata": {},
   "outputs": [
    {
     "data": {
      "text/plain": [
       "Text(0.5, 0, 'Breed')"
      ]
     },
     "execution_count": 155,
     "metadata": {},
     "output_type": "execute_result"
    },
    {
     "data": {
      "image/png": "[encoded data removed]",
      "text/plain": [
       "<Figure size 432x288 with 1 Axes>"
      ]
     },
     "metadata": {
      "needs_background": "light"
     },
     "output_type": "display_data"
    }
   ],
   "source": [
    "rate_10.plot(kind = \"bar\", x = \"breed\", y = \"rating_numerator\", title = \"Most rated dog breed\").set_xlabel(\"Breed\")"
   ]
  },
  {
   "cell_type": "markdown",
   "metadata": {},
   "source": [
    "The black and tan coonhound received the highest mean rating of 14.0, indicating that it was highly ranked among the breeds."
   ]
  },
  {
   "cell_type": "markdown",
   "metadata": {},
   "source": [
    "### The most rated dog stage"
   ]
  },
  {
   "cell_type": "code",
   "execution_count": 156,
   "metadata": {},
   "outputs": [],
   "source": [
    "tweet_api_clean_notnone = tweet_api_clean[tweet_api_clean.dog_stage != \"none\"]"
   ]
  },
  {
   "cell_type": "code",
   "execution_count": 157,
   "metadata": {},
   "outputs": [
    {
     "data": {
      "text/plain": [
       "doggo      37\n",
       "pupper     28\n",
       "puppo      16\n",
       "floofer     3\n",
       "none        0\n",
       "Name: dog_stage, dtype: int64"
      ]
     },
     "execution_count": 157,
     "metadata": {},
     "output_type": "execute_result"
    }
   ],
   "source": [
    "tweet_api_clean_notnone.dog_stage.value_counts()"
   ]
  },
  {
   "cell_type": "code",
   "execution_count": 158,
   "metadata": {},
   "outputs": [],
   "source": [
    "name_rate = tweet_api_clean_notnone .groupby(\"dog_stage\")[\"rating_numerator\"].mean().to_frame().reset_index()"
   ]
  },
  {
   "cell_type": "code",
   "execution_count": 159,
   "metadata": {},
   "outputs": [],
   "source": [
    "name_rate_10 = name_rate.sort_values(by = \"rating_numerator\", ascending = False).head(10)"
   ]
  },
  {
   "cell_type": "code",
   "execution_count": 160,
   "metadata": {},
   "outputs": [
    {
     "data": {
      "text/plain": [
       "Text(0.5, 0, 'Dog_stage')"
      ]
     },
     "execution_count": 160,
     "metadata": {},
     "output_type": "execute_result"
    },
    {
     "data": {
      "image/png": "[encoded data removed]",
      "text/plain": [
       "<Figure size 432x288 with 1 Axes>"
      ]
     },
     "metadata": {
      "needs_background": "light"
     },
     "output_type": "display_data"
    }
   ],
   "source": [
    "name_rate_10.plot(kind = \"bar\", x = \"dog_stage\", y = \"rating_numerator\", title = \"Most rated dog stage\").set_xlabel(\"Dog_stage\")"
   ]
  },
  {
   "cell_type": "markdown",
   "metadata": {},
   "source": [
    "Puppo had the highest mean rating of 12.04, indicating that it was the most highly ranked dogstage, which is closely followed by floofer and doggo"
   ]
  },
  {
   "cell_type": "markdown",
   "metadata": {},
   "source": [
    "### Top 10 dog breeds by tweet_count"
   ]
  },
  {
   "cell_type": "code",
   "execution_count": 161,
   "metadata": {},
   "outputs": [],
   "source": [
    "breed_exclusive = tweet_api_clean[tweet_api_clean.breed != \"none\"]"
   ]
  },
  {
   "cell_type": "code",
   "execution_count": 162,
   "metadata": {},
   "outputs": [
    {
     "data": {
      "text/plain": [
       "Text(0, 0.5, 'breed')"
      ]
     },
     "execution_count": 162,
     "metadata": {},
     "output_type": "execute_result"
    },
    {
     "data": {
      "image/png": "[encoded data removed]",
      "text/plain": [
       "<Figure size 432x288 with 1 Axes>"
      ]
     },
     "metadata": {
      "needs_background": "light"
     },
     "output_type": "display_data"
    }
   ],
   "source": [
    "breed_exclusive.breed.value_counts().head(10).plot(kind = \"barh\", title = \"Top ten breed by tweet count\").set_ylabel(\"breed\")"
   ]
  },
  {
   "cell_type": "markdown",
   "metadata": {},
   "source": [
    "The Golden Retriever is the most popular dog, with about 125 tweets, as shown in the bar chart above. Second, third, and fourth position are Pembroke Spaniels, Labrador Retrievers, and Chihuahuas, respectively."
   ]
  },
  {
   "cell_type": "code",
   "execution_count": 163,
   "metadata": {},
   "outputs": [],
   "source": [
    "breed_like = breed_exclusive.groupby(['breed'])\n",
    "top_10_like = breed_like.favorites.sum().sort_values(ascending = False).head(10)"
   ]
  },
  {
   "cell_type": "code",
   "execution_count": 164,
   "metadata": {},
   "outputs": [
    {
     "data": {
      "text/plain": [
       "Text(0, 0.5, 'breed')"
      ]
     },
     "execution_count": 164,
     "metadata": {},
     "output_type": "execute_result"
    },
    {
     "data": {
      "image/png": "[encoded data removed]",
      "text/plain": [
       "<Figure size 432x288 with 1 Axes>"
      ]
     },
     "metadata": {
      "needs_background": "light"
     },
     "output_type": "display_data"
    }
   ],
   "source": [
    "plt.barh(top_10_like.index, top_10_like, color = 'brown')\n",
    "plt.title(\"Top ten breed by favorite count\")\n",
    "plt.ylabel(\"breed\")"
   ]
  },
  {
   "cell_type": "markdown",
   "metadata": {},
   "source": [
    "The chart above depicts the top ten dog breeds in terms of favourite counts. It matches the barplot of the top 10 dog breeds ordered by tweet from earlier, and the top four dog breeds are the same."
   ]
  },
  {
   "cell_type": "markdown",
   "metadata": {},
   "source": [
    "### Tweet with the most favourite_count"
   ]
  },
  {
   "cell_type": "code",
   "execution_count": 165,
   "metadata": {},
   "outputs": [
    {
     "data": {
      "text/html": [
       "<div>\n",
       "<style scoped>\n",
       "    .dataframe tbody tr th:only-of-type {\n",
       "        vertical-align: middle;\n",
       "    }\n",
       "\n",
       "    .dataframe tbody tr th {\n",
       "        vertical-align: top;\n",
       "    }\n",
       "\n",
       "    .dataframe thead th {\n",
       "        text-align: right;\n",
       "    }\n",
       "</style>\n",
       "<table border=\"1\" class=\"dataframe\">\n",
       "  <thead>\n",
       "    <tr style=\"text-align: right;\">\n",
       "      <th></th>\n",
       "      <th>text</th>\n",
       "      <th>date_time</th>\n",
       "      <th>favorites</th>\n",
       "      <th>retweets</th>\n",
       "      <th>dog_stage</th>\n",
       "      <th>breed</th>\n",
       "      <th>rating_numerator</th>\n",
       "    </tr>\n",
       "  </thead>\n",
       "  <tbody>\n",
       "    <tr>\n",
       "      <th>292</th>\n",
       "      <td>Here's a super supportive puppo participating ...</td>\n",
       "      <td>2017-01-21 18:26:02+00:00</td>\n",
       "      <td>124030</td>\n",
       "      <td>39892</td>\n",
       "      <td>puppo</td>\n",
       "      <td>Lakeland_terrier</td>\n",
       "      <td>13</td>\n",
       "    </tr>\n",
       "  </tbody>\n",
       "</table>\n",
       "</div>"
      ],
      "text/plain": [
       "                                                  text  \\\n",
       "292  Here's a super supportive puppo participating ...   \n",
       "\n",
       "                    date_time  favorites  retweets dog_stage  \\\n",
       "292 2017-01-21 18:26:02+00:00     124030     39892     puppo   \n",
       "\n",
       "                breed  rating_numerator  \n",
       "292  Lakeland_terrier                13  "
      ]
     },
     "execution_count": 165,
     "metadata": {},
     "output_type": "execute_result"
    }
   ],
   "source": [
    "tweet_api_clean.sort_values(by = 'favorites', ascending = False).head(1)[[\"text\", \"date_time\",\"favorites\",\"retweets\",\"dog_stage\",\"breed\", \"rating_numerator\"]]"
   ]
  },
  {
   "cell_type": "markdown",
   "metadata": {},
   "source": [
    "### Tweet with the most retweet_count"
   ]
  },
  {
   "cell_type": "code",
   "execution_count": 166,
   "metadata": {},
   "outputs": [
    {
     "data": {
      "text/html": [
       "<div>\n",
       "<style scoped>\n",
       "    .dataframe tbody tr th:only-of-type {\n",
       "        vertical-align: middle;\n",
       "    }\n",
       "\n",
       "    .dataframe tbody tr th {\n",
       "        vertical-align: top;\n",
       "    }\n",
       "\n",
       "    .dataframe thead th {\n",
       "        text-align: right;\n",
       "    }\n",
       "</style>\n",
       "<table border=\"1\" class=\"dataframe\">\n",
       "  <thead>\n",
       "    <tr style=\"text-align: right;\">\n",
       "      <th></th>\n",
       "      <th>text</th>\n",
       "      <th>date_time</th>\n",
       "      <th>favorites</th>\n",
       "      <th>retweets</th>\n",
       "      <th>dog_stage</th>\n",
       "      <th>breed</th>\n",
       "      <th>rating_numerator</th>\n",
       "    </tr>\n",
       "  </thead>\n",
       "  <tbody>\n",
       "    <tr>\n",
       "      <th>381</th>\n",
       "      <td>This is Stephan. He just wants to help. 13/10 ...</td>\n",
       "      <td>2016-12-09 06:17:20+00:00</td>\n",
       "      <td>111597</td>\n",
       "      <td>51621</td>\n",
       "      <td>none</td>\n",
       "      <td>Chihuahua</td>\n",
       "      <td>13</td>\n",
       "    </tr>\n",
       "  </tbody>\n",
       "</table>\n",
       "</div>"
      ],
      "text/plain": [
       "                                                  text  \\\n",
       "381  This is Stephan. He just wants to help. 13/10 ...   \n",
       "\n",
       "                    date_time  favorites  retweets dog_stage      breed  \\\n",
       "381 2016-12-09 06:17:20+00:00     111597     51621      none  Chihuahua   \n",
       "\n",
       "     rating_numerator  \n",
       "381                13  "
      ]
     },
     "execution_count": 166,
     "metadata": {},
     "output_type": "execute_result"
    }
   ],
   "source": [
    "tweet_api_clean.sort_values(by = 'retweets', ascending = False).head(1)[[\"text\", \"date_time\",\"favorites\",\"retweets\",\"dog_stage\",\"breed\",\"rating_numerator\"]]"
   ]
  },
  {
   "cell_type": "markdown",
   "metadata": {},
   "source": [
    "Here it shows that the most liked tweet, is also the most retweeted tweet, futhermore I'll check if there's a correlation between retweets and favourites"
   ]
  },
  {
   "cell_type": "markdown",
   "metadata": {},
   "source": [
    "> ## Insight 2"
   ]
  },
  {
   "cell_type": "markdown",
   "metadata": {},
   "source": [
    "### Correlation between Retweets and Favorites"
   ]
  },
  {
   "cell_type": "code",
   "execution_count": 167,
   "metadata": {
    "scrolled": true
   },
   "outputs": [
    {
     "data": {
      "image/png": "[encoded data removed]",
      "text/plain": [
       "<Figure size 720x720 with 1 Axes>"
      ]
     },
     "metadata": {
      "needs_background": "light"
     },
     "output_type": "display_data"
    }
   ],
   "source": [
    "#https://stackoverflow.com/questions/25579227/seaborn-lmplot-with-equation-and-r2-text\n",
    "\n",
    "import seaborn as sns\n",
    "import scipy as sp\n",
    "\n",
    "g = sns.lmplot(x='favorites', y='retweets', data=tweet_api_clean, height=10, aspect=1)\n",
    "\n",
    "def annotate(data, **kws):\n",
    "    r, p = sp.stats.pearsonr(data['favorites'], data['retweets'])\n",
    "    ax = plt.gca()\n",
    "    ax.text(.05, .8, 'r={:.2f}, p={:.2g}'.format(r, p),\n",
    "            transform=ax.transAxes)\n",
    "    \n",
    "g.map_dataframe(annotate)\n",
    "plt.show()"
   ]
  },
  {
   "cell_type": "markdown",
   "metadata": {},
   "source": [
    "Retweet numbers and favorite counts have a strong positive correlation with a rsquared of 0.93. As the number of favorites increases, so does the number of retweets. Tweets with a high favorite count and a high retweet count receive higher ratings as well."
   ]
  },
  {
   "cell_type": "markdown",
   "metadata": {},
   "source": [
    "> ## Insight 3"
   ]
  },
  {
   "cell_type": "markdown",
   "metadata": {},
   "source": [
    "### Because the golden retriever is the breed with the most retweets and likes, I'd like to dig more into it and observe how it changes through time."
   ]
  },
  {
   "cell_type": "code",
   "execution_count": 169,
   "metadata": {},
   "outputs": [],
   "source": [
    "golden_retriever = breed_exclusive[breed_exclusive.breed == \"golden_retriever\"]"
   ]
  },
  {
   "cell_type": "code",
   "execution_count": 170,
   "metadata": {},
   "outputs": [],
   "source": [
    "golden_group_month = golden_retriever.groupby([\"breed\",\"month\"])[\"breed\"].count().to_frame()\n",
    "golden_group_month = golden_group_month.droplevel(0).reset_index()\n",
    "golden_group_month.rename(columns = {'breed':'value'}, inplace = True)\n",
    "golden_group_month[\"breed\"] = \"golden_retriever\""
   ]
  },
  {
   "cell_type": "markdown",
   "metadata": {},
   "source": [
    "Relationship with Date"
   ]
  },
  {
   "cell_type": "code",
   "execution_count": 171,
   "metadata": {},
   "outputs": [
    {
     "data": {
      "text/plain": [
       "<matplotlib.axes._subplots.AxesSubplot at 0x10d759daa88>"
      ]
     },
     "execution_count": 171,
     "metadata": {},
     "output_type": "execute_result"
    },
    {
     "data": {
      "image/png": "[encoded data removed]",
      "text/plain": [
       "<Figure size 432x288 with 1 Axes>"
      ]
     },
     "metadata": {
      "needs_background": "light"
     },
     "output_type": "display_data"
    }
   ],
   "source": [
    "golden_group_month.plot.bar(x='month', y='value')"
   ]
  },
  {
   "cell_type": "markdown",
   "metadata": {},
   "source": [
    "The number of golden retriever tweets fluctuated across the months, with the highest in December and November, and the lowest in April."
   ]
  },
  {
   "cell_type": "code",
   "execution_count": 176,
   "metadata": {},
   "outputs": [],
   "source": [
    "golden_group_day = golden_retriever.groupby([\"breed\",\"day\"])[\"breed\"].count().to_frame()\n",
    "golden_group_day = golden_group_day.droplevel(0).reset_index()\n",
    "golden_group_day.rename(columns = {'breed':'value'}, inplace = True)\n",
    "golden_group_day[\"breed\"] = \"golden_retriever\""
   ]
  },
  {
   "cell_type": "code",
   "execution_count": 177,
   "metadata": {},
   "outputs": [
    {
     "data": {
      "text/plain": [
       "<matplotlib.axes._subplots.AxesSubplot at 0x10d75e82ac8>"
      ]
     },
     "execution_count": 177,
     "metadata": {},
     "output_type": "execute_result"
    },
    {
     "data": {
      "image/png": "[encoded data removed]",
      "text/plain": [
       "<Figure size 432x288 with 1 Axes>"
      ]
     },
     "metadata": {
      "needs_background": "light"
     },
     "output_type": "display_data"
    }
   ],
   "source": [
    "golden_group_day.plot.bar(x='day', y='value')"
   ]
  },
  {
   "cell_type": "code",
   "execution_count": 178,
   "metadata": {},
   "outputs": [],
   "source": [
    "golden_group_year = golden_retriever.groupby([\"breed\",\"year\"])[\"breed\"].count().to_frame()\n",
    "golden_group_year = golden_group_year.droplevel(0).reset_index()\n",
    "golden_group_year.rename(columns = {'breed':'value'}, inplace = True)\n",
    "golden_group_year[\"breed\"] = \"golden_retriever\""
   ]
  },
  {
   "cell_type": "code",
   "execution_count": 179,
   "metadata": {},
   "outputs": [],
   "source": [
    "import squarify as sq"
   ]
  },
  {
   "cell_type": "code",
   "execution_count": 180,
   "metadata": {},
   "outputs": [
    {
     "data": {
      "image/png": "[encoded data removed]",
      "text/plain": [
       "<Figure size 432x288 with 1 Axes>"
      ]
     },
     "metadata": {
      "needs_background": "light"
     },
     "output_type": "display_data"
    }
   ],
   "source": [
    "# https://www.python-graph-gallery.com/treemap/\n",
    "sq.plot(sizes=golden_group_year['value'], label=golden_group_year['year'], alpha=.3 )\n",
    "plt.axis('off')\n",
    "plt.show()"
   ]
  },
  {
   "cell_type": "markdown",
   "metadata": {},
   "source": [
    "The most tweets for golden retrievers were in 2017, and these tweets were often high in volume on Mondays and followed by Sundays, so if any paid advertising was to be done, Mondays and Sundays would be a suitable time."
   ]
  },
  {
   "cell_type": "code",
   "execution_count": 181,
   "metadata": {},
   "outputs": [],
   "source": [
    "golden_group_source = golden_retriever.groupby([\"breed\",\"source\"])[\"breed\"].count().to_frame()\n",
    "golden_group_source = golden_group_source.droplevel(0).reset_index()\n",
    "golden_group_source.rename(columns = {'breed':'value'}, inplace = True)\n",
    "golden_group_source[\"breed\"] = \"golden_retriever\""
   ]
  },
  {
   "cell_type": "code",
   "execution_count": 182,
   "metadata": {},
   "outputs": [
    {
     "data": {
      "text/plain": [
       "([<matplotlib.patches.Wedge at 0x10d7708ecc8>],\n",
       " [Text(-1.1, 1.3471114790620887e-16, 'Twitter for iPhone')])"
      ]
     },
     "execution_count": 182,
     "metadata": {},
     "output_type": "execute_result"
    },
    {
     "data": {
      "image/png": "[encoded data removed]",
      "text/plain": [
       "<Figure size 432x288 with 1 Axes>"
      ]
     },
     "metadata": {},
     "output_type": "display_data"
    }
   ],
   "source": [
    "plt.pie(golden_group_source.value, labels = golden_group_source.source)"
   ]
  },
  {
   "cell_type": "markdown",
   "metadata": {},
   "source": [
    "We can observe that the majority of tweets on golden retrievers are sent from an iPhone."
   ]
  },
  {
   "cell_type": "markdown",
   "metadata": {},
   "source": [
    "\n",
    "## Step 6: Reporting"
   ]
  },
  {
   "cell_type": "markdown",
   "metadata": {},
   "source": [
    "I have attached appropriate documentation for the data wrangling steps: gather, assess, and clean in a \"wrangle_report.html\" file and documentation of analysis and insights into final data in a \"act_report.html\" file."
   ]
  }
 ],
 "metadata": {
  "extensions": {
   "jupyter_dashboards": {
    "activeView": "report_default",
    "version": 1,
    "views": {
     "grid_default": {
      "cellMargin": 10,
      "defaultCellHeight": 20,
      "maxColumns": 12,
      "name": "grid",
      "type": "grid"
     },
     "report_default": {
      "name": "report",
      "type": "report"
     }
    }
   }
  },
  "kernelspec": {
   "display_name": "Python 3",
   "language": "python",
   "name": "python3"
  },
  "language_info": {
   "codemirror_mode": {
    "name": "ipython",
    "version": 3
   },
   "file_extension": ".py",
   "mimetype": "text/x-python",
   "name": "python",
   "nbconvert_exporter": "python",
   "pygments_lexer": "ipython3",
   "version": "3.7.6"
  }
 },
 "nbformat": 4,
 "nbformat_minor": 2
}
